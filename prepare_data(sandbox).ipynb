{
 "cells": [
  {
   "cell_type": "code",
   "execution_count": 1,
   "metadata": {},
   "outputs": [
    {
     "name": "stderr",
     "output_type": "stream",
     "text": [
      "Using TensorFlow backend.\n"
     ]
    }
   ],
   "source": [
    "import tensorflow as tf\n",
    "import scipy.io \n",
    "import matplotlib.pyplot as plt\n",
    "import cv2\n",
    "import keras\n",
    "from glob import glob\n",
    "import numpy as np\n",
    "from tqdm import tqdm\n",
    "import os\n",
    "from PIL import Image\n",
    "import pandas as pd\n",
    "import cv2\n",
    "\n",
    "from sklearn.model_selection import KFold\n",
    "# from keras.preprocessing.image import ImageDataGenerator\n",
    "\n",
    "# import keras_metrics\n",
    "\n",
    "from keras.applications import mobilenet, resnet50 #, vgg16, inception_v3, resnet50, \n",
    "from keras.optimizers import Adam\n",
    "from keras.utils import to_categorical\n",
    "from keras.callbacks import ReduceLROnPlateau, ModelCheckpoint, History\n",
    "\n",
    "from keras.preprocessing.image import load_img\n",
    "from keras.preprocessing.image import img_to_array\n",
    "\n",
    "import logging\n",
    "# logging.getLogger().setLevel(logging.DEBUG)\n",
    "\n",
    "\n",
    "from scikitplot.metrics import plot_roc_curve"
   ]
  },
  {
   "cell_type": "code",
   "execution_count": 2,
   "metadata": {},
   "outputs": [
    {
     "data": {
      "text/plain": [
       "'2.2.4'"
      ]
     },
     "execution_count": 2,
     "metadata": {},
     "output_type": "execute_result"
    }
   ],
   "source": [
    "keras.__version__"
   ]
  },
  {
   "cell_type": "raw",
   "metadata": {},
   "source": [
    "from keras.backend.tensorflow_backend import set_session\n",
    "config = tf.ConfigProto()\n",
    "config.gpu_options.per_process_gpu_memory_fraction = 0.4\n",
    "set_session(tf.Session(config=config))"
   ]
  },
  {
   "cell_type": "markdown",
   "metadata": {},
   "source": [
    "## Params"
   ]
  },
  {
   "cell_type": "code",
   "execution_count": 3,
   "metadata": {},
   "outputs": [],
   "source": [
    "# all_data_dir = 'E:\\\\Work/PathoBarIlan/Shlomi2018/'# '/media/leetwito/DATA/Datasets/PathoBarIlan/Shlomi2018'\n",
    "all_data_dir = '/media/leetwito/DATA/Datasets/PathoBarIlan/Shlomi2018'\n",
    "\n",
    "is_relative_path_csv = False\n",
    "seed = 4221\n",
    "\n",
    "pos_name_init = 'Cancer'\n",
    "neg_name_init = 'Normal'\n",
    "\n",
    "use_rgb = False # True=rgb, False=spectral\n",
    "if use_rgb:\n",
    "    file_ext = '.png'\n",
    "else:\n",
    "    file_ext = '.npy'\n",
    "    \n",
    "window_size = (200, 200)\n",
    "shift = (100, 100)"
   ]
  },
  {
   "cell_type": "code",
   "execution_count": 4,
   "metadata": {},
   "outputs": [],
   "source": [
    "w,h = window_size\n",
    "if use_rgb:\n",
    "    input_shape = (w,h,3)\n",
    "else:\n",
    "    input_shape = (w,h,40)\n",
    "batch_size = 16"
   ]
  },
  {
   "cell_type": "markdown",
   "metadata": {},
   "source": [
    "## utils"
   ]
  },
  {
   "cell_type": "code",
   "execution_count": 5,
   "metadata": {},
   "outputs": [],
   "source": [
    "def read_slide(path):\n",
    "    mat = scipy.io.loadmat(path)\n",
    "    spectral = mat[\"Spec\"]\n",
    "    rgb = mat[\"Section\"]\n",
    "    shape = rgb.shape\n",
    "    \n",
    "    return spectral, rgb"
   ]
  },
  {
   "cell_type": "code",
   "execution_count": 6,
   "metadata": {},
   "outputs": [],
   "source": [
    "def create_batch_of_crops_from_slide(img, window_size, shift, vis_flag=False):\n",
    "    crops = []\n",
    "\n",
    "    n_iter_x = (img.shape[1]-window_size[0])//shift[0] + 1\n",
    "\n",
    "    n_iter_y = (img.shape[0]-window_size[1])//shift[1] + 1\n",
    "\n",
    "#     n_iter_x, n_iter_y\n",
    "\n",
    "    for i in range(n_iter_x):\n",
    "        for j in range(n_iter_y):\n",
    "            init_y = i*shift[0]\n",
    "            init_x = j*shift[1]\n",
    "        \n",
    "            crops.append(img[init_x:init_x+window_size[0], init_y:init_y+window_size[1], :])\n",
    "    if vis_flag:\n",
    "        visualize_batch_of_crops(crops, n_iter_y, n_iter_x)\n",
    "    return crops"
   ]
  },
  {
   "cell_type": "code",
   "execution_count": 7,
   "metadata": {},
   "outputs": [],
   "source": [
    "def visualize_batch_of_crops(crops, n_iter_y, n_iter_x):\n",
    "    fig, axes = plt.subplots(n_iter_y, n_iter_x, figsize=(5, 5), gridspec_kw = {'wspace':0, 'hspace':0})\n",
    "\n",
    "    for i in range(n_iter_x):\n",
    "        for j in range(n_iter_y):\n",
    "            axes[j, i].imshow(crops[i*n_iter_y + j])\n",
    "            axes[j, i].axis('off')\n",
    "            axes[j, i].set_aspect('equal')\n",
    "    plt.show()"
   ]
  },
  {
   "cell_type": "code",
   "execution_count": 8,
   "metadata": {},
   "outputs": [],
   "source": [
    "def create_crops_from_fileslist(fileslist, window_size, shift):\n",
    "    rgb_crops = []\n",
    "    spectral_crops = []\n",
    "    labels = []\n",
    "\n",
    "    for file in tqdm(fileslist):\n",
    "#         file_name = os.path.basename(file)\n",
    "#         print('Saving crops for file {} ...'.format(file_name))\n",
    "#         print(file)\n",
    "        spectral, rgb = read_slide(file)\n",
    "        spectral_crops = create_batch_of_crops_from_slide(spectral, window_size=window_size, shift=shift)\n",
    "        rgb_crops = create_batch_of_crops_from_slide(rgb, window_size=window_size, shift=shift)\n",
    "        save_dir = file.replace('.mat', '_win{}-{}_shift{}-{}'.format(window_size[0], window_size[1], shift[0], shift[1]))\n",
    "        if not os.path.exists(save_dir):\n",
    "            os.makedirs(save_dir)\n",
    "        for idx, (im_np, spec_np) in enumerate(zip(rgb_crops, spectral_crops)):\n",
    "            im = Image.fromarray(im_np)\n",
    "            im.save(os.path.join(save_dir, '{:05}.png'.format(idx)))\n",
    "            np.save(os.path.join(save_dir, '{:05}.npy'.format(idx)), spec_np)\n"
   ]
  },
  {
   "cell_type": "code",
   "execution_count": 9,
   "metadata": {},
   "outputs": [],
   "source": [
    "def create_crops_from_dir(dir_path, window_size, shift):\n",
    "    print('Saving crops for slides in dir: {}'.format(dir_path))\n",
    "    fileslist = glob(dir_path + '/*.mat')\n",
    "    create_crops_from_fileslist(fileslist, window_size, shift)"
   ]
  },
  {
   "cell_type": "code",
   "execution_count": 10,
   "metadata": {},
   "outputs": [],
   "source": [
    "def create_csv_for_folder(data_dir, ext):\n",
    "    if ext[0] == '.':\n",
    "        ext = ext[1:]\n",
    "    data_df = pd.DataFrame(columns=['filename', 'label'])\n",
    "    files = glob(os.path.join(data_dir,'*', '*.{}'.format(ext)))\n",
    "    files = [file for file in files if \"Mixed\" not in file]\n",
    "#     print(data_dir+'/*/*.{}'.format(ext))\n",
    "    \n",
    "    init_len = len(data_dir)\n",
    "    delete_folder = all_data_dir\n",
    "    if not is_relative_path_csv:\n",
    "        delete_folder = '/'\n",
    "    if not delete_folder[-1] == '/':\n",
    "        delete_folder += '/'\n",
    "    files = [file.replace(delete_folder, '/') for file in files]\n",
    "#     print(files)\n",
    "    labels = [1 if pos_name_init in file else 0 for file in files]\n",
    "#     print(labels)\n",
    "    data_df['filename'] = files\n",
    "    data_df['label'] = labels\n",
    "#     data_df.to_csv(os.path.join(data_dir, os.path.basename(data_dir)+'.csv'), index=False)\n",
    "#     print('Created CSV successfully for folder {}'.format(data_dir))\n",
    "    \n",
    "    return data_df    "
   ]
  },
  {
   "cell_type": "code",
   "execution_count": 11,
   "metadata": {},
   "outputs": [
    {
     "data": {
      "text/plain": [
       "['/media/leetwito/DATA/Datasets/PathoBarIlan/Shlomi2018/Case10/',\n",
       " '/media/leetwito/DATA/Datasets/PathoBarIlan/Shlomi2018/Case11/',\n",
       " '/media/leetwito/DATA/Datasets/PathoBarIlan/Shlomi2018/Case12/',\n",
       " '/media/leetwito/DATA/Datasets/PathoBarIlan/Shlomi2018/Case14/',\n",
       " '/media/leetwito/DATA/Datasets/PathoBarIlan/Shlomi2018/Case16/',\n",
       " '/media/leetwito/DATA/Datasets/PathoBarIlan/Shlomi2018/Case16b/',\n",
       " '/media/leetwito/DATA/Datasets/PathoBarIlan/Shlomi2018/Case17/',\n",
       " '/media/leetwito/DATA/Datasets/PathoBarIlan/Shlomi2018/Case18/',\n",
       " '/media/leetwito/DATA/Datasets/PathoBarIlan/Shlomi2018/Case19484/',\n",
       " '/media/leetwito/DATA/Datasets/PathoBarIlan/Shlomi2018/Case8/']"
      ]
     },
     "execution_count": 11,
     "metadata": {},
     "output_type": "execute_result"
    }
   ],
   "source": [
    "slides = glob(os.path.join(all_data_dir, \"*/\"))\n",
    "slides"
   ]
  },
  {
   "cell_type": "code",
   "execution_count": 12,
   "metadata": {},
   "outputs": [
    {
     "name": "stdout",
     "output_type": "stream",
     "text": [
      "TRAIN: [2 3 4 5 6 7 8 9] TEST: [0 1]\n",
      "TRAIN: [0 1 2 3 5 7 8 9] TEST: [4 6]\n",
      "TRAIN: [0 1 3 4 5 6 7 8] TEST: [2 9]\n",
      "TRAIN: [0 1 2 4 6 7 8 9] TEST: [3 5]\n",
      "TRAIN: [0 1 2 3 4 5 6 9] TEST: [7 8]\n"
     ]
    }
   ],
   "source": [
    "skf = KFold(n_splits=5, shuffle=True, random_state=seed)\n",
    "\n",
    "train_slides_all = []\n",
    "test_slides_all = []\n",
    "val_slides_all = []\n",
    "\n",
    "for train_index, test_index in skf.split(np.arange(len(slides)).T, np.arange(len(slides)).T):\n",
    "    print(\"TRAIN:\", train_index, \"TEST:\", test_index)\n",
    "    train_slides_all.append(train_index)\n",
    "    val_slides_all.append([test_index[0]])\n",
    "    test_slides_all.append([test_index[1]])"
   ]
  },
  {
   "cell_type": "code",
   "execution_count": 13,
   "metadata": {},
   "outputs": [
    {
     "data": {
      "text/plain": [
       "(array([0, 1, 2, 4, 6, 7, 8, 9]), [3], [5])"
      ]
     },
     "execution_count": 13,
     "metadata": {},
     "output_type": "execute_result"
    }
   ],
   "source": [
    "i = 3 # take one of the K-Folds\n",
    "\n",
    "train_index = train_slides_all[i]\n",
    "val_index = val_slides_all[i]\n",
    "test_index = test_slides_all[i]\n",
    "\n",
    "train_index, val_index, test_index"
   ]
  },
  {
   "cell_type": "code",
   "execution_count": 14,
   "metadata": {},
   "outputs": [],
   "source": [
    "def get_dfs_for_indices(slides, index_list):\n",
    "    dfs = []\n",
    "    for slide in np.array(slides)[index_list]:\n",
    "        data_dir = slide\n",
    "        dfs.append(create_csv_for_folder(data_dir, file_ext))\n",
    "    df = pd.concat(dfs, ignore_index=True)\n",
    "    df = df.sample(frac=1, random_state=seed)  # frac=1 is same as shuffling df.\n",
    "    return df"
   ]
  },
  {
   "cell_type": "code",
   "execution_count": 15,
   "metadata": {},
   "outputs": [],
   "source": [
    "df_train = get_dfs_for_indices(slides, train_index)\n",
    "df_test = get_dfs_for_indices(slides, test_index)\n",
    "df_val = get_dfs_for_indices(slides, val_index)"
   ]
  },
  {
   "cell_type": "raw",
   "metadata": {},
   "source": [
    "df_train.to_csv(os.path.join(all_data_dir, 'train_files.csv'), index=False)\n",
    "df_val.to_csv(os.path.join(all_data_dir, 'val_files.csv'), index=False)\n",
    "df_test.to_csv(os.path.join(all_data_dir, 'test_files.csv'), index=False)"
   ]
  },
  {
   "cell_type": "code",
   "execution_count": 16,
   "metadata": {},
   "outputs": [],
   "source": [
    "pd.options.display.max_colwidth = 150"
   ]
  },
  {
   "cell_type": "code",
   "execution_count": 17,
   "metadata": {},
   "outputs": [
    {
     "name": "stdout",
     "output_type": "stream",
     "text": [
      "2992\n",
      "2992\n",
      "2\n",
      "2\n"
     ]
    }
   ],
   "source": [
    "print(len(df_train.index.values))\n",
    "print(len(set(df_train.index.values)))\n",
    "\n",
    "print(len(df_train.columns.values))\n",
    "print(len(set(df_train.columns.values)))"
   ]
  },
  {
   "cell_type": "code",
   "execution_count": 18,
   "metadata": {},
   "outputs": [],
   "source": [
    "assert len(set(df_train.label.values)) == 2 and len(set(df_val.label.values)) == 2 and len(set(df_test.label.values)) == 2  "
   ]
  },
  {
   "cell_type": "code",
   "execution_count": null,
   "metadata": {},
   "outputs": [],
   "source": []
  },
  {
   "cell_type": "raw",
   "metadata": {},
   "source": [
    "df_train = df_train[:35]\n",
    "df_test = df_train\n",
    "df_val = df_train"
   ]
  },
  {
   "cell_type": "raw",
   "metadata": {},
   "source": [
    "n_batches_train = df_train.shape[0]//batch_size\n",
    "n_batches_test = df_test.shape[0]//batch_size\n",
    "n_batches_val = df_val.shape[0]//batch_size"
   ]
  },
  {
   "cell_type": "raw",
   "metadata": {},
   "source": [
    "df = df_train"
   ]
  },
  {
   "cell_type": "code",
   "execution_count": null,
   "metadata": {},
   "outputs": [],
   "source": []
  },
  {
   "cell_type": "code",
   "execution_count": 19,
   "metadata": {},
   "outputs": [],
   "source": [
    "def batch_norm(x):\n",
    "#     print(\"x.shape:\", x.shape)\n",
    "    maxi = x.max(axis=1).max(axis=1)\n",
    "#     print(\"maxi.shape:\", maxi.shape)\n",
    "    maxi = np.repeat(maxi[:, np.newaxis, : ], window_size[0], axis=1)\n",
    "    maxi = np.repeat(maxi[:, np.newaxis, : ], window_size[1], axis=1)\n",
    "    return x/maxi\n",
    "\n",
    "\n",
    "def generator_from_df(df, batch_size, shuffle=True): \n",
    "    \n",
    "    n_batches = df.shape[0]//batch_size\n",
    "    while True:\n",
    "        if shuffle:\n",
    "            df_tmp = df.copy().sample(frac=1)  # frac=1 is same as shuffling df.\n",
    "        else:\n",
    "            df_tmp = df\n",
    "        \n",
    "        for i in range(n_batches):\n",
    "            sub = df_tmp.iloc[batch_size*i:batch_size*(i+1)]\n",
    "            if use_rgb:\n",
    "                X = [img_to_array(load_img(f, target_size=input_shape)) for f in sub.filename]\n",
    "            else:\n",
    "                X = [np.load(f) for f in sub.filename]\n",
    "                \n",
    "            X = batch_norm(np.stack(X))\n",
    "            logging.debug(\"from file {}\\nto file {}\".format(sub.iloc[0].filename, sub.iloc[-1].filename))\n",
    "\n",
    "            Y = sub.label.values\n",
    "            Y = to_categorical(Y, num_classes=2)\n",
    "            # Simple model, one input, one output.\n",
    "            \n",
    "            yield X, Y"
   ]
  },
  {
   "cell_type": "raw",
   "metadata": {},
   "source": [
    "train_generator = generator_from_df(df_train.iloc[:42], batch_size, shuffle=False)"
   ]
  },
  {
   "cell_type": "raw",
   "metadata": {},
   "source": [
    "df.filename.reset_index(drop=True)[:42]"
   ]
  },
  {
   "cell_type": "raw",
   "metadata": {},
   "source": [
    "X, y = next(train_generator)"
   ]
  },
  {
   "cell_type": "raw",
   "metadata": {},
   "source": [
    "X.shape"
   ]
  },
  {
   "cell_type": "raw",
   "metadata": {},
   "source": [
    "y.shape"
   ]
  },
  {
   "cell_type": "markdown",
   "metadata": {},
   "source": [
    "####### copying generator_from_df:\n",
    "https://gist.github.com/timehaven/257eef5b0e2d9e2625a9eb812ca2226b#file-akmtdfgen-py"
   ]
  },
  {
   "cell_type": "raw",
   "metadata": {},
   "source": [
    "def sample_norm(X):\n",
    "#     X = X - X.min()\n",
    "#     X = X / X.max()\n",
    "#     X = X - 0.5\n",
    "    # print(X.min(), X.max()) -> (-0.5, 0.5)\n",
    "    \n",
    "#     X = X / 255.\n",
    "    return X\n",
    "\n",
    "def generator_from_df(df, batch_size, shuffle=True): \n",
    "#     print(df.iloc[1])\n",
    "    nbatches, n_skipped_per_epoch = divmod(df.shape[0], batch_size)\n",
    "    count = 1\n",
    "    epoch = 0\n",
    "    while 1:\n",
    "        if shuffle:\n",
    "            df = df.sample(frac=1)  # frac=1 is same as shuffling df.\n",
    "        epoch += 1\n",
    "        i, j = 0, batch_size\n",
    "        # Mini-batches within epoch.\n",
    "        mini_batches_completed = 0\n",
    "        for _ in range(nbatches):\n",
    "#             print(\"Top of generator for loop, epoch / count / i / j = %d / %d / %d / %d\" % (epoch, count, i, j))\n",
    "            sub = df.iloc[i:j]\n",
    "            # preprocess_input()\n",
    "            # https://github.com/fchollet/keras/blob/master/keras/applications/inception_v3.py#L389\n",
    "            if use_rgb:\n",
    "                X = [sample_norm(img_to_array(load_img(f, target_size=input_shape))) for f in sub.filename]\n",
    "            else:\n",
    "                X = [sample_norm(np.load(f)) for f in sub.filename]\n",
    "                     # Resizing on the fly is efficient enough for\n",
    "                     # pre-caching when a GPU is training a\n",
    "                     # mini-batch.  Here is where some additional\n",
    "                     # data augmentation could take place.\n",
    "#                          (img_to_array(load_img(f, target_size=target_size))\n",
    "            X = np.stack(X)\n",
    "            Y = sub.label.values\n",
    "            Y = to_categorical(Y, num_classes=2)\n",
    "            # Simple model, one input, one output.\n",
    "            mini_batches_completed += 1\n",
    "            i = j \n",
    "            j += batch_size\n",
    "            yield X, Y"
   ]
  },
  {
   "cell_type": "raw",
   "metadata": {},
   "source": [
    "df_train = df_train[:batch_size]\n",
    "df_val = df_val[:batch_size]\n",
    "df_test = df_test[:batch_size]\n",
    "\n",
    "# df_val = df_train[:batch_size]\n",
    "# df_test = df_train[:batch_size]\n",
    "# assert(df_val == df_train).values.all()"
   ]
  },
  {
   "cell_type": "raw",
   "metadata": {},
   "source": [
    "df_val = df_train\n",
    "df_test = df_train"
   ]
  },
  {
   "cell_type": "code",
   "execution_count": 20,
   "metadata": {},
   "outputs": [],
   "source": [
    "train_generator = generator_from_df(df_train, batch_size)\n",
    "val_generator = generator_from_df(df_val, batch_size)\n",
    "test_generator = generator_from_df(df_test, batch_size, shuffle=False)"
   ]
  },
  {
   "cell_type": "raw",
   "metadata": {},
   "source": [
    "for xx, yy in train_generator:\n",
    "    print(xx.shape, \"\\n\", yy)\n",
    "    break"
   ]
  },
  {
   "cell_type": "code",
   "execution_count": 21,
   "metadata": {},
   "outputs": [
    {
     "name": "stderr",
     "output_type": "stream",
     "text": [
      "/media/leetwito/Windows/Users/leetw/PycharmProjects/venvs/keras/lib/python3.5/site-packages/keras_applications/imagenet_utils.py:279: UserWarning: This model usually expects 1 or 3 input channels. However, it was passed an input_shape with 40 input channels.\n",
      "  str(input_shape[-1]) + ' input channels.')\n"
     ]
    }
   ],
   "source": [
    "# input_shape = train_generator.image_shape\n",
    "mobilenet_model = mobilenet.MobileNet(include_top=True, weights=None, input_shape=input_shape, classes=2, dropout=0.2)\n",
    "# mobilenet_model = resnet50.ResNet50(include_top=True, weights=None, input_shape=input_shape, classes=2)"
   ]
  },
  {
   "cell_type": "code",
   "execution_count": 22,
   "metadata": {
    "scrolled": true
   },
   "outputs": [
    {
     "name": "stdout",
     "output_type": "stream",
     "text": [
      "_________________________________________________________________\n",
      "Layer (type)                 Output Shape              Param #   \n",
      "=================================================================\n",
      "input_1 (InputLayer)         (None, 200, 200, 40)      0         \n",
      "_________________________________________________________________\n",
      "conv1_pad (ZeroPadding2D)    (None, 201, 201, 40)      0         \n",
      "_________________________________________________________________\n",
      "conv1 (Conv2D)               (None, 100, 100, 32)      11520     \n",
      "_________________________________________________________________\n",
      "conv1_bn (BatchNormalization (None, 100, 100, 32)      128       \n",
      "_________________________________________________________________\n",
      "conv1_relu (ReLU)            (None, 100, 100, 32)      0         \n",
      "_________________________________________________________________\n",
      "conv_dw_1 (DepthwiseConv2D)  (None, 100, 100, 32)      288       \n",
      "_________________________________________________________________\n",
      "conv_dw_1_bn (BatchNormaliza (None, 100, 100, 32)      128       \n",
      "_________________________________________________________________\n",
      "conv_dw_1_relu (ReLU)        (None, 100, 100, 32)      0         \n",
      "_________________________________________________________________\n",
      "conv_pw_1 (Conv2D)           (None, 100, 100, 64)      2048      \n",
      "_________________________________________________________________\n",
      "conv_pw_1_bn (BatchNormaliza (None, 100, 100, 64)      256       \n",
      "_________________________________________________________________\n",
      "conv_pw_1_relu (ReLU)        (None, 100, 100, 64)      0         \n",
      "_________________________________________________________________\n",
      "conv_pad_2 (ZeroPadding2D)   (None, 101, 101, 64)      0         \n",
      "_________________________________________________________________\n",
      "conv_dw_2 (DepthwiseConv2D)  (None, 50, 50, 64)        576       \n",
      "_________________________________________________________________\n",
      "conv_dw_2_bn (BatchNormaliza (None, 50, 50, 64)        256       \n",
      "_________________________________________________________________\n",
      "conv_dw_2_relu (ReLU)        (None, 50, 50, 64)        0         \n",
      "_________________________________________________________________\n",
      "conv_pw_2 (Conv2D)           (None, 50, 50, 128)       8192      \n",
      "_________________________________________________________________\n",
      "conv_pw_2_bn (BatchNormaliza (None, 50, 50, 128)       512       \n",
      "_________________________________________________________________\n",
      "conv_pw_2_relu (ReLU)        (None, 50, 50, 128)       0         \n",
      "_________________________________________________________________\n",
      "conv_dw_3 (DepthwiseConv2D)  (None, 50, 50, 128)       1152      \n",
      "_________________________________________________________________\n",
      "conv_dw_3_bn (BatchNormaliza (None, 50, 50, 128)       512       \n",
      "_________________________________________________________________\n",
      "conv_dw_3_relu (ReLU)        (None, 50, 50, 128)       0         \n",
      "_________________________________________________________________\n",
      "conv_pw_3 (Conv2D)           (None, 50, 50, 128)       16384     \n",
      "_________________________________________________________________\n",
      "conv_pw_3_bn (BatchNormaliza (None, 50, 50, 128)       512       \n",
      "_________________________________________________________________\n",
      "conv_pw_3_relu (ReLU)        (None, 50, 50, 128)       0         \n",
      "_________________________________________________________________\n",
      "conv_pad_4 (ZeroPadding2D)   (None, 51, 51, 128)       0         \n",
      "_________________________________________________________________\n",
      "conv_dw_4 (DepthwiseConv2D)  (None, 25, 25, 128)       1152      \n",
      "_________________________________________________________________\n",
      "conv_dw_4_bn (BatchNormaliza (None, 25, 25, 128)       512       \n",
      "_________________________________________________________________\n",
      "conv_dw_4_relu (ReLU)        (None, 25, 25, 128)       0         \n",
      "_________________________________________________________________\n",
      "conv_pw_4 (Conv2D)           (None, 25, 25, 256)       32768     \n",
      "_________________________________________________________________\n",
      "conv_pw_4_bn (BatchNormaliza (None, 25, 25, 256)       1024      \n",
      "_________________________________________________________________\n",
      "conv_pw_4_relu (ReLU)        (None, 25, 25, 256)       0         \n",
      "_________________________________________________________________\n",
      "conv_dw_5 (DepthwiseConv2D)  (None, 25, 25, 256)       2304      \n",
      "_________________________________________________________________\n",
      "conv_dw_5_bn (BatchNormaliza (None, 25, 25, 256)       1024      \n",
      "_________________________________________________________________\n",
      "conv_dw_5_relu (ReLU)        (None, 25, 25, 256)       0         \n",
      "_________________________________________________________________\n",
      "conv_pw_5 (Conv2D)           (None, 25, 25, 256)       65536     \n",
      "_________________________________________________________________\n",
      "conv_pw_5_bn (BatchNormaliza (None, 25, 25, 256)       1024      \n",
      "_________________________________________________________________\n",
      "conv_pw_5_relu (ReLU)        (None, 25, 25, 256)       0         \n",
      "_________________________________________________________________\n",
      "conv_pad_6 (ZeroPadding2D)   (None, 26, 26, 256)       0         \n",
      "_________________________________________________________________\n",
      "conv_dw_6 (DepthwiseConv2D)  (None, 12, 12, 256)       2304      \n",
      "_________________________________________________________________\n",
      "conv_dw_6_bn (BatchNormaliza (None, 12, 12, 256)       1024      \n",
      "_________________________________________________________________\n",
      "conv_dw_6_relu (ReLU)        (None, 12, 12, 256)       0         \n",
      "_________________________________________________________________\n",
      "conv_pw_6 (Conv2D)           (None, 12, 12, 512)       131072    \n",
      "_________________________________________________________________\n",
      "conv_pw_6_bn (BatchNormaliza (None, 12, 12, 512)       2048      \n",
      "_________________________________________________________________\n",
      "conv_pw_6_relu (ReLU)        (None, 12, 12, 512)       0         \n",
      "_________________________________________________________________\n",
      "conv_dw_7 (DepthwiseConv2D)  (None, 12, 12, 512)       4608      \n",
      "_________________________________________________________________\n",
      "conv_dw_7_bn (BatchNormaliza (None, 12, 12, 512)       2048      \n",
      "_________________________________________________________________\n",
      "conv_dw_7_relu (ReLU)        (None, 12, 12, 512)       0         \n",
      "_________________________________________________________________\n",
      "conv_pw_7 (Conv2D)           (None, 12, 12, 512)       262144    \n",
      "_________________________________________________________________\n",
      "conv_pw_7_bn (BatchNormaliza (None, 12, 12, 512)       2048      \n",
      "_________________________________________________________________\n",
      "conv_pw_7_relu (ReLU)        (None, 12, 12, 512)       0         \n",
      "_________________________________________________________________\n",
      "conv_dw_8 (DepthwiseConv2D)  (None, 12, 12, 512)       4608      \n",
      "_________________________________________________________________\n",
      "conv_dw_8_bn (BatchNormaliza (None, 12, 12, 512)       2048      \n",
      "_________________________________________________________________\n",
      "conv_dw_8_relu (ReLU)        (None, 12, 12, 512)       0         \n",
      "_________________________________________________________________\n",
      "conv_pw_8 (Conv2D)           (None, 12, 12, 512)       262144    \n",
      "_________________________________________________________________\n",
      "conv_pw_8_bn (BatchNormaliza (None, 12, 12, 512)       2048      \n",
      "_________________________________________________________________\n",
      "conv_pw_8_relu (ReLU)        (None, 12, 12, 512)       0         \n",
      "_________________________________________________________________\n",
      "conv_dw_9 (DepthwiseConv2D)  (None, 12, 12, 512)       4608      \n",
      "_________________________________________________________________\n",
      "conv_dw_9_bn (BatchNormaliza (None, 12, 12, 512)       2048      \n",
      "_________________________________________________________________\n",
      "conv_dw_9_relu (ReLU)        (None, 12, 12, 512)       0         \n",
      "_________________________________________________________________\n",
      "conv_pw_9 (Conv2D)           (None, 12, 12, 512)       262144    \n",
      "_________________________________________________________________\n",
      "conv_pw_9_bn (BatchNormaliza (None, 12, 12, 512)       2048      \n",
      "_________________________________________________________________\n",
      "conv_pw_9_relu (ReLU)        (None, 12, 12, 512)       0         \n",
      "_________________________________________________________________\n",
      "conv_dw_10 (DepthwiseConv2D) (None, 12, 12, 512)       4608      \n",
      "_________________________________________________________________\n",
      "conv_dw_10_bn (BatchNormaliz (None, 12, 12, 512)       2048      \n",
      "_________________________________________________________________\n",
      "conv_dw_10_relu (ReLU)       (None, 12, 12, 512)       0         \n",
      "_________________________________________________________________\n",
      "conv_pw_10 (Conv2D)          (None, 12, 12, 512)       262144    \n",
      "_________________________________________________________________\n",
      "conv_pw_10_bn (BatchNormaliz (None, 12, 12, 512)       2048      \n",
      "_________________________________________________________________\n",
      "conv_pw_10_relu (ReLU)       (None, 12, 12, 512)       0         \n",
      "_________________________________________________________________\n",
      "conv_dw_11 (DepthwiseConv2D) (None, 12, 12, 512)       4608      \n",
      "_________________________________________________________________\n",
      "conv_dw_11_bn (BatchNormaliz (None, 12, 12, 512)       2048      \n",
      "_________________________________________________________________\n",
      "conv_dw_11_relu (ReLU)       (None, 12, 12, 512)       0         \n",
      "_________________________________________________________________\n",
      "conv_pw_11 (Conv2D)          (None, 12, 12, 512)       262144    \n",
      "_________________________________________________________________\n",
      "conv_pw_11_bn (BatchNormaliz (None, 12, 12, 512)       2048      \n",
      "_________________________________________________________________\n",
      "conv_pw_11_relu (ReLU)       (None, 12, 12, 512)       0         \n",
      "_________________________________________________________________\n",
      "conv_pad_12 (ZeroPadding2D)  (None, 13, 13, 512)       0         \n",
      "_________________________________________________________________\n",
      "conv_dw_12 (DepthwiseConv2D) (None, 6, 6, 512)         4608      \n",
      "_________________________________________________________________\n",
      "conv_dw_12_bn (BatchNormaliz (None, 6, 6, 512)         2048      \n",
      "_________________________________________________________________\n",
      "conv_dw_12_relu (ReLU)       (None, 6, 6, 512)         0         \n",
      "_________________________________________________________________\n",
      "conv_pw_12 (Conv2D)          (None, 6, 6, 1024)        524288    \n",
      "_________________________________________________________________\n",
      "conv_pw_12_bn (BatchNormaliz (None, 6, 6, 1024)        4096      \n",
      "_________________________________________________________________\n",
      "conv_pw_12_relu (ReLU)       (None, 6, 6, 1024)        0         \n",
      "_________________________________________________________________\n",
      "conv_dw_13 (DepthwiseConv2D) (None, 6, 6, 1024)        9216      \n",
      "_________________________________________________________________\n",
      "conv_dw_13_bn (BatchNormaliz (None, 6, 6, 1024)        4096      \n",
      "_________________________________________________________________\n",
      "conv_dw_13_relu (ReLU)       (None, 6, 6, 1024)        0         \n",
      "_________________________________________________________________\n",
      "conv_pw_13 (Conv2D)          (None, 6, 6, 1024)        1048576   \n",
      "_________________________________________________________________\n",
      "conv_pw_13_bn (BatchNormaliz (None, 6, 6, 1024)        4096      \n",
      "_________________________________________________________________\n",
      "conv_pw_13_relu (ReLU)       (None, 6, 6, 1024)        0         \n",
      "_________________________________________________________________\n",
      "global_average_pooling2d_1 ( (None, 1024)              0         \n",
      "_________________________________________________________________\n",
      "reshape_1 (Reshape)          (None, 1, 1, 1024)        0         \n",
      "_________________________________________________________________\n",
      "dropout (Dropout)            (None, 1, 1, 1024)        0         \n",
      "_________________________________________________________________\n",
      "conv_preds (Conv2D)          (None, 1, 1, 2)           2050      \n",
      "_________________________________________________________________\n",
      "act_softmax (Activation)     (None, 1, 1, 2)           0         \n",
      "_________________________________________________________________\n",
      "reshape_2 (Reshape)          (None, 2)                 0         \n",
      "=================================================================\n",
      "Total params: 3,241,570\n",
      "Trainable params: 3,219,682\n",
      "Non-trainable params: 21,888\n",
      "_________________________________________________________________\n"
     ]
    }
   ],
   "source": [
    "mobilenet_model.summary()"
   ]
  },
  {
   "cell_type": "code",
   "execution_count": 23,
   "metadata": {},
   "outputs": [],
   "source": [
    "optimizer = Adam(lr=1e-2) # 1e-3\n",
    "mobilenet_model.compile(loss=\"binary_crossentropy\", optimizer=optimizer) #  binary_crossentropy , categorical_crossentropy\n",
    "# history = History()\n",
    "lrReduce = ReduceLROnPlateau(monitor='val_loss', factor=0.3, patience=4, verbose=1, min_lr=1e-6)\n",
    "if use_rgb:\n",
    "    chkpnt = ModelCheckpoint(\"my_models/model_rgb_weights_epoch{epoch:02d}-val_loss{val_loss:.3f}.hdf5\", save_best_only=True) # -train_loss{history.History()[loss][-1]:.2f}\n",
    "else:\n",
    "    chkpnt = ModelCheckpoint(\"my_models/model_spec_weights_epoch{epoch:02d}-val_loss{val_loss:.3f}.hdf5\", save_best_only=True) # -train_loss{history.History()[loss][-1]:.2f}\n",
    "num_of_epochs = 100"
   ]
  },
  {
   "cell_type": "raw",
   "metadata": {},
   "source": [
    "# continue training\n",
    "STEP_SIZE_TRAIN=len(df_train)//batch_size\n",
    "STEP_SIZE_VALID=len(df_val)//batch_size\n",
    "# pretrained_model_path = '/media/leetwito/Windows/Users/leetw/PycharmProjects/PathoBarIlan/my_models/model_spec_weights_epoch15-val_loss0.001.hdf5'\n",
    "pretrained_model_path = all_data_dir + \"models/model_spec_weights_epoch15-val_loss0.001.hdf5'\"\n",
    "# loaded_model = keras.models.load_model(pretrained_model_path)\n",
    "history = loaded_model.fit_generator(generator=train_generator,\n",
    "                    steps_per_epoch=STEP_SIZE_TRAIN,\n",
    "                    validation_data=val_generator,\n",
    "                    validation_steps=STEP_SIZE_VALID,\n",
    "                    epochs=num_of_epochs, callbacks=[lrReduce, chkpnt], shuffle=False) # chkpnt"
   ]
  },
  {
   "cell_type": "code",
   "execution_count": 24,
   "metadata": {
    "scrolled": false
   },
   "outputs": [
    {
     "name": "stdout",
     "output_type": "stream",
     "text": [
      "Epoch 1/100\n",
      "187/187 [==============================] - 786s 4s/step - loss: 0.2006 - val_loss: 3.1605\n",
      "Epoch 2/100\n",
      "187/187 [==============================] - 746s 4s/step - loss: 0.1009 - val_loss: 5.9719\n",
      "Epoch 3/100\n",
      "187/187 [==============================] - 766s 4s/step - loss: 0.1119 - val_loss: 1.1808\n",
      "Epoch 4/100\n",
      "187/187 [==============================] - 760s 4s/step - loss: 0.0614 - val_loss: 2.4764\n",
      "Epoch 5/100\n",
      "187/187 [==============================] - 763s 4s/step - loss: 0.0642 - val_loss: 6.7050\n",
      "Epoch 6/100\n",
      "187/187 [==============================] - 762s 4s/step - loss: 0.0780 - val_loss: 0.1213\n",
      "Epoch 7/100\n",
      "187/187 [==============================] - 759s 4s/step - loss: 0.0657 - val_loss: 0.3176\n",
      "Epoch 8/100\n",
      "187/187 [==============================] - 759s 4s/step - loss: 0.0544 - val_loss: 0.0388\n",
      "Epoch 9/100\n",
      "187/187 [==============================] - 766s 4s/step - loss: 0.0394 - val_loss: 0.0165\n",
      "Epoch 10/100\n",
      "187/187 [==============================] - 754s 4s/step - loss: 0.0707 - val_loss: 0.0040\n",
      "Epoch 11/100\n",
      "187/187 [==============================] - 763s 4s/step - loss: 0.0614 - val_loss: 2.5466\n",
      "Epoch 12/100\n",
      "187/187 [==============================] - 775s 4s/step - loss: 0.0543 - val_loss: 0.0928\n",
      "Epoch 13/100\n",
      "187/187 [==============================] - 755s 4s/step - loss: 0.0877 - val_loss: 0.2592\n",
      "Epoch 14/100\n",
      "187/187 [==============================] - 760s 4s/step - loss: 0.0621 - val_loss: 3.3611\n",
      "\n",
      "Epoch 00014: ReduceLROnPlateau reducing learning rate to 0.0029999999329447745.\n",
      "Epoch 15/100\n",
      "187/187 [==============================] - 774s 4s/step - loss: 0.0440 - val_loss: 0.3138\n",
      "Epoch 16/100\n",
      "187/187 [==============================] - 760s 4s/step - loss: 0.0530 - val_loss: 0.0241\n",
      "Epoch 17/100\n",
      "187/187 [==============================] - 783s 4s/step - loss: 0.0482 - val_loss: 0.0486\n",
      "Epoch 18/100\n",
      "187/187 [==============================] - 767s 4s/step - loss: 0.0353 - val_loss: 0.0012\n",
      "Epoch 19/100\n",
      "187/187 [==============================] - 768s 4s/step - loss: 0.0114 - val_loss: 0.0021\n",
      "Epoch 20/100\n",
      "187/187 [==============================] - 770s 4s/step - loss: 0.0244 - val_loss: 0.0173\n",
      "Epoch 21/100\n",
      "187/187 [==============================] - 773s 4s/step - loss: 0.0210 - val_loss: 0.0208\n",
      "Epoch 22/100\n",
      "187/187 [==============================] - 765s 4s/step - loss: 0.0235 - val_loss: 0.0356\n",
      "\n",
      "Epoch 00022: ReduceLROnPlateau reducing learning rate to 0.0009000000078231095.\n",
      "Epoch 23/100\n",
      "187/187 [==============================] - 768s 4s/step - loss: 0.0097 - val_loss: 0.0023\n",
      "Epoch 24/100\n",
      "187/187 [==============================] - 755s 4s/step - loss: 0.0073 - val_loss: 0.0036\n",
      "Epoch 25/100\n",
      "187/187 [==============================] - 772s 4s/step - loss: 0.0083 - val_loss: 0.0240\n",
      "Epoch 26/100\n",
      "187/187 [==============================] - 776s 4s/step - loss: 0.0308 - val_loss: 0.0012\n",
      "\n",
      "Epoch 00026: ReduceLROnPlateau reducing learning rate to 0.00026999999536201356.\n",
      "Epoch 27/100\n",
      "187/187 [==============================] - 790s 4s/step - loss: 0.0130 - val_loss: 0.0056\n",
      "Epoch 28/100\n",
      "187/187 [==============================] - 764s 4s/step - loss: 0.0092 - val_loss: 0.0101\n",
      "Epoch 29/100\n",
      "187/187 [==============================] - 773s 4s/step - loss: 0.0244 - val_loss: 0.0027\n",
      "Epoch 30/100\n",
      "187/187 [==============================] - 766s 4s/step - loss: 0.0358 - val_loss: 0.0122\n",
      "\n",
      "Epoch 00030: ReduceLROnPlateau reducing learning rate to 8.099999686237424e-05.\n",
      "Epoch 31/100\n",
      "187/187 [==============================] - 768s 4s/step - loss: 0.0078 - val_loss: 0.0072\n",
      "Epoch 32/100\n",
      "187/187 [==============================] - 765s 4s/step - loss: 0.0078 - val_loss: 0.0068\n",
      "Epoch 33/100\n",
      "187/187 [==============================] - 771s 4s/step - loss: 0.0061 - val_loss: 0.0073\n",
      "Epoch 34/100\n",
      "187/187 [==============================] - 771s 4s/step - loss: 0.0043 - val_loss: 0.0064\n",
      "\n",
      "Epoch 00034: ReduceLROnPlateau reducing learning rate to 2.429999949526973e-05.\n",
      "Epoch 35/100\n",
      "187/187 [==============================] - 770s 4s/step - loss: 0.0029 - val_loss: 0.0063\n",
      "Epoch 36/100\n",
      "187/187 [==============================] - 776s 4s/step - loss: 0.0042 - val_loss: 0.0065\n",
      "Epoch 37/100\n",
      "  5/187 [..............................] - ETA: 29:38 - loss: 0.0037"
     ]
    },
    {
     "ename": "KeyboardInterrupt",
     "evalue": "",
     "output_type": "error",
     "traceback": [
      "\u001b[0;31m---------------------------------------------------------------------------\u001b[0m",
      "\u001b[0;31mKeyboardInterrupt\u001b[0m                         Traceback (most recent call last)",
      "\u001b[0;32m<ipython-input-24-f6ced11a8b09>\u001b[0m in \u001b[0;36m<module>\u001b[0;34m\u001b[0m\n\u001b[1;32m      6\u001b[0m                     \u001b[0mvalidation_data\u001b[0m\u001b[0;34m=\u001b[0m\u001b[0mval_generator\u001b[0m\u001b[0;34m,\u001b[0m\u001b[0;34m\u001b[0m\u001b[0m\n\u001b[1;32m      7\u001b[0m                     \u001b[0mvalidation_steps\u001b[0m\u001b[0;34m=\u001b[0m\u001b[0mSTEP_SIZE_VALID\u001b[0m\u001b[0;34m,\u001b[0m\u001b[0;34m\u001b[0m\u001b[0m\n\u001b[0;32m----> 8\u001b[0;31m                     epochs=num_of_epochs, callbacks=[lrReduce, chkpnt], shuffle=False) # chkpnt\n\u001b[0m",
      "\u001b[0;32m/media/leetwito/Windows/Users/leetw/PycharmProjects/venvs/keras/lib/python3.5/site-packages/keras/legacy/interfaces.py\u001b[0m in \u001b[0;36mwrapper\u001b[0;34m(*args, **kwargs)\u001b[0m\n\u001b[1;32m     89\u001b[0m                 warnings.warn('Update your `' + object_name + '` call to the ' +\n\u001b[1;32m     90\u001b[0m                               'Keras 2 API: ' + signature, stacklevel=2)\n\u001b[0;32m---> 91\u001b[0;31m             \u001b[0;32mreturn\u001b[0m \u001b[0mfunc\u001b[0m\u001b[0;34m(\u001b[0m\u001b[0;34m*\u001b[0m\u001b[0margs\u001b[0m\u001b[0;34m,\u001b[0m \u001b[0;34m**\u001b[0m\u001b[0mkwargs\u001b[0m\u001b[0;34m)\u001b[0m\u001b[0;34m\u001b[0m\u001b[0m\n\u001b[0m\u001b[1;32m     92\u001b[0m         \u001b[0mwrapper\u001b[0m\u001b[0;34m.\u001b[0m\u001b[0m_original_function\u001b[0m \u001b[0;34m=\u001b[0m \u001b[0mfunc\u001b[0m\u001b[0;34m\u001b[0m\u001b[0m\n\u001b[1;32m     93\u001b[0m         \u001b[0;32mreturn\u001b[0m \u001b[0mwrapper\u001b[0m\u001b[0;34m\u001b[0m\u001b[0m\n",
      "\u001b[0;32m/media/leetwito/Windows/Users/leetw/PycharmProjects/venvs/keras/lib/python3.5/site-packages/keras/engine/training.py\u001b[0m in \u001b[0;36mfit_generator\u001b[0;34m(self, generator, steps_per_epoch, epochs, verbose, callbacks, validation_data, validation_steps, class_weight, max_queue_size, workers, use_multiprocessing, shuffle, initial_epoch)\u001b[0m\n\u001b[1;32m   1416\u001b[0m             \u001b[0muse_multiprocessing\u001b[0m\u001b[0;34m=\u001b[0m\u001b[0muse_multiprocessing\u001b[0m\u001b[0;34m,\u001b[0m\u001b[0;34m\u001b[0m\u001b[0m\n\u001b[1;32m   1417\u001b[0m             \u001b[0mshuffle\u001b[0m\u001b[0;34m=\u001b[0m\u001b[0mshuffle\u001b[0m\u001b[0;34m,\u001b[0m\u001b[0;34m\u001b[0m\u001b[0m\n\u001b[0;32m-> 1418\u001b[0;31m             initial_epoch=initial_epoch)\n\u001b[0m\u001b[1;32m   1419\u001b[0m \u001b[0;34m\u001b[0m\u001b[0m\n\u001b[1;32m   1420\u001b[0m     \u001b[0;34m@\u001b[0m\u001b[0minterfaces\u001b[0m\u001b[0;34m.\u001b[0m\u001b[0mlegacy_generator_methods_support\u001b[0m\u001b[0;34m\u001b[0m\u001b[0m\n",
      "\u001b[0;32m/media/leetwito/Windows/Users/leetw/PycharmProjects/venvs/keras/lib/python3.5/site-packages/keras/engine/training_generator.py\u001b[0m in \u001b[0;36mfit_generator\u001b[0;34m(model, generator, steps_per_epoch, epochs, verbose, callbacks, validation_data, validation_steps, class_weight, max_queue_size, workers, use_multiprocessing, shuffle, initial_epoch)\u001b[0m\n\u001b[1;32m    179\u001b[0m             \u001b[0mbatch_index\u001b[0m \u001b[0;34m=\u001b[0m \u001b[0;36m0\u001b[0m\u001b[0;34m\u001b[0m\u001b[0m\n\u001b[1;32m    180\u001b[0m             \u001b[0;32mwhile\u001b[0m \u001b[0msteps_done\u001b[0m \u001b[0;34m<\u001b[0m \u001b[0msteps_per_epoch\u001b[0m\u001b[0;34m:\u001b[0m\u001b[0;34m\u001b[0m\u001b[0m\n\u001b[0;32m--> 181\u001b[0;31m                 \u001b[0mgenerator_output\u001b[0m \u001b[0;34m=\u001b[0m \u001b[0mnext\u001b[0m\u001b[0;34m(\u001b[0m\u001b[0moutput_generator\u001b[0m\u001b[0;34m)\u001b[0m\u001b[0;34m\u001b[0m\u001b[0m\n\u001b[0m\u001b[1;32m    182\u001b[0m \u001b[0;34m\u001b[0m\u001b[0m\n\u001b[1;32m    183\u001b[0m                 \u001b[0;32mif\u001b[0m \u001b[0;32mnot\u001b[0m \u001b[0mhasattr\u001b[0m\u001b[0;34m(\u001b[0m\u001b[0mgenerator_output\u001b[0m\u001b[0;34m,\u001b[0m \u001b[0;34m'__len__'\u001b[0m\u001b[0;34m)\u001b[0m\u001b[0;34m:\u001b[0m\u001b[0;34m\u001b[0m\u001b[0m\n",
      "\u001b[0;32m/media/leetwito/Windows/Users/leetw/PycharmProjects/venvs/keras/lib/python3.5/site-packages/keras/utils/data_utils.py\u001b[0m in \u001b[0;36mget\u001b[0;34m(self)\u001b[0m\n\u001b[1;32m    683\u001b[0m         \u001b[0;32mtry\u001b[0m\u001b[0;34m:\u001b[0m\u001b[0;34m\u001b[0m\u001b[0m\n\u001b[1;32m    684\u001b[0m             \u001b[0;32mwhile\u001b[0m \u001b[0mself\u001b[0m\u001b[0;34m.\u001b[0m\u001b[0mis_running\u001b[0m\u001b[0;34m(\u001b[0m\u001b[0;34m)\u001b[0m\u001b[0;34m:\u001b[0m\u001b[0;34m\u001b[0m\u001b[0m\n\u001b[0;32m--> 685\u001b[0;31m                 \u001b[0minputs\u001b[0m \u001b[0;34m=\u001b[0m \u001b[0mself\u001b[0m\u001b[0;34m.\u001b[0m\u001b[0mqueue\u001b[0m\u001b[0;34m.\u001b[0m\u001b[0mget\u001b[0m\u001b[0;34m(\u001b[0m\u001b[0mblock\u001b[0m\u001b[0;34m=\u001b[0m\u001b[0;32mTrue\u001b[0m\u001b[0;34m)\u001b[0m\u001b[0;34m.\u001b[0m\u001b[0mget\u001b[0m\u001b[0;34m(\u001b[0m\u001b[0;34m)\u001b[0m\u001b[0;34m\u001b[0m\u001b[0m\n\u001b[0m\u001b[1;32m    686\u001b[0m                 \u001b[0mself\u001b[0m\u001b[0;34m.\u001b[0m\u001b[0mqueue\u001b[0m\u001b[0;34m.\u001b[0m\u001b[0mtask_done\u001b[0m\u001b[0;34m(\u001b[0m\u001b[0;34m)\u001b[0m\u001b[0;34m\u001b[0m\u001b[0m\n\u001b[1;32m    687\u001b[0m                 \u001b[0;32mif\u001b[0m \u001b[0minputs\u001b[0m \u001b[0;32mis\u001b[0m \u001b[0;32mnot\u001b[0m \u001b[0;32mNone\u001b[0m\u001b[0;34m:\u001b[0m\u001b[0;34m\u001b[0m\u001b[0m\n",
      "\u001b[0;32m/usr/lib/python3.5/multiprocessing/pool.py\u001b[0m in \u001b[0;36mget\u001b[0;34m(self, timeout)\u001b[0m\n\u001b[1;32m    600\u001b[0m \u001b[0;34m\u001b[0m\u001b[0m\n\u001b[1;32m    601\u001b[0m     \u001b[0;32mdef\u001b[0m \u001b[0mget\u001b[0m\u001b[0;34m(\u001b[0m\u001b[0mself\u001b[0m\u001b[0;34m,\u001b[0m \u001b[0mtimeout\u001b[0m\u001b[0;34m=\u001b[0m\u001b[0;32mNone\u001b[0m\u001b[0;34m)\u001b[0m\u001b[0;34m:\u001b[0m\u001b[0;34m\u001b[0m\u001b[0m\n\u001b[0;32m--> 602\u001b[0;31m         \u001b[0mself\u001b[0m\u001b[0;34m.\u001b[0m\u001b[0mwait\u001b[0m\u001b[0;34m(\u001b[0m\u001b[0mtimeout\u001b[0m\u001b[0;34m)\u001b[0m\u001b[0;34m\u001b[0m\u001b[0m\n\u001b[0m\u001b[1;32m    603\u001b[0m         \u001b[0;32mif\u001b[0m \u001b[0;32mnot\u001b[0m \u001b[0mself\u001b[0m\u001b[0;34m.\u001b[0m\u001b[0mready\u001b[0m\u001b[0;34m(\u001b[0m\u001b[0;34m)\u001b[0m\u001b[0;34m:\u001b[0m\u001b[0;34m\u001b[0m\u001b[0m\n\u001b[1;32m    604\u001b[0m             \u001b[0;32mraise\u001b[0m \u001b[0mTimeoutError\u001b[0m\u001b[0;34m\u001b[0m\u001b[0m\n",
      "\u001b[0;32m/usr/lib/python3.5/multiprocessing/pool.py\u001b[0m in \u001b[0;36mwait\u001b[0;34m(self, timeout)\u001b[0m\n\u001b[1;32m    597\u001b[0m \u001b[0;34m\u001b[0m\u001b[0m\n\u001b[1;32m    598\u001b[0m     \u001b[0;32mdef\u001b[0m \u001b[0mwait\u001b[0m\u001b[0;34m(\u001b[0m\u001b[0mself\u001b[0m\u001b[0;34m,\u001b[0m \u001b[0mtimeout\u001b[0m\u001b[0;34m=\u001b[0m\u001b[0;32mNone\u001b[0m\u001b[0;34m)\u001b[0m\u001b[0;34m:\u001b[0m\u001b[0;34m\u001b[0m\u001b[0m\n\u001b[0;32m--> 599\u001b[0;31m         \u001b[0mself\u001b[0m\u001b[0;34m.\u001b[0m\u001b[0m_event\u001b[0m\u001b[0;34m.\u001b[0m\u001b[0mwait\u001b[0m\u001b[0;34m(\u001b[0m\u001b[0mtimeout\u001b[0m\u001b[0;34m)\u001b[0m\u001b[0;34m\u001b[0m\u001b[0m\n\u001b[0m\u001b[1;32m    600\u001b[0m \u001b[0;34m\u001b[0m\u001b[0m\n\u001b[1;32m    601\u001b[0m     \u001b[0;32mdef\u001b[0m \u001b[0mget\u001b[0m\u001b[0;34m(\u001b[0m\u001b[0mself\u001b[0m\u001b[0;34m,\u001b[0m \u001b[0mtimeout\u001b[0m\u001b[0;34m=\u001b[0m\u001b[0;32mNone\u001b[0m\u001b[0;34m)\u001b[0m\u001b[0;34m:\u001b[0m\u001b[0;34m\u001b[0m\u001b[0m\n",
      "\u001b[0;32m/usr/lib/python3.5/threading.py\u001b[0m in \u001b[0;36mwait\u001b[0;34m(self, timeout)\u001b[0m\n\u001b[1;32m    547\u001b[0m             \u001b[0msignaled\u001b[0m \u001b[0;34m=\u001b[0m \u001b[0mself\u001b[0m\u001b[0;34m.\u001b[0m\u001b[0m_flag\u001b[0m\u001b[0;34m\u001b[0m\u001b[0m\n\u001b[1;32m    548\u001b[0m             \u001b[0;32mif\u001b[0m \u001b[0;32mnot\u001b[0m \u001b[0msignaled\u001b[0m\u001b[0;34m:\u001b[0m\u001b[0;34m\u001b[0m\u001b[0m\n\u001b[0;32m--> 549\u001b[0;31m                 \u001b[0msignaled\u001b[0m \u001b[0;34m=\u001b[0m \u001b[0mself\u001b[0m\u001b[0;34m.\u001b[0m\u001b[0m_cond\u001b[0m\u001b[0;34m.\u001b[0m\u001b[0mwait\u001b[0m\u001b[0;34m(\u001b[0m\u001b[0mtimeout\u001b[0m\u001b[0;34m)\u001b[0m\u001b[0;34m\u001b[0m\u001b[0m\n\u001b[0m\u001b[1;32m    550\u001b[0m             \u001b[0;32mreturn\u001b[0m \u001b[0msignaled\u001b[0m\u001b[0;34m\u001b[0m\u001b[0m\n\u001b[1;32m    551\u001b[0m \u001b[0;34m\u001b[0m\u001b[0m\n",
      "\u001b[0;32m/usr/lib/python3.5/threading.py\u001b[0m in \u001b[0;36mwait\u001b[0;34m(self, timeout)\u001b[0m\n\u001b[1;32m    291\u001b[0m         \u001b[0;32mtry\u001b[0m\u001b[0;34m:\u001b[0m    \u001b[0;31m# restore state no matter what (e.g., KeyboardInterrupt)\u001b[0m\u001b[0;34m\u001b[0m\u001b[0m\n\u001b[1;32m    292\u001b[0m             \u001b[0;32mif\u001b[0m \u001b[0mtimeout\u001b[0m \u001b[0;32mis\u001b[0m \u001b[0;32mNone\u001b[0m\u001b[0;34m:\u001b[0m\u001b[0;34m\u001b[0m\u001b[0m\n\u001b[0;32m--> 293\u001b[0;31m                 \u001b[0mwaiter\u001b[0m\u001b[0;34m.\u001b[0m\u001b[0macquire\u001b[0m\u001b[0;34m(\u001b[0m\u001b[0;34m)\u001b[0m\u001b[0;34m\u001b[0m\u001b[0m\n\u001b[0m\u001b[1;32m    294\u001b[0m                 \u001b[0mgotit\u001b[0m \u001b[0;34m=\u001b[0m \u001b[0;32mTrue\u001b[0m\u001b[0;34m\u001b[0m\u001b[0m\n\u001b[1;32m    295\u001b[0m             \u001b[0;32melse\u001b[0m\u001b[0;34m:\u001b[0m\u001b[0;34m\u001b[0m\u001b[0m\n",
      "\u001b[0;31mKeyboardInterrupt\u001b[0m: "
     ]
    }
   ],
   "source": [
    "STEP_SIZE_TRAIN=len(df_train)//batch_size\n",
    "STEP_SIZE_VALID=len(df_val)//batch_size\n",
    "# print(STEP_SIZE_VALID)\n",
    "history = mobilenet_model.fit_generator(generator=train_generator,\n",
    "                    steps_per_epoch=STEP_SIZE_TRAIN,\n",
    "                    validation_data=val_generator,\n",
    "                    validation_steps=STEP_SIZE_VALID,\n",
    "                    epochs=num_of_epochs, callbacks=[lrReduce, chkpnt], shuffle=False) # chkpnt"
   ]
  },
  {
   "cell_type": "code",
   "execution_count": 40,
   "metadata": {},
   "outputs": [],
   "source": [
    "mobilenet_model.save('my_models/model_spec_weights_epoch36-val_loss0.006-train_loss0.004.hdf5')"
   ]
  },
  {
   "cell_type": "code",
   "execution_count": 34,
   "metadata": {},
   "outputs": [],
   "source": [
    "x, y = next(test_generator)\n",
    "y_proba = mobilenet_model.predict(x)\n",
    "# mobilenet_model.predict(next())"
   ]
  },
  {
   "cell_type": "code",
   "execution_count": 35,
   "metadata": {},
   "outputs": [
    {
     "name": "stdout",
     "output_type": "stream",
     "text": [
      "[[1. 0.]\n",
      " [0. 1.]\n",
      " [1. 0.]\n",
      " [1. 0.]\n",
      " [0. 1.]\n",
      " [1. 0.]\n",
      " [1. 0.]\n",
      " [1. 0.]\n",
      " [1. 0.]\n",
      " [1. 0.]\n",
      " [1. 0.]\n",
      " [1. 0.]\n",
      " [1. 0.]\n",
      " [0. 1.]\n",
      " [0. 1.]\n",
      " [1. 0.]]\n"
     ]
    }
   ],
   "source": [
    "print(y)"
   ]
  },
  {
   "cell_type": "code",
   "execution_count": 36,
   "metadata": {},
   "outputs": [
    {
     "name": "stdout",
     "output_type": "stream",
     "text": [
      "\r",
      "16/16 [==============================] - 0s 14ms/step\n"
     ]
    },
    {
     "data": {
      "text/plain": [
       "0.0073660570196807384"
      ]
     },
     "execution_count": 36,
     "metadata": {},
     "output_type": "execute_result"
    }
   ],
   "source": [
    "mobilenet_model.evaluate(x, y)"
   ]
  },
  {
   "cell_type": "code",
   "execution_count": 37,
   "metadata": {},
   "outputs": [
    {
     "data": {
      "text/plain": [
       "array([ True,  True,  True,  True,  True,  True,  True,  True,  True,\n",
       "        True,  True,  True,  True,  True,  True,  True])"
      ]
     },
     "execution_count": 37,
     "metadata": {},
     "output_type": "execute_result"
    }
   ],
   "source": [
    "y_proba.argmax(axis=1)==y.argmax(axis=1)"
   ]
  },
  {
   "cell_type": "raw",
   "metadata": {},
   "source": [
    "def plot_otsu_triplet(org, threshed):\n",
    "    gray = cv2.cvtColor(org, cv2.BGR2GRAY)\n",
    "    plt.figure(figsize=(15, 8))\n",
    "    plt.subplot(131)\n",
    "    plt.imshow(org)\n",
    "    plt.subplot(132)\n",
    "    plt.imshow(gray, cmap=\"gray\")\n",
    "    plt.subplot(133)\n",
    "    plt.imshow(thr, cmap=\"gray\")\n",
    "    cv2.destroyAllWindows()"
   ]
  },
  {
   "cell_type": "raw",
   "metadata": {},
   "source": [
    "def get_otsu_treshed_img(img, i):\n",
    "    i=10\n",
    "    assert img.max() > 1\n",
    "    x = cv2.cvtColor((img[i]).astype(np.uint8), cv2.COLOR_BGR2GRAY)re\n",
    "    x1 = cv2.GaussianBlur(x,(5,5),0)\n",
    "    ret,thr = cv2.threshold(x1,0,255,cv2.THRESH_BINARY+cv2.THRESH_OTSU)\n",
    "#     plot_otsu_triplet(org, threshed)\n",
    "    return thr"
   ]
  },
  {
   "cell_type": "code",
   "execution_count": null,
   "metadata": {},
   "outputs": [],
   "source": [
    "# STEP_SIZE_TEST=len(df_test)//batch_size\n",
    "# mobilenet_model.evaluate_generator(train_generator, steps=1)\n",
    "mobilenet_model.evaluate(xxx, yyy)"
   ]
  },
  {
   "cell_type": "code",
   "execution_count": null,
   "metadata": {},
   "outputs": [],
   "source": [
    "# y_pred = mobilenet_model.predict_generator(train_generator, steps=1)\n",
    "y_pred = mobilenet_model.predict(xx)\n",
    "y_pred"
   ]
  },
  {
   "cell_type": "code",
   "execution_count": null,
   "metadata": {
    "scrolled": true
   },
   "outputs": [],
   "source": [
    "y_pred.argmax(axis=1), y_train.values[:, 1].astype(int)"
   ]
  },
  {
   "cell_type": "code",
   "execution_count": null,
   "metadata": {},
   "outputs": [],
   "source": [
    "y_test = df_test['label'][:len(y_pred)].values"
   ]
  },
  {
   "cell_type": "code",
   "execution_count": null,
   "metadata": {},
   "outputs": [],
   "source": [
    "plot_roc_curve(y_test, y_pred)\n",
    "plt.show()"
   ]
  },
  {
   "cell_type": "code",
   "execution_count": null,
   "metadata": {},
   "outputs": [],
   "source": [
    "y_pred = np.argmax(y_pred, axis=1)\n",
    "y_pred.shape"
   ]
  },
  {
   "cell_type": "code",
   "execution_count": null,
   "metadata": {},
   "outputs": [],
   "source": [
    "y_pred.sum()"
   ]
  },
  {
   "cell_type": "code",
   "execution_count": null,
   "metadata": {},
   "outputs": [],
   "source": [
    "y_test.sum()"
   ]
  },
  {
   "cell_type": "code",
   "execution_count": null,
   "metadata": {},
   "outputs": [],
   "source": [
    "(y_pred==y_test).sum()/220"
   ]
  }
 ],
 "metadata": {
  "kernelspec": {
   "display_name": "Python 3",
   "language": "python",
   "name": "python3"
  },
  "language_info": {
   "codemirror_mode": {
    "name": "ipython",
    "version": 3
   },
   "file_extension": ".py",
   "mimetype": "text/x-python",
   "name": "python",
   "nbconvert_exporter": "python",
   "pygments_lexer": "ipython3",
   "version": "3.5.2"
  }
 },
 "nbformat": 4,
 "nbformat_minor": 2
}
