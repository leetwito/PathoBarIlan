{
 "cells": [
  {
   "cell_type": "code",
   "execution_count": null,
   "metadata": {},
   "outputs": [],
   "source": [
    "import tensorflow as tf\n",
    "import scipy.io \n",
    "import matplotlib.pyplot as plt\n",
    "import cv2\n",
    "import keras\n",
    "from glob import glob\n",
    "import numpy as np\n",
    "from tqdm import tqdm\n",
    "import os\n",
    "from PIL import Image\n",
    "import pandas as pd\n",
    "import cv2\n",
    "\n",
    "from sklearn.model_selection import KFold\n",
    "# from keras.preprocessing.image import ImageDataGenerator\n",
    "\n",
    "# import keras_metrics\n",
    "\n",
    "from keras.applications import mobilenet, resnet50 #, vgg16, inception_v3, resnet50, \n",
    "from keras.optimizers import Adam\n",
    "from keras.utils import to_categorical\n",
    "from keras.callbacks import ReduceLROnPlateau, ModelCheckpoint, History\n",
    "\n",
    "from keras.preprocessing.image import load_img\n",
    "from keras.preprocessing.image import img_to_array\n",
    "\n",
    "import logging\n",
    "# logging.getLogger().setLevel(logging.DEBUG)\n",
    "\n",
    "\n",
    "import seaborn\n",
    "seaborn.set_style(\"darkgrid\")\n",
    "\n",
    "from sklearn.metrics import roc_curve, roc_auc_score\n",
    "from sklearn.metrics import precision_recall_curve"
   ]
  },
  {
   "cell_type": "code",
   "execution_count": null,
   "metadata": {},
   "outputs": [],
   "source": [
    "keras.__version__"
   ]
  },
  {
   "cell_type": "raw",
   "metadata": {},
   "source": [
    "from keras.backend.tensorflow_backend import set_session\n",
    "config = tf.ConfigProto()\n",
    "config.gpu_options.per_process_gpu_memory_fraction = 0.4\n",
    "set_session(tf.Session(config=config))"
   ]
  },
  {
   "cell_type": "markdown",
   "metadata": {},
   "source": [
    "## Params"
   ]
  },
  {
   "cell_type": "code",
   "execution_count": null,
   "metadata": {},
   "outputs": [],
   "source": [
    "all_data_dir = 'E:\\\\Work/PathoBarIlan/Shlomi2018/'# '/media/leetwito/DATA/Datasets/PathoBarIlan/Shlomi2018'\n",
    "# all_data_dir = '/media/leetwito/DATA/Datasets/PathoBarIlan/Shlomi2018'\n",
    "\n",
    "is_relative_path_csv = False\n",
    "seed = 4221\n",
    "\n",
    "pos_name_init = 'Cancer'\n",
    "neg_name_init = 'Normal'\n",
    "\n",
    "use_rgb = False # True=rgb, False=spectral\n",
    "if use_rgb:\n",
    "    file_ext = '.png'\n",
    "else:\n",
    "    file_ext = '.npy'\n",
    "    \n",
    "window_size = (200, 200)\n",
    "shift = (100, 100)"
   ]
  },
  {
   "cell_type": "code",
   "execution_count": null,
   "metadata": {},
   "outputs": [],
   "source": [
    "w,h = window_size\n",
    "if use_rgb:\n",
    "    input_shape = (w,h,3)\n",
    "else:\n",
    "    input_shape = (w,h,40)\n",
    "batch_size = 16"
   ]
  },
  {
   "cell_type": "markdown",
   "metadata": {},
   "source": [
    "## utils"
   ]
  },
  {
   "cell_type": "code",
   "execution_count": null,
   "metadata": {},
   "outputs": [],
   "source": [
    "def read_slide(path):\n",
    "    mat = scipy.io.loadmat(path)\n",
    "    spectral = mat[\"Spec\"]\n",
    "    rgb = mat[\"Section\"]\n",
    "    shape = rgb.shape\n",
    "    \n",
    "    return spectral, rgb"
   ]
  },
  {
   "cell_type": "code",
   "execution_count": null,
   "metadata": {},
   "outputs": [],
   "source": [
    "def create_batch_of_crops_from_slide(img, window_size, shift, vis_flag=False):\n",
    "    crops = []\n",
    "\n",
    "    n_iter_x = (img.shape[1]-window_size[0])//shift[0] + 1\n",
    "\n",
    "    n_iter_y = (img.shape[0]-window_size[1])//shift[1] + 1\n",
    "\n",
    "#     n_iter_x, n_iter_y\n",
    "\n",
    "    for i in range(n_iter_x):\n",
    "        for j in range(n_iter_y):\n",
    "            init_y = i*shift[0]\n",
    "            init_x = j*shift[1]\n",
    "        \n",
    "            crops.append(img[init_x:init_x+window_size[0], init_y:init_y+window_size[1], :])\n",
    "    if vis_flag:\n",
    "        visualize_batch_of_crops(crops, n_iter_y, n_iter_x)\n",
    "    return crops"
   ]
  },
  {
   "cell_type": "code",
   "execution_count": null,
   "metadata": {},
   "outputs": [],
   "source": [
    "def visualize_batch_of_crops(crops, n_iter_y, n_iter_x):\n",
    "    fig, axes = plt.subplots(n_iter_y, n_iter_x, figsize=(5, 5), gridspec_kw = {'wspace':0, 'hspace':0})\n",
    "\n",
    "    for i in range(n_iter_x):\n",
    "        for j in range(n_iter_y):\n",
    "            axes[j, i].imshow(crops[i*n_iter_y + j])\n",
    "            axes[j, i].axis('off')\n",
    "            axes[j, i].set_aspect('equal')\n",
    "    plt.show()"
   ]
  },
  {
   "cell_type": "code",
   "execution_count": null,
   "metadata": {},
   "outputs": [],
   "source": [
    "def create_crops_from_fileslist(fileslist, window_size, shift):\n",
    "    rgb_crops = []\n",
    "    spectral_crops = []\n",
    "    labels = []\n",
    "\n",
    "    for file in tqdm(fileslist):\n",
    "#         file_name = os.path.basename(file)\n",
    "#         print('Saving crops for file {} ...'.format(file_name))\n",
    "#         print(file)\n",
    "        spectral, rgb = read_slide(file)\n",
    "        spectral_crops = create_batch_of_crops_from_slide(spectral, window_size=window_size, shift=shift)\n",
    "        rgb_crops = create_batch_of_crops_from_slide(rgb, window_size=window_size, shift=shift)\n",
    "        save_dir = file.replace('.mat', '_win{}-{}_shift{}-{}'.format(window_size[0], window_size[1], shift[0], shift[1]))\n",
    "        if not os.path.exists(save_dir):\n",
    "            os.makedirs(save_dir)\n",
    "        for idx, (im_np, spec_np) in enumerate(zip(rgb_crops, spectral_crops)):\n",
    "            im = Image.fromarray(im_np)\n",
    "            im.save(os.path.join(save_dir, '{:05}.png'.format(idx)))\n",
    "            np.save(os.path.join(save_dir, '{:05}.npy'.format(idx)), spec_np)\n"
   ]
  },
  {
   "cell_type": "code",
   "execution_count": null,
   "metadata": {},
   "outputs": [],
   "source": [
    "def create_crops_from_dir(dir_path, window_size, shift):\n",
    "    print('Saving crops for slides in dir: {}'.format(dir_path))\n",
    "    fileslist = glob(dir_path + '/*.mat')\n",
    "    create_crops_from_fileslist(fileslist, window_size, shift)"
   ]
  },
  {
   "cell_type": "code",
   "execution_count": null,
   "metadata": {},
   "outputs": [],
   "source": [
    "def create_csv_for_folder(data_dir, ext):\n",
    "    if ext[0] == '.':\n",
    "        ext = ext[1:]\n",
    "    data_df = pd.DataFrame(columns=['filename', 'label'])\n",
    "    files = glob(os.path.join(data_dir,'*', '*.{}'.format(ext)))\n",
    "    files = [file for file in files if \"Mixed\" not in file]\n",
    "#     print(data_dir+'/*/*.{}'.format(ext))\n",
    "    \n",
    "    init_len = len(data_dir)\n",
    "    delete_folder = all_data_dir\n",
    "    if not is_relative_path_csv:\n",
    "        delete_folder = '/'\n",
    "    if not delete_folder[-1] == '/':\n",
    "        delete_folder += '/'\n",
    "    files = [file.replace(delete_folder, '/') for file in files]\n",
    "#     print(files)\n",
    "    labels = [1 if pos_name_init in file else 0 for file in files]\n",
    "#     print(labels)\n",
    "    data_df['filename'] = files\n",
    "    data_df['label'] = labels\n",
    "#     data_df.to_csv(os.path.join(data_dir, os.path.basename(data_dir)+'.csv'), index=False)\n",
    "#     print('Created CSV successfully for folder {}'.format(data_dir))\n",
    "    \n",
    "    return data_df    "
   ]
  },
  {
   "cell_type": "code",
   "execution_count": null,
   "metadata": {},
   "outputs": [],
   "source": [
    "slides = glob(os.path.join(all_data_dir, \"*/\"))\n",
    "slides"
   ]
  },
  {
   "cell_type": "code",
   "execution_count": null,
   "metadata": {},
   "outputs": [],
   "source": [
    "skf = KFold(n_splits=5, shuffle=True, random_state=seed)\n",
    "\n",
    "train_slides_all = []\n",
    "test_slides_all = []\n",
    "val_slides_all = []\n",
    "\n",
    "for train_index, test_index in skf.split(np.arange(len(slides)).T, np.arange(len(slides)).T):\n",
    "    print(\"TRAIN:\", train_index, \"TEST:\", test_index)\n",
    "    train_slides_all.append(train_index)\n",
    "    val_slides_all.append([test_index[0]])\n",
    "    test_slides_all.append([test_index[1]])"
   ]
  },
  {
   "cell_type": "code",
   "execution_count": null,
   "metadata": {},
   "outputs": [],
   "source": [
    "k_idx = 1 # take one of the K-Folds\n",
    "\n",
    "train_index = train_slides_all[k_idx]\n",
    "val_index = val_slides_all[k_idx]\n",
    "test_index = test_slides_all[k_idx]\n",
    "\n",
    "train_index, val_index, test_index"
   ]
  },
  {
   "cell_type": "code",
   "execution_count": null,
   "metadata": {},
   "outputs": [],
   "source": [
    "def get_dfs_for_indices(slides, index_list):\n",
    "    dfs = []\n",
    "    for slide in np.array(slides)[index_list]:\n",
    "        data_dir = slide\n",
    "        dfs.append(create_csv_for_folder(data_dir, file_ext))\n",
    "    df = pd.concat(dfs, ignore_index=True)\n",
    "    df = df.sample(frac=1, random_state=seed)  # frac=1 is same as shuffling df.\n",
    "    return df"
   ]
  },
  {
   "cell_type": "code",
   "execution_count": null,
   "metadata": {},
   "outputs": [],
   "source": [
    "df_train = get_dfs_for_indices(slides, train_index)\n",
    "df_test = get_dfs_for_indices(slides, test_index)\n",
    "df_val = get_dfs_for_indices(slides, val_index)"
   ]
  },
  {
   "cell_type": "raw",
   "metadata": {},
   "source": [
    "df_train.to_csv(os.path.join(all_data_dir, 'train_files.csv'), index=False)\n",
    "df_val.to_csv(os.path.join(all_data_dir, 'val_files.csv'), index=False)\n",
    "df_test.to_csv(os.path.join(all_data_dir, 'test_files.csv'), index=False)"
   ]
  },
  {
   "cell_type": "code",
   "execution_count": null,
   "metadata": {},
   "outputs": [],
   "source": [
    "pd.options.display.max_colwidth = 150"
   ]
  },
  {
   "cell_type": "code",
   "execution_count": null,
   "metadata": {},
   "outputs": [],
   "source": [
    "print(len(df_train.index.values))\n",
    "print(len(set(df_train.index.values)))\n",
    "\n",
    "print(len(df_train.columns.values))\n",
    "print(len(set(df_train.columns.values)))"
   ]
  },
  {
   "cell_type": "code",
   "execution_count": null,
   "metadata": {},
   "outputs": [],
   "source": [
    "assert len(set(df_train.label.values)) == 2 and len(set(df_val.label.values)) == 2 and len(set(df_test.label.values)) == 2  "
   ]
  },
  {
   "cell_type": "code",
   "execution_count": null,
   "metadata": {},
   "outputs": [],
   "source": []
  },
  {
   "cell_type": "raw",
   "metadata": {},
   "source": [
    "df_train = df_train[:35]\n",
    "df_test = df_train\n",
    "df_val = df_train"
   ]
  },
  {
   "cell_type": "raw",
   "metadata": {},
   "source": [
    "n_batches_train = df_train.shape[0]//batch_size\n",
    "n_batches_test = df_test.shape[0]//batch_size\n",
    "n_batches_val = df_val.shape[0]//batch_size"
   ]
  },
  {
   "cell_type": "raw",
   "metadata": {},
   "source": [
    "df = df_train"
   ]
  },
  {
   "cell_type": "code",
   "execution_count": null,
   "metadata": {},
   "outputs": [],
   "source": []
  },
  {
   "cell_type": "code",
   "execution_count": null,
   "metadata": {},
   "outputs": [],
   "source": [
    "def batch_norm(x):\n",
    "#     print(\"x.shape:\", x.shape)\n",
    "    maxi = x.max(axis=1).max(axis=1)\n",
    "#     print(\"maxi.shape:\", maxi.shape)\n",
    "    maxi = np.repeat(maxi[:, np.newaxis, : ], window_size[0], axis=1)\n",
    "    maxi = np.repeat(maxi[:, np.newaxis, : ], window_size[1], axis=1)\n",
    "    return x/maxi\n",
    "\n",
    "\n",
    "def generator_from_df(df, batch_size, shuffle=True): \n",
    "    \n",
    "    n_batches = df.shape[0]//batch_size\n",
    "    while True:\n",
    "        if shuffle:\n",
    "            df_tmp = df.copy().sample(frac=1)  # frac=1 is same as shuffling df.\n",
    "        else:\n",
    "            df_tmp = df\n",
    "        \n",
    "        for i in range(n_batches):\n",
    "            sub = df_tmp.iloc[batch_size*i:batch_size*(i+1)]\n",
    "            if use_rgb:\n",
    "                X = [img_to_array(load_img(f, target_size=input_shape)) for f in sub.filename]\n",
    "            else:\n",
    "                X = [np.load(f) for f in sub.filename]\n",
    "                \n",
    "            X = batch_norm(np.stack(X))\n",
    "            logging.debug(\"from file {}\\nto file {}\".format(sub.iloc[0].filename, sub.iloc[-1].filename))\n",
    "\n",
    "            Y = sub.label.values\n",
    "            Y = to_categorical(Y, num_classes=2)\n",
    "            # Simple model, one input, one output.\n",
    "            \n",
    "            yield X, Y"
   ]
  },
  {
   "cell_type": "raw",
   "metadata": {},
   "source": [
    "train_generator = generator_from_df(df_train.iloc[:42], batch_size, shuffle=False)"
   ]
  },
  {
   "cell_type": "raw",
   "metadata": {},
   "source": [
    "df.filename.reset_index(drop=True)[:42]"
   ]
  },
  {
   "cell_type": "raw",
   "metadata": {},
   "source": [
    "X, y = next(train_generator)"
   ]
  },
  {
   "cell_type": "raw",
   "metadata": {},
   "source": [
    "X.shape"
   ]
  },
  {
   "cell_type": "raw",
   "metadata": {},
   "source": [
    "y.shape"
   ]
  },
  {
   "cell_type": "markdown",
   "metadata": {},
   "source": [
    "####### copying generator_from_df:\n",
    "https://gist.github.com/timehaven/257eef5b0e2d9e2625a9eb812ca2226b#file-akmtdfgen-py"
   ]
  },
  {
   "cell_type": "raw",
   "metadata": {},
   "source": [
    "def sample_norm(X):\n",
    "#     X = X - X.min()\n",
    "#     X = X / X.max()\n",
    "#     X = X - 0.5\n",
    "    # print(X.min(), X.max()) -> (-0.5, 0.5)\n",
    "    \n",
    "#     X = X / 255.\n",
    "    return X\n",
    "\n",
    "def generator_from_df(df, batch_size, shuffle=True): \n",
    "#     print(df.iloc[1])\n",
    "    nbatches, n_skipped_per_epoch = divmod(df.shape[0], batch_size)\n",
    "    count = 1\n",
    "    epoch = 0\n",
    "    while 1:\n",
    "        if shuffle:\n",
    "            df = df.sample(frac=1)  # frac=1 is same as shuffling df.\n",
    "        epoch += 1\n",
    "        i, j = 0, batch_size\n",
    "        # Mini-batches within epoch.\n",
    "        mini_batches_completed = 0\n",
    "        for _ in range(nbatches):\n",
    "#             print(\"Top of generator for loop, epoch / count / i / j = %d / %d / %d / %d\" % (epoch, count, i, j))\n",
    "            sub = df.iloc[i:j]\n",
    "            # preprocess_input()\n",
    "            # https://github.com/fchollet/keras/blob/master/keras/applications/inception_v3.py#L389\n",
    "            if use_rgb:\n",
    "                X = [sample_norm(img_to_array(load_img(f, target_size=input_shape))) for f in sub.filename]\n",
    "            else:\n",
    "                X = [sample_norm(np.load(f)) for f in sub.filename]\n",
    "                     # Resizing on the fly is efficient enough for\n",
    "                     # pre-caching when a GPU is training a\n",
    "                     # mini-batch.  Here is where some additional\n",
    "                     # data augmentation could take place.\n",
    "#                          (img_to_array(load_img(f, target_size=target_size))\n",
    "            X = np.stack(X)\n",
    "            Y = sub.label.values\n",
    "            Y = to_categorical(Y, num_classes=2)\n",
    "            # Simple model, one input, one output.\n",
    "            mini_batches_completed += 1\n",
    "            i = j \n",
    "            j += batch_size\n",
    "            yield X, Y"
   ]
  },
  {
   "cell_type": "raw",
   "metadata": {},
   "source": [
    "df_train = df_train[:batch_size]\n",
    "df_val = df_val[:batch_size]\n",
    "df_test = df_test[:batch_size]\n",
    "\n",
    "# df_val = df_train[:batch_size]\n",
    "# df_test = df_train[:batch_size]\n",
    "# assert(df_val == df_train).values.all()"
   ]
  },
  {
   "cell_type": "raw",
   "metadata": {},
   "source": [
    "df_val = df_train\n",
    "df_test = df_train"
   ]
  },
  {
   "cell_type": "code",
   "execution_count": null,
   "metadata": {},
   "outputs": [],
   "source": [
    "train_generator = generator_from_df(df_train, batch_size)\n",
    "val_generator = generator_from_df(df_val, batch_size)\n",
    "test_generator = generator_from_df(df_test, batch_size, shuffle=False)"
   ]
  },
  {
   "cell_type": "raw",
   "metadata": {},
   "source": [
    "for xx, yy in train_generator:\n",
    "    print(xx.shape, \"\\n\", yy)\n",
    "    break"
   ]
  },
  {
   "cell_type": "code",
   "execution_count": null,
   "metadata": {},
   "outputs": [],
   "source": [
    "# input_shape = train_generator.image_shape\n",
    "mobilenet_model = mobilenet.MobileNet(include_top=True, weights=None, input_shape=input_shape, classes=2, dropout=0.2)\n",
    "# mobilenet_model = resnet50.ResNet50(include_top=True, weights=None, input_shape=input_shape, classes=2)"
   ]
  },
  {
   "cell_type": "code",
   "execution_count": null,
   "metadata": {
    "scrolled": true
   },
   "outputs": [],
   "source": [
    "mobilenet_model.summary()"
   ]
  },
  {
   "cell_type": "code",
   "execution_count": null,
   "metadata": {},
   "outputs": [],
   "source": [
    "optimizer = Adam(lr=1e-2) # 1e-3\n",
    "mobilenet_model.compile(loss=\"binary_crossentropy\", optimizer=optimizer) #  binary_crossentropy , categorical_crossentropy\n",
    "# history = History()\n",
    "lrReduce = ReduceLROnPlateau(monitor='val_loss', factor=0.3, patience=4, verbose=1, min_lr=1e-6)\n",
    "if use_rgb:\n",
    "    chkpnt = ModelCheckpoint(\"my_models/model_rgb_weights_epoch{epoch:02d}-val_loss{val_loss:.3f}\"+\"-seed{}-k_idx={}.hdf5\".format(seed, k_idx), save_best_only=False) # -train_loss{history.History()[loss][-1]:.2f}\n",
    "else:\n",
    "    chkpnt = ModelCheckpoint(\"my_models/model_spec_weights_epoch{epoch:02d}-val_loss{val_loss:.3f}\"+\"-seed{}-k_idx={}.hdf5\".format(seed, k_idx), save_best_only=False) # -train_loss{history.History()[loss][-1]:.2f}\n",
    "num_of_epochs = 100"
   ]
  },
  {
   "cell_type": "raw",
   "metadata": {},
   "source": [
    "# continue training\n",
    "STEP_SIZE_TRAIN=len(df_train)//batch_size\n",
    "STEP_SIZE_VALID=len(df_val)//batch_size\n",
    "# pretrained_model_path = '/media/leetwito/Windows/Users/leetw/PycharmProjects/PathoBarIlan/my_models/model_spec_weights_epoch15-val_loss0.001.hdf5'\n",
    "pretrained_model_path = all_data_dir + \"models/model_spec_weights_epoch15-val_loss0.001.hdf5'\"\n",
    "# loaded_model = keras.models.load_model(pretrained_model_path)\n",
    "history = loaded_model.fit_generator(generator=train_generator,\n",
    "                    steps_per_epoch=STEP_SIZE_TRAIN,\n",
    "                    validation_data=val_generator,\n",
    "                    validation_steps=STEP_SIZE_VALID,\n",
    "                    epochs=num_of_epochs, callbacks=[lrReduce, chkpnt], shuffle=False) # chkpnt"
   ]
  },
  {
   "cell_type": "code",
   "execution_count": null,
   "metadata": {
    "scrolled": true
   },
   "outputs": [],
   "source": [
    "STEP_SIZE_TRAIN=len(df_train)//batch_size\n",
    "STEP_SIZE_VALID=len(df_val)//batch_size\n",
    "# print(STEP_SIZE_VALID)\n",
    "history = mobilenet_model.fit_generator(generator=train_generator,\n",
    "                    steps_per_epoch=STEP_SIZE_TRAIN,\n",
    "                    validation_data=val_generator,\n",
    "                    validation_steps=STEP_SIZE_VALID,\n",
    "                    epochs=num_of_epochs, callbacks=[lrReduce, chkpnt], shuffle=False) # chkpnt"
   ]
  },
  {
   "cell_type": "raw",
   "metadata": {},
   "source": [
    "# manually save the model\n",
    "mobilenet_model.save('my_models/model_spec_weights_epoch54-val_loss0.1201-train_loss0.0018.hdf5')"
   ]
  },
  {
   "cell_type": "code",
   "execution_count": null,
   "metadata": {},
   "outputs": [],
   "source": [
    "x, y = next(test_generator)\n",
    "y_proba = mobilenet_model.predict(x)\n",
    "# mobilenet_model.predict(next())"
   ]
  },
  {
   "cell_type": "code",
   "execution_count": null,
   "metadata": {},
   "outputs": [],
   "source": [
    "print(y)"
   ]
  },
  {
   "cell_type": "code",
   "execution_count": null,
   "metadata": {},
   "outputs": [],
   "source": [
    "mobilenet_model.evaluate(x, y)"
   ]
  },
  {
   "cell_type": "code",
   "execution_count": null,
   "metadata": {},
   "outputs": [],
   "source": [
    "y_proba.argmax(axis=1)==y.argmax(axis=1)"
   ]
  },
  {
   "cell_type": "raw",
   "metadata": {},
   "source": [
    "def plot_otsu_triplet(org, threshed):\n",
    "    gray = cv2.cvtColor(org, cv2.BGR2GRAY)\n",
    "    plt.figure(figsize=(15, 8))\n",
    "    plt.subplot(131)\n",
    "    plt.imshow(org)\n",
    "    plt.subplot(132)\n",
    "    plt.imshow(gray, cmap=\"gray\")\n",
    "    plt.subplot(133)\n",
    "    plt.imshow(thr, cmap=\"gray\")\n",
    "    cv2.destroyAllWindows()"
   ]
  },
  {
   "cell_type": "raw",
   "metadata": {},
   "source": [
    "def get_otsu_treshed_img(img, i):\n",
    "    i=10\n",
    "    assert img.max() > 1\n",
    "    x = cv2.cvtColor((img[i]).astype(np.uint8), cv2.COLOR_BGR2GRAY)re\n",
    "    x1 = cv2.GaussianBlur(x,(5,5),0)\n",
    "    ret,thr = cv2.threshold(x1,0,255,cv2.THRESH_BINARY+cv2.THRESH_OTSU)\n",
    "#     plot_otsu_triplet(org, threshed)\n",
    "    return thr"
   ]
  },
  {
   "cell_type": "code",
   "execution_count": null,
   "metadata": {},
   "outputs": [],
   "source": [
    "# STEP_SIZE_TEST=len(df_test)//batch_size\n",
    "# mobilenet_model.evaluate_generator(train_generator, steps=1)\n",
    "mobilenet_model.evaluate(xxx, yyy)"
   ]
  },
  {
   "cell_type": "code",
   "execution_count": null,
   "metadata": {},
   "outputs": [],
   "source": [
    "# y_pred = mobilenet_model.predict_generator(train_generator, steps=1)\n",
    "y_pred = mobilenet_model.predict(xx)\n",
    "y_pred"
   ]
  },
  {
   "cell_type": "code",
   "execution_count": null,
   "metadata": {
    "scrolled": true
   },
   "outputs": [],
   "source": [
    "y_pred.argmax(axis=1), y_train.values[:, 1].astype(int)"
   ]
  },
  {
   "cell_type": "code",
   "execution_count": null,
   "metadata": {},
   "outputs": [],
   "source": [
    "y_test = df_test['label'][:len(y_pred)].values"
   ]
  },
  {
   "cell_type": "code",
   "execution_count": null,
   "metadata": {},
   "outputs": [],
   "source": [
    "plot_roc_curve(y_test, y_pred)\n",
    "plt.show()"
   ]
  },
  {
   "cell_type": "code",
   "execution_count": null,
   "metadata": {},
   "outputs": [],
   "source": [
    "y_pred = np.argmax(y_pred, axis=1)\n",
    "y_pred.shape"
   ]
  },
  {
   "cell_type": "code",
   "execution_count": null,
   "metadata": {},
   "outputs": [],
   "source": [
    "y_pred.sum()"
   ]
  },
  {
   "cell_type": "code",
   "execution_count": null,
   "metadata": {},
   "outputs": [],
   "source": [
    "y_test.sum()"
   ]
  },
  {
   "cell_type": "code",
   "execution_count": null,
   "metadata": {},
   "outputs": [],
   "source": [
    "(y_pred==y_test).sum()/220"
   ]
  },
  {
   "cell_type": "code",
   "execution_count": null,
   "metadata": {},
   "outputs": [],
   "source": []
  },
  {
   "cell_type": "code",
   "execution_count": null,
   "metadata": {},
   "outputs": [],
   "source": []
  },
  {
   "cell_type": "code",
   "execution_count": null,
   "metadata": {},
   "outputs": [],
   "source": []
  },
  {
   "cell_type": "markdown",
   "metadata": {},
   "source": [
    "### plot roc curve"
   ]
  },
  {
   "cell_type": "code",
   "execution_count": null,
   "metadata": {},
   "outputs": [],
   "source": [
    "def plot_roc_curve(y_true, y_scores, figsize=(15, 8)):\n",
    "    fpr, tpr, threshold = roc_curve(y_true, y_scores)\n",
    "    plt.figure(figsize=figsize)\n",
    "    plt.plot(fpr, tpr)\n",
    "    plt.plot([0, 1], [0, 1], \"k--\")\n",
    "    plt.axes()\n",
    "\n",
    "    return fpr, tpr, threshold"
   ]
  },
  {
   "cell_type": "code",
   "execution_count": null,
   "metadata": {},
   "outputs": [],
   "source": [
    "def plot_precision_recall_curve(y_true, y_scores, figsize=(15, 8)):\n",
    "    precision, recall, thresholds = precision_recall_curve(y_true, y_scores)\n",
    "    plt.figure(figsize=figsize)\n",
    "    plt.plot(precision, recall)\n",
    "#     plt.plot([0, 1], [0, 1], \"k--\")\n",
    "    plt.axes()\n",
    "    \n",
    "    return precision, recall, thresholds"
   ]
  },
  {
   "cell_type": "code",
   "execution_count": null,
   "metadata": {},
   "outputs": [],
   "source": [
    "mobilenet_model.load_weights(\"my_models/model_spec_weights_epoch36-val_loss0.006-train_loss0.004.hdf5\")"
   ]
  },
  {
   "cell_type": "code",
   "execution_count": null,
   "metadata": {},
   "outputs": [],
   "source": [
    "def get_y_test_and_pred():\n",
    "    y_tests = []\n",
    "    y_preds = []\n",
    "    for i in range(len(df_test)//batch_size):\n",
    "        print(i, \"out of\", len(df_test)//batch_size)\n",
    "        x, y = next(test_generator)\n",
    "        print(mobilenet_model.evaluate(x, y))\n",
    "        y_tests.append(y.argmax(axis=1))\n",
    "        y_preds.append(mobilenet_model.predict(x)[:,1])\n",
    "    \n",
    "    y_test = np.stack(y_tests)\n",
    "    y_pred = np.stack(y_preds)\n",
    "\n",
    "    y_test = y_test.reshape((-1, 1))\n",
    "    y_pred = y_pred.reshape((-1, 1))\n",
    "    \n",
    "    return y_test, y_pred"
   ]
  },
  {
   "cell_type": "code",
   "execution_count": null,
   "metadata": {},
   "outputs": [],
   "source": [
    "y_test, y_pred = get_y_test_and_pred()"
   ]
  },
  {
   "cell_type": "code",
   "execution_count": null,
   "metadata": {},
   "outputs": [],
   "source": [
    "print(roc_auc_score(y_test, y_pred))\n",
    "fpr, tpr, threshold = plot_roc_curve(y_test, y_pred, figsize=(15, 8))"
   ]
  },
  {
   "cell_type": "code",
   "execution_count": null,
   "metadata": {},
   "outputs": [],
   "source": [
    "# precision, recall, threshold = plot_precision_recall_curve(y_test, y_pred, figsize=(15, 8)) # kills the kernel for me."
   ]
  },
  {
   "cell_type": "code",
   "execution_count": null,
   "metadata": {},
   "outputs": [],
   "source": []
  }
 ],
 "metadata": {
  "kernelspec": {
   "display_name": "keras",
   "language": "python",
   "name": "keras"
  },
  "language_info": {
   "codemirror_mode": {
    "name": "ipython",
    "version": 3
   },
   "file_extension": ".py",
   "mimetype": "text/x-python",
   "name": "python",
   "nbconvert_exporter": "python",
   "pygments_lexer": "ipython3",
   "version": "3.6.4"
  }
 },
 "nbformat": 4,
 "nbformat_minor": 2
}
