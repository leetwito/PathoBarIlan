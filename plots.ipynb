{
 "cells": [
  {
   "cell_type": "code",
   "execution_count": 1,
   "metadata": {},
   "outputs": [],
   "source": [
    "import pandas as pd\n",
    "import matplotlib.pyplot as plt\n",
    "\n",
    "import seaborn as sns\n",
    "sns.set_style(\"darkgrid\")"
   ]
  },
  {
   "cell_type": "code",
   "execution_count": 2,
   "metadata": {},
   "outputs": [
    {
     "name": "stderr",
     "output_type": "stream",
     "text": [
      "Using TensorFlow backend.\n"
     ]
    }
   ],
   "source": [
    "import tensorflow as tf\n",
    "import scipy.io \n",
    "import matplotlib.pyplot as plt\n",
    "import cv2\n",
    "import keras\n",
    "from glob import glob\n",
    "import numpy as np\n",
    "from tqdm import tqdm\n",
    "import os\n",
    "from PIL import Image\n",
    "import pandas as pd\n",
    "import cv2\n",
    "\n",
    "from sklearn.model_selection import KFold\n",
    "# from keras.preprocessing.image import ImageDataGenerator\n",
    "\n",
    "# import keras_metrics\n",
    "\n",
    "from keras.applications import mobilenet, resnet50 #, vgg16, inception_v3, resnet50, \n",
    "from keras.optimizers import Adam\n",
    "from keras.utils import to_categorical\n",
    "from keras.callbacks import ReduceLROnPlateau, ModelCheckpoint, History\n",
    "\n",
    "from keras.preprocessing.image import load_img\n",
    "from keras.preprocessing.image import img_to_array\n",
    "\n",
    "import logging\n",
    "# logging.getLogger().setLevel(logging.DEBUG)\n",
    "import pickle\n",
    "\n",
    "\n",
    "import seaborn\n",
    "seaborn.set_style(\"darkgrid\")\n",
    "\n",
    "from sklearn.metrics import roc_curve, roc_auc_score\n",
    "from sklearn.metrics import precision_recall_curve"
   ]
  },
  {
   "cell_type": "code",
   "execution_count": 3,
   "metadata": {},
   "outputs": [],
   "source": [
    "# all_data_dir = 'E:\\\\Work/PathoBarIlan/Shlomi2018/'\n",
    "all_data_dir = '/media/leetwito/DATA/Datasets/PathoBarIlan/Shlomi2018'\n",
    "\n",
    "is_relative_path_csv = False\n",
    "seed = 4221\n",
    "\n",
    "pos_name_init = 'Cancer'\n",
    "neg_name_init = 'Normal'\n",
    "\n",
    "use_rgb = False # True=rgb, False=spectral\n",
    "if use_rgb:\n",
    "    file_ext = '.png'\n",
    "else:\n",
    "    file_ext = '.npy'\n",
    "    \n",
    "window_size = (200, 200)\n",
    "shift = (100, 100)"
   ]
  },
  {
   "cell_type": "code",
   "execution_count": 4,
   "metadata": {},
   "outputs": [],
   "source": [
    "w,h = window_size\n",
    "if use_rgb:\n",
    "    input_shape = (w,h,3)\n",
    "else:\n",
    "    input_shape = (w,h,40)\n",
    "batch_size = 16"
   ]
  },
  {
   "cell_type": "markdown",
   "metadata": {},
   "source": [
    "### loss"
   ]
  },
  {
   "cell_type": "code",
   "execution_count": 5,
   "metadata": {},
   "outputs": [],
   "source": [
    "path = '/media/leetwito/Windows/Users/leetw/PycharmProjects/PathoBarIlan/my_models/k=2, lr5e-4/losses.txt'\n",
    "with open(path, 'r') as f:\n",
    "    lines = f.readlines()"
   ]
  },
  {
   "cell_type": "code",
   "execution_count": 6,
   "metadata": {},
   "outputs": [],
   "source": [
    "train_loss = []\n",
    "for line in lines:\n",
    "#     line = str(line)\n",
    "    train_loss.append(float(line.split(\":\")[2][:-1]))"
   ]
  },
  {
   "cell_type": "raw",
   "metadata": {},
   "source": [
    "import pickle"
   ]
  },
  {
   "cell_type": "raw",
   "metadata": {},
   "source": [
    "_, _, val_loss = pickle.load(open(\"/media/leetwito/Windows/Users/leetw/PycharmProjects/PathoBarIlan/my_models/k=2, lr5e-4/model_spec_weights_epoch238-val_loss0.013-seed4221-k_idx=2-[y_gt,y_proba,loss]-val.pkl\", \"rb\"))"
   ]
  },
  {
   "cell_type": "raw",
   "metadata": {},
   "source": [
    "val_loss"
   ]
  },
  {
   "cell_type": "code",
   "execution_count": 7,
   "metadata": {},
   "outputs": [],
   "source": [
    "from glob import glob"
   ]
  },
  {
   "cell_type": "code",
   "execution_count": 8,
   "metadata": {},
   "outputs": [
    {
     "data": {
      "text/plain": [
       "'/media/leetwito/Windows/Users/leetw/PycharmProjects/PathoBarIlan/my_models/k=2, lr5e-4/model_spec_weights_epoch201-val_loss0.017-seed4221-k_idx=2.hdf5'"
      ]
     },
     "execution_count": 8,
     "metadata": {},
     "output_type": "execute_result"
    }
   ],
   "source": [
    "file_names = glob('/media/leetwito/Windows/Users/leetw/PycharmProjects/PathoBarIlan/my_models/k=2, lr5e-4/*.hdf5')\n",
    "i=0\n",
    "int(file_names[i].split(\"epoch\")[1].split(\"-\")[0])\n",
    "file_names[0]"
   ]
  },
  {
   "cell_type": "code",
   "execution_count": 9,
   "metadata": {},
   "outputs": [],
   "source": [
    "val = []\n",
    "epoch = []\n",
    "for file in file_names:\n",
    "    epoch_num = int(file.split(\"epoch\")[1].split(\"-\")[0])\n",
    "    if epoch_num > 80:\n",
    "        continue\n",
    "    val.append(float(file.split(\"val_loss\")[1].split(\"-\")[0]))\n",
    "    epoch.append(epoch_num)"
   ]
  },
  {
   "cell_type": "code",
   "execution_count": 10,
   "metadata": {},
   "outputs": [],
   "source": [
    "df = pd.DataFrame({\"val_loss\":val, \"epoch\":epoch}).set_index(\"epoch\").sort_index()\n",
    "dff = pd.DataFrame([0] + train_loss, columns=[\"train\"]).iloc[1:]\n",
    "dfff = pd.concat([df, dff], axis=1)"
   ]
  },
  {
   "cell_type": "code",
   "execution_count": 11,
   "metadata": {},
   "outputs": [
    {
     "data": {
      "text/plain": [
       "<matplotlib.axes._subplots.AxesSubplot at 0x7f8905bee240>"
      ]
     },
     "execution_count": 11,
     "metadata": {},
     "output_type": "execute_result"
    },
    {
     "data": {
      "image/png": "[encoded data removed]",
      "text/plain": [
       "<Figure size 1080x576 with 1 Axes>"
      ]
     },
     "metadata": {},
     "output_type": "display_data"
    }
   ],
   "source": [
    "dfff.rolling(5).mean().plot(figsize=(15, 8))"
   ]
  },
  {
   "cell_type": "markdown",
   "metadata": {},
   "source": [
    "### roc"
   ]
  },
  {
   "cell_type": "code",
   "execution_count": 12,
   "metadata": {},
   "outputs": [],
   "source": [
    "folders = glob('/media/leetwito/Windows/Users/leetw/PycharmProjects/PathoBarIlan/my_models/k*')"
   ]
  },
  {
   "cell_type": "code",
   "execution_count": 13,
   "metadata": {},
   "outputs": [],
   "source": [
    "def batch_norm(x):\n",
    "#     print(\"x.shape:\", x.shape)\n",
    "    maxi = x.max(axis=1).max(axis=1)\n",
    "#     print(\"maxi.shape:\", maxi.shape)\n",
    "    maxi = np.repeat(maxi[:, np.newaxis, : ], window_size[0], axis=1)\n",
    "    maxi = np.repeat(maxi[:, np.newaxis, : ], window_size[1], axis=1)\n",
    "    return x/maxi\n",
    "\n",
    "\n",
    "def generator_from_df(df, batch_size, shuffle=True): \n",
    "    \n",
    "    n_batches = df.shape[0]//batch_size\n",
    "    while True:\n",
    "        if shuffle:\n",
    "            df_tmp = df.copy().sample(frac=1)  # frac=1 is same as shuffling df.\n",
    "        else:\n",
    "            df_tmp = df\n",
    "        \n",
    "        for i in range(n_batches):\n",
    "            sub = df_tmp.iloc[batch_size*i:batch_size*(i+1)]\n",
    "#             start = time()\n",
    "            if use_rgb:\n",
    "                X = [img_to_array(load_img(f, target_size=input_shape)) for f in sub.filename]\n",
    "            else:\n",
    "                X = [np.load(f) for f in sub.filename]\n",
    "#             end = time()\n",
    "#             print(\"batch load time: {}\".format(end-start))\n",
    "            \n",
    "            X = batch_norm(np.stack(X))\n",
    "            logging.debug(\"from file {}\\nto file {}\".format(sub.iloc[0].filename, sub.iloc[-1].filename))\n",
    "\n",
    "            Y = sub.label.values\n",
    "            Y = to_categorical(Y, num_classes=2)\n",
    "            # Simple model, one input, one output.\n",
    "            \n",
    "            yield X, Y\n",
    "        del df_tmp\n",
    "        gc.collect()"
   ]
  },
  {
   "cell_type": "code",
   "execution_count": 14,
   "metadata": {},
   "outputs": [],
   "source": [
    "def get_y_test_and_pred():\n",
    "    y_tests = []\n",
    "    y_preds = []\n",
    "    for i in range(len(df_test)//batch_size):\n",
    "        print(i, \"out of\", len(df_test)//batch_size)\n",
    "        x, y = next(test_generator)\n",
    "        print(mobilenet_model.evaluate(x, y))\n",
    "        y_tests.append(y.argmax(axis=1))\n",
    "        y_preds.append(mobilenet_model.predict(x)[:,1])\n",
    "    \n",
    "    y_test = np.stack(y_tests)\n",
    "    y_pred = np.stack(y_preds)\n",
    "\n",
    "    y_test = y_test.reshape((-1, 1))\n",
    "    y_pred = y_pred.reshape((-1, 1))\n",
    "    \n",
    "    return y_test, y_pred"
   ]
  },
  {
   "cell_type": "code",
   "execution_count": 15,
   "metadata": {
    "scrolled": true
   },
   "outputs": [
    {
     "name": "stderr",
     "output_type": "stream",
     "text": [
      "/media/leetwito/Windows/Users/leetw/PycharmProjects/venvs/keras/lib/python3.5/site-packages/keras_applications/imagenet_utils.py:279: UserWarning: This model usually expects 1 or 3 input channels. However, it was passed an input_shape with 40 input channels.\n",
      "  str(input_shape[-1]) + ' input channels.')\n"
     ]
    },
    {
     "name": "stdout",
     "output_type": "stream",
     "text": [
      "\n",
      "---------------------------------\n",
      " in 0 file=/media/leetwito/Windows/Users/leetw/PycharmProjects/PathoBarIlan/my_models/k=0, lr1e-2\n",
      "---------------------------------\n",
      "0 out of 19\n",
      "16/16 [==============================] - 2s 98ms/step\n",
      "0.0643250122666359\n",
      "1 out of 19\n",
      "16/16 [==============================] - 0s 14ms/step\n",
      "0.010653158649802208\n",
      "2 out of 19\n",
      "16/16 [==============================] - 0s 13ms/step\n",
      "0.06340283155441284\n",
      "3 out of 19\n",
      "16/16 [==============================] - 0s 14ms/step\n",
      "0.12308164685964584\n",
      "4 out of 19\n",
      "16/16 [==============================] - 0s 13ms/step\n",
      "0.03709855675697327\n",
      "5 out of 19\n",
      "16/16 [==============================] - 0s 13ms/step\n",
      "0.05332878232002258\n",
      "6 out of 19\n",
      "16/16 [==============================] - 0s 13ms/step\n",
      "0.07255236804485321\n",
      "7 out of 19\n",
      "16/16 [==============================] - 0s 14ms/step\n",
      "0.06939946115016937\n",
      "8 out of 19\n",
      "16/16 [==============================] - 0s 14ms/step\n",
      "0.025100134313106537\n",
      "9 out of 19\n",
      "16/16 [==============================] - 0s 15ms/step\n",
      "0.07519824057817459\n",
      "10 out of 19\n",
      "16/16 [==============================] - 0s 14ms/step\n",
      "0.07052872329950333\n",
      "11 out of 19\n",
      "16/16 [==============================] - 0s 14ms/step\n",
      "0.09650376439094543\n",
      "12 out of 19\n",
      "16/16 [==============================] - 0s 14ms/step\n",
      "0.045530278235673904\n",
      "13 out of 19\n",
      "16/16 [==============================] - 0s 14ms/step\n",
      "0.042581453919410706\n",
      "14 out of 19\n",
      "16/16 [==============================] - 0s 14ms/step\n",
      "0.019381742924451828\n",
      "15 out of 19\n",
      "16/16 [==============================] - 0s 14ms/step\n",
      "0.15910878777503967\n",
      "16 out of 19\n",
      "16/16 [==============================] - 0s 14ms/step\n",
      "0.0015920891892164946\n",
      "17 out of 19\n",
      "16/16 [==============================] - 0s 14ms/step\n",
      "0.36256322264671326\n",
      "18 out of 19\n",
      "16/16 [==============================] - 0s 14ms/step\n",
      "0.015666324645280838\n",
      "\n",
      "---------------------------------\n",
      " in 1 file=/media/leetwito/Windows/Users/leetw/PycharmProjects/PathoBarIlan/my_models/k=1 lr1e-2\n",
      "---------------------------------\n",
      "0 out of 39\n",
      "16/16 [==============================] - 0s 14ms/step\n",
      "1.0960467022869125e-07\n",
      "1 out of 39\n",
      "16/16 [==============================] - 0s 14ms/step\n",
      "0.025010820478200912\n",
      "2 out of 39\n",
      "16/16 [==============================] - 0s 14ms/step\n",
      "0.010552274994552135\n",
      "3 out of 39\n",
      "16/16 [==============================] - 0s 14ms/step\n",
      "0.0023907150607556105\n",
      "4 out of 39\n",
      "16/16 [==============================] - 0s 14ms/step\n",
      "0.00459913769736886\n",
      "5 out of 39\n",
      "16/16 [==============================] - 0s 14ms/step\n",
      "0.4075276255607605\n",
      "6 out of 39\n",
      "16/16 [==============================] - 0s 14ms/step\n",
      "0.09116021543741226\n",
      "7 out of 39\n",
      "16/16 [==============================] - 0s 14ms/step\n",
      "0.14736080169677734\n",
      "8 out of 39\n",
      "16/16 [==============================] - 0s 14ms/step\n",
      "0.003535789903253317\n",
      "9 out of 39\n",
      "16/16 [==============================] - 0s 14ms/step\n",
      "0.005353166721761227\n",
      "10 out of 39\n",
      "16/16 [==============================] - 0s 14ms/step\n",
      "2.902598623677477e-07\n",
      "11 out of 39\n",
      "16/16 [==============================] - 0s 14ms/step\n",
      "0.002273753983899951\n",
      "12 out of 39\n",
      "16/16 [==============================] - 0s 14ms/step\n",
      "1.7807229824029491e-06\n",
      "13 out of 39\n",
      "16/16 [==============================] - 0s 16ms/step\n",
      "1.0960467022869125e-07\n",
      "14 out of 39\n",
      "16/16 [==============================] - 0s 14ms/step\n",
      "0.0016283491859212518\n",
      "15 out of 39\n",
      "16/16 [==============================] - 0s 14ms/step\n",
      "5.663940214617469e-07\n",
      "16 out of 39\n",
      "16/16 [==============================] - 0s 14ms/step\n",
      "1.2538372118342522e-07\n",
      "17 out of 39\n",
      "16/16 [==============================] - 0s 14ms/step\n",
      "0.02200488932430744\n",
      "18 out of 39\n",
      "16/16 [==============================] - 0s 16ms/step\n",
      "2.4485268568241736e-06\n",
      "19 out of 39\n",
      "16/16 [==============================] - 0s 16ms/step\n",
      "2.0657631694120937e-07\n",
      "20 out of 39\n",
      "16/16 [==============================] - 0s 15ms/step\n",
      "0.09145565330982208\n",
      "21 out of 39\n",
      "16/16 [==============================] - 0s 15ms/step\n",
      "0.0029519712552428246\n",
      "22 out of 39\n",
      "16/16 [==============================] - 0s 14ms/step\n",
      "0.17057989537715912\n",
      "23 out of 39\n",
      "16/16 [==============================] - 0s 16ms/step\n",
      "0.00691332807764411\n",
      "24 out of 39\n",
      "16/16 [==============================] - 0s 16ms/step\n",
      "1.1040108915949531e-07\n",
      "25 out of 39\n",
      "16/16 [==============================] - 0s 14ms/step\n",
      "0.005694482009857893\n",
      "26 out of 39\n",
      "16/16 [==============================] - 0s 14ms/step\n",
      "0.0023555003572255373\n",
      "27 out of 39\n",
      "16/16 [==============================] - 0s 14ms/step\n",
      "0.02258593961596489\n",
      "28 out of 39\n",
      "16/16 [==============================] - 0s 16ms/step\n",
      "3.7978863929311046e-06\n",
      "29 out of 39\n",
      "16/16 [==============================] - 0s 14ms/step\n",
      "0.04875454679131508\n",
      "30 out of 39\n",
      "16/16 [==============================] - 0s 14ms/step\n",
      "1.0960467022869125e-07\n",
      "31 out of 39\n",
      "16/16 [==============================] - 0s 15ms/step\n",
      "0.002043594606220722\n",
      "32 out of 39\n",
      "16/16 [==============================] - 0s 13ms/step\n",
      "1.0960467022869125e-07\n",
      "33 out of 39\n",
      "16/16 [==============================] - 0s 14ms/step\n",
      "0.05659520626068115\n",
      "34 out of 39\n",
      "16/16 [==============================] - 0s 14ms/step\n",
      "8.465227665510611e-07\n",
      "35 out of 39\n",
      "16/16 [==============================] - 0s 16ms/step\n",
      "0.03568434342741966\n",
      "36 out of 39\n",
      "16/16 [==============================] - 0s 13ms/step\n",
      "0.006284909788519144\n",
      "37 out of 39\n",
      "16/16 [==============================] - 0s 16ms/step\n",
      "1.1631042440285455e-07\n",
      "38 out of 39\n",
      "16/16 [==============================] - 0s 14ms/step\n",
      "0.0063191731460392475\n",
      "\n",
      "---------------------------------\n",
      " in 2 file=/media/leetwito/Windows/Users/leetw/PycharmProjects/PathoBarIlan/my_models/k=2, lr5e-4\n",
      "---------------------------------\n",
      "0 out of 11\n",
      "16/16 [==============================] - 0s 14ms/step\n",
      "0.027275260537862778\n",
      "1 out of 11\n",
      "16/16 [==============================] - 0s 14ms/step\n",
      "0.0238751620054245\n",
      "2 out of 11\n",
      "16/16 [==============================] - 0s 14ms/step\n",
      "0.004215116146951914\n",
      "3 out of 11\n",
      "16/16 [==============================] - 0s 14ms/step\n",
      "0.026432249695062637\n",
      "4 out of 11\n",
      "16/16 [==============================] - 0s 14ms/step\n",
      "0.020818179473280907\n",
      "5 out of 11\n",
      "16/16 [==============================] - 0s 14ms/step\n",
      "0.007041400298476219\n",
      "6 out of 11\n",
      "16/16 [==============================] - 0s 15ms/step\n",
      "0.02169821225106716\n",
      "7 out of 11\n",
      "16/16 [==============================] - 0s 15ms/step\n",
      "0.00877191312611103\n",
      "8 out of 11\n",
      "16/16 [==============================] - 0s 15ms/step\n",
      "0.008956079371273518\n",
      "9 out of 11\n",
      "16/16 [==============================] - 0s 14ms/step\n",
      "0.0026668424252420664\n",
      "10 out of 11\n",
      "16/16 [==============================] - 0s 14ms/step\n",
      "0.02171754650771618\n",
      "\n",
      "---------------------------------\n",
      " in 3 file=/media/leetwito/Windows/Users/leetw/PycharmProjects/PathoBarIlan/my_models/k=3, lr1e-2\n",
      "---------------------------------\n",
      "0 out of 13\n",
      "16/16 [==============================] - 0s 14ms/step\n",
      "0.014569907449185848\n",
      "1 out of 13\n",
      "16/16 [==============================] - 0s 14ms/step\n",
      "0.07675523310899734\n",
      "2 out of 13\n",
      "16/16 [==============================] - 0s 16ms/step\n",
      "0.0073660570196807384\n",
      "3 out of 13\n",
      "16/16 [==============================] - 0s 14ms/step\n",
      "0.13728590309619904\n",
      "4 out of 13\n",
      "16/16 [==============================] - 0s 14ms/step\n",
      "0.4046984910964966\n",
      "5 out of 13\n",
      "16/16 [==============================] - 0s 14ms/step\n",
      "0.003102716524153948\n",
      "6 out of 13\n",
      "16/16 [==============================] - 0s 15ms/step\n",
      "0.055787280201911926\n",
      "7 out of 13\n",
      "16/16 [==============================] - 0s 14ms/step\n",
      "0.01433965191245079\n",
      "8 out of 13\n",
      "16/16 [==============================] - 0s 14ms/step\n",
      "0.26698824763298035\n",
      "9 out of 13\n",
      "16/16 [==============================] - 0s 14ms/step\n",
      "0.04204779863357544\n",
      "10 out of 13\n",
      "16/16 [==============================] - 0s 14ms/step\n",
      "0.0017289271345362067\n",
      "11 out of 13\n",
      "16/16 [==============================] - 0s 14ms/step\n",
      "0.025423169136047363\n",
      "12 out of 13\n",
      "16/16 [==============================] - 0s 14ms/step\n",
      "0.1420566290616989\n",
      "\n",
      "---------------------------------\n",
      " in 4 file=/media/leetwito/Windows/Users/leetw/PycharmProjects/PathoBarIlan/my_models/k=4, lr1e-2\n",
      "---------------------------------\n",
      "0 out of 2\n",
      "16/16 [==============================] - 0s 14ms/step\n",
      "1.0960467022869125e-07\n",
      "1 out of 2\n",
      "16/16 [==============================] - 0s 14ms/step\n",
      "1.0960467022869125e-07\n"
     ]
    }
   ],
   "source": [
    "mobilenet_model = mobilenet.MobileNet(include_top=True, weights=None, input_shape=input_shape, classes=2, dropout=0.2)\n",
    "optimizer = Adam(lr=5e-4) # 1e-3\n",
    "mobilenet_model.compile(loss=\"binary_crossentropy\", optimizer=optimizer) #  binary_crossentropy , categorical_crossentropy\n",
    "y_trues = []\n",
    "y_preds = []\n",
    "\n",
    "\n",
    "for i, folder in enumerate(folders):\n",
    "    print(\"\\n---------------------------------\\n in %d file=%s\\n---------------------------------\"%(i, folder))\n",
    "    df_test = pd.read_pickle(\"./my_models/df_test_%i\"%i)\n",
    "    test_generator = generator_from_df(df_test, 16, shuffle=False)\n",
    "    all_ckpnts = glob(folder+\"/*.hdf5\")\n",
    "    val = 100\n",
    "    for model in all_ckpnts:\n",
    "        tmp_val = (float(model.split(\"val_loss\")[1].split(\"-\")[0]))\n",
    "        if tmp_val<val:\n",
    "            file = model\n",
    "            val = tmp_val\n",
    "    mobilenet_model.load_weights(file)\n",
    "    y_test, y_pred = get_y_test_and_pred()\n",
    "    y_trues.append(y_test)\n",
    "    y_preds.append(y_pred)"
   ]
  },
  {
   "cell_type": "code",
   "execution_count": 16,
   "metadata": {},
   "outputs": [],
   "source": [
    "def plot_roc_curve(y_true, y_scores, figsize=(15, 8)):\n",
    "    fpr, tpr, threshold = roc_curve(y_true, y_scores)\n",
    "    plt.figure(figsize=figsize)\n",
    "    plt.plot(fpr, tpr)\n",
    "    plt.plot([0, 1], [0, 1], \"k--\")\n",
    "    plt.axes()\n",
    "\n",
    "    return fpr, tpr, threshold"
   ]
  },
  {
   "cell_type": "code",
   "execution_count": 17,
   "metadata": {},
   "outputs": [],
   "source": [
    "y_trues = [i[:, 0] for i in y_trues] \n",
    "y_preds = [i[:, 0] for i in y_preds] "
   ]
  },
  {
   "cell_type": "code",
   "execution_count": 18,
   "metadata": {},
   "outputs": [],
   "source": [
    "y_trues = np.concatenate(y_trues)\n",
    "y_preds = np.concatenate(y_preds)"
   ]
  },
  {
   "cell_type": "code",
   "execution_count": 22,
   "metadata": {},
   "outputs": [],
   "source": [
    "pickle.dump([y_trues, y_preds], open('./my_models/all_y_trues-all_y_preds.pkl', 'wb'))"
   ]
  },
  {
   "cell_type": "code",
   "execution_count": 20,
   "metadata": {
    "scrolled": true
   },
   "outputs": [
    {
     "data": {
      "image/png": "[encoded data removed]",
      "text/plain": [
       "<Figure size 1080x576 with 1 Axes>"
      ]
     },
     "metadata": {},
     "output_type": "display_data"
    }
   ],
   "source": [
    "fpr, tpr, threshold = plot_roc_curve(y_trues, y_preds)"
   ]
  },
  {
   "cell_type": "code",
   "execution_count": 23,
   "metadata": {},
   "outputs": [
    {
     "name": "stdout",
     "output_type": "stream",
     "text": [
      "0.998487482656548\n"
     ]
    }
   ],
   "source": [
    "print(roc_auc_score(y_trues, y_preds))"
   ]
  },
  {
   "cell_type": "code",
   "execution_count": null,
   "metadata": {},
   "outputs": [],
   "source": []
  },
  {
   "cell_type": "code",
   "execution_count": 34,
   "metadata": {},
   "outputs": [],
   "source": [
    "from sklearn.metrics import precision_recall_curve\n",
    "from sklearn.utils.fixes import signature\n",
    "from sklearn.metrics import average_precision_score"
   ]
  },
  {
   "cell_type": "code",
   "execution_count": 35,
   "metadata": {},
   "outputs": [],
   "source": [
    "average_precision = average_precision_score(y_trues, y_preds)"
   ]
  },
  {
   "cell_type": "code",
   "execution_count": 36,
   "metadata": {},
   "outputs": [],
   "source": [
    "precision, recall, _ = precision_recall_curve(y_trues, y_preds)"
   ]
  },
  {
   "cell_type": "code",
   "execution_count": 38,
   "metadata": {},
   "outputs": [
    {
     "data": {
      "text/plain": [
       "Text(0.5, 1.0, '2-class Precision-Recall curve: AP=1.00')"
      ]
     },
     "execution_count": 38,
     "metadata": {},
     "output_type": "execute_result"
    },
    {
     "data": {
      "image/png": "[encoded data removed]",
      "text/plain": [
       "<Figure size 432x288 with 1 Axes>"
      ]
     },
     "metadata": {},
     "output_type": "display_data"
    }
   ],
   "source": [
    "step_kwargs = ({'step': 'post'}\n",
    "               if 'step' in signature(plt.fill_between).parameters\n",
    "               else {})\n",
    "plt.step(recall, precision, color='b', alpha=0.2,\n",
    "         where='post')\n",
    "plt.fill_between(recall, precision, alpha=0.2, color='b', **step_kwargs)\n",
    "\n",
    "plt.xlabel('Recall')\n",
    "plt.ylabel('Precision')\n",
    "plt.ylim([0.9, 1.05])\n",
    "plt.xlim([0.9, 1.0])\n",
    "plt.title('2-class Precision-Recall curve: AP={0:0.2f}'.format(\n",
    "          average_precision))"
   ]
  },
  {
   "cell_type": "code",
   "execution_count": null,
   "metadata": {},
   "outputs": [],
   "source": []
  }
 ],
 "metadata": {
  "kernelspec": {
   "display_name": "Python 3",
   "language": "python",
   "name": "python3"
  },
  "language_info": {
   "codemirror_mode": {
    "name": "ipython",
    "version": 3
   },
   "file_extension": ".py",
   "mimetype": "text/x-python",
   "name": "python",
   "nbconvert_exporter": "python",
   "pygments_lexer": "ipython3",
   "version": "3.5.2"
  }
 },
 "nbformat": 4,
 "nbformat_minor": 2
}
