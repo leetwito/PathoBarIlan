{
 "cells": [
  {
   "cell_type": "code",
   "execution_count": 1,
   "metadata": {},
   "outputs": [],
   "source": [
    "import tensorflow"
   ]
  },
  {
   "cell_type": "code",
   "execution_count": 2,
   "metadata": {},
   "outputs": [
    {
     "name": "stderr",
     "output_type": "stream",
     "text": [
      "Using TensorFlow backend.\n"
     ]
    }
   ],
   "source": [
    "import scipy.io \n",
    "import matplotlib.pyplot as plt\n",
    "import cv2\n",
    "import keras\n",
    "from glob import glob\n",
    "import numpy as np\n",
    "from tqdm import tqdm\n",
    "import os\n",
    "from PIL import Image\n",
    "import pandas as pd\n",
    "\n",
    "from keras.applications import mobilenet, resnet50 #, vgg16, inception_v3, resnet50, \n",
    "from keras.optimizers import Adam\n",
    "from keras.utils import to_categorical\n",
    "from keras.callbacks import ReduceLROnPlateau, ModelCheckpoint, History\n",
    "\n",
    "from keras.preprocessing.image import load_img\n",
    "from keras.preprocessing.image import img_to_array\n",
    "\n",
    "# from scikitplot.metrics import plot_roc_curve"
   ]
  },
  {
   "cell_type": "markdown",
   "metadata": {},
   "source": [
    "## Params"
   ]
  },
  {
   "cell_type": "code",
   "execution_count": 3,
   "metadata": {},
   "outputs": [],
   "source": [
    "# normal_paths = glob('E:/Datasets/PathoBarIlan/Case8/Normal*.mat')\n",
    "# cancer_paths = glob('E:/Datasets/PathoBarIlan/Case8/Cancer*.mat')\n",
    "# mixed_paths = glob('E:/Datasets/PathoBarIlan/Case8/Mixed*.mat')\n",
    "\n",
    "# data_dir = 'E:/Datasets/PathoBarIlan/Case8'\n",
    "# all_data_dir = 'E:/Datasets/PathoBarIlan/Shlomi2018/'\n",
    "all_data_dir = '/media/leetwito/DATA/Datasets/PathoBarIlan/Shlomi2018'\n",
    "is_relative_path_csv = False\n",
    "seed = 4221\n",
    "\n",
    "\n",
    "pos_name_init = 'Cancer'\n",
    "neg_name_init = 'Normal'\n",
    "\n",
    "use_rgb = True # True=rgb, False=spectral\n",
    "if use_rgb:\n",
    "    file_ext = '.png'\n",
    "else:\n",
    "    file_ext = '.npy'\n",
    "    \n",
    "window_size = (200, 200)\n",
    "shift = (100, 100)"
   ]
  },
  {
   "cell_type": "markdown",
   "metadata": {},
   "source": [
    "## utils"
   ]
  },
  {
   "cell_type": "code",
   "execution_count": 4,
   "metadata": {},
   "outputs": [],
   "source": [
    "def read_slide(path):\n",
    "    mat = scipy.io.loadmat(path)\n",
    "    spectral = mat[\"Spec\"]\n",
    "    rgb = mat[\"Section\"]\n",
    "    shape = rgb.shape\n",
    "    \n",
    "    return spectral, rgb"
   ]
  },
  {
   "cell_type": "code",
   "execution_count": 5,
   "metadata": {},
   "outputs": [],
   "source": [
    "def create_batch_of_crops_from_slide(img, window_size, shift, vis_flag=False):\n",
    "    crops = []\n",
    "\n",
    "    n_iter_x = (img.shape[1]-window_size[0])//shift[0] + 1\n",
    "\n",
    "    n_iter_y = (img.shape[0]-window_size[1])//shift[1] + 1\n",
    "\n",
    "#     n_iter_x, n_iter_y\n",
    "\n",
    "    for i in range(n_iter_x):\n",
    "        for j in range(n_iter_y):\n",
    "            init_y = i*shift[0]\n",
    "            init_x = j*shift[1]\n",
    "        \n",
    "            crops.append(img[init_x:init_x+window_size[0], init_y:init_y+window_size[1], :])\n",
    "    if vis_flag:\n",
    "        visualize_batch_of_crops(crops, n_iter_y, n_iter_x)\n",
    "    return crops"
   ]
  },
  {
   "cell_type": "code",
   "execution_count": 6,
   "metadata": {},
   "outputs": [],
   "source": [
    "def visualize_batch_of_crops(crops, n_iter_y, n_iter_x):\n",
    "    fig, axes = plt.subplots(n_iter_y, n_iter_x, figsize=(5, 5), gridspec_kw = {'wspace':0, 'hspace':0})\n",
    "\n",
    "    for i in range(n_iter_x):\n",
    "        for j in range(n_iter_y):\n",
    "            axes[j, i].imshow(crops[i*n_iter_y + j])\n",
    "            axes[j, i].axis('off')\n",
    "            axes[j, i].set_aspect('equal')\n",
    "    plt.show()"
   ]
  },
  {
   "cell_type": "code",
   "execution_count": 7,
   "metadata": {},
   "outputs": [],
   "source": [
    "def create_crops_from_fileslist(fileslist, window_size, shift):\n",
    "    rgb_crops = []\n",
    "    spectral_crops = []\n",
    "    labels = []\n",
    "\n",
    "    for file in tqdm(fileslist):\n",
    "#         file_name = os.path.basename(file)\n",
    "#         print('Saving crops for file {} ...'.format(file_name))\n",
    "#         print(file)\n",
    "        spectral, rgb = read_slide(file)\n",
    "        spectral_crops = create_batch_of_crops_from_slide(spectral, window_size=window_size, shift=shift)\n",
    "        rgb_crops = create_batch_of_crops_from_slide(rgb, window_size=window_size, shift=shift)\n",
    "#         if pos_name_init in file_name:\n",
    "#             labels += [True]*len(added_rgb_crops)\n",
    "#         elif neg_name_init in file_name:\n",
    "#             labels += [False]*len(added_rgb_crops)\n",
    "#         else:\n",
    "#             raise ValueError('File {} is not in the right format ({}-pos, {}-neg)'.format(file_name, pos_name_init, neg_name_init))\n",
    "#         print(labels)\n",
    "        save_dir = file.replace('.mat', '_win{}-{}_shift{}-{}'.format(window_size[0], window_size[1], shift[0], shift[1]))\n",
    "        if not os.path.exists(save_dir):\n",
    "            os.makedirs(save_dir)\n",
    "#         np.save(save_dir+'/Spectral_crops.npy', spectral_crops)\n",
    "#         np.save(file.replace('.mat', '_RGB_win{}-{}_shift{}-{}.npy'.format(window_size[0], window_size[1], shift[0], shift[1])), rgb_crops)\n",
    "        for idx, (im_np, spec_np) in enumerate(zip(rgb_crops, spectral_crops)):\n",
    "            im = Image.fromarray(im_np)\n",
    "            im.save(os.path.join(save_dir, '{:05}.png'.format(idx)))\n",
    "            np.save(os.path.join(save_dir, '{:05}.npy'.format(idx)), spec_np)\n",
    "    \n",
    "#     out_labels = to_categorical(labels)\n",
    "#     out_sepc = np.stack(spectral_crops)\n",
    "#     out_rgb = np.stack(rgb_crops)\n",
    "    \n",
    "    \n",
    "#     return out_sepc, out_rgb, out_labels"
   ]
  },
  {
   "cell_type": "code",
   "execution_count": 8,
   "metadata": {},
   "outputs": [],
   "source": [
    "def create_crops_from_dir(dir_path, window_size, shift):\n",
    "    print('Saving crops for slides in dir: {}'.format(dir_path))\n",
    "    fileslist = glob(dir_path + '/*.mat')\n",
    "    create_crops_from_fileslist(fileslist, window_size, shift)\n",
    "#     return spectral_crops, rgb_crops, labels"
   ]
  },
  {
   "cell_type": "code",
   "execution_count": 9,
   "metadata": {},
   "outputs": [],
   "source": [
    "def create_csv_for_folder(data_dir, ext):\n",
    "    if ext[0] == '.':\n",
    "        ext = ext[1:]\n",
    "    data_df = pd.DataFrame(columns=['filename', 'label'])\n",
    "    files = glob(os.path.join(data_dir,'*', '*.{}'.format(ext)))\n",
    "    files = [file for file in files if \"Mixed\" not in file]\n",
    "#     print(data_dir+'/*/*.{}'.format(ext))\n",
    "    \n",
    "    init_len = len(data_dir)\n",
    "    delete_folder = all_data_dir\n",
    "    if not is_relative_path_csv:\n",
    "        delete_folder = '/'\n",
    "    if not delete_folder[-1] == '/':\n",
    "        delete_folder += '/'\n",
    "    files = [file.replace(delete_folder, '/') for file in files]\n",
    "#     print(files)\n",
    "    labels = [1 if pos_name_init in file else 0 for file in files]\n",
    "#     print(labels)\n",
    "    data_df['filename'] = files\n",
    "    data_df['label'] = labels\n",
    "#     data_df.to_csv(os.path.join(data_dir, os.path.basename(data_dir)+'.csv'), index=False)\n",
    "#     print('Created CSV successfully for folder {}'.format(data_dir))\n",
    "    \n",
    "    return data_df    "
   ]
  },
  {
   "cell_type": "code",
   "execution_count": 10,
   "metadata": {},
   "outputs": [],
   "source": [
    "slides = glob(os.path.join(all_data_dir, \"*/\"))"
   ]
  },
  {
   "cell_type": "code",
   "execution_count": 11,
   "metadata": {},
   "outputs": [
    {
     "data": {
      "text/plain": [
       "['/media/leetwito/DATA/Datasets/PathoBarIlan/Shlomi2018/Case10/',\n",
       " '/media/leetwito/DATA/Datasets/PathoBarIlan/Shlomi2018/Case11/',\n",
       " '/media/leetwito/DATA/Datasets/PathoBarIlan/Shlomi2018/Case12/',\n",
       " '/media/leetwito/DATA/Datasets/PathoBarIlan/Shlomi2018/Case14/',\n",
       " '/media/leetwito/DATA/Datasets/PathoBarIlan/Shlomi2018/Case16/',\n",
       " '/media/leetwito/DATA/Datasets/PathoBarIlan/Shlomi2018/Case16b/',\n",
       " '/media/leetwito/DATA/Datasets/PathoBarIlan/Shlomi2018/Case17/',\n",
       " '/media/leetwito/DATA/Datasets/PathoBarIlan/Shlomi2018/Case18/',\n",
       " '/media/leetwito/DATA/Datasets/PathoBarIlan/Shlomi2018/Case19484/',\n",
       " '/media/leetwito/DATA/Datasets/PathoBarIlan/Shlomi2018/Case8/']"
      ]
     },
     "execution_count": 11,
     "metadata": {},
     "output_type": "execute_result"
    }
   ],
   "source": [
    "slides\n",
    "# os.path.join(all_data_dir, \"*/\")"
   ]
  },
  {
   "cell_type": "code",
   "execution_count": 12,
   "metadata": {},
   "outputs": [
    {
     "name": "stdout",
     "output_type": "stream",
     "text": [
      "TRAIN: [2 3 4 5 6 7 8 9] TEST: [0 1]\n",
      "TRAIN: [0 1 2 3 5 7 8 9] TEST: [4 6]\n",
      "TRAIN: [0 1 3 4 5 6 7 8] TEST: [2 9]\n",
      "TRAIN: [0 1 2 4 6 7 8 9] TEST: [3 5]\n",
      "TRAIN: [0 1 2 3 4 5 6 9] TEST: [7 8]\n"
     ]
    }
   ],
   "source": [
    "from sklearn.model_selection import KFold\n",
    "from keras.preprocessing.image import ImageDataGenerator\n",
    "\n",
    "skf = KFold(n_splits=5, shuffle=True, random_state=seed)\n",
    "\n",
    "train_slides_all = []\n",
    "test_slides_all = []\n",
    "val_slides_all = []\n",
    "\n",
    "for train_index, test_index in skf.split(np.arange(len(slides)).T, np.arange(len(slides)).T):\n",
    "    print(\"TRAIN:\", train_index, \"TEST:\", test_index)\n",
    "    train_slides_all.append(train_index)\n",
    "    val_slides_all.append([test_index[0]])\n",
    "    test_slides_all.append([test_index[1]])"
   ]
  },
  {
   "cell_type": "code",
   "execution_count": 13,
   "metadata": {},
   "outputs": [
    {
     "data": {
      "text/plain": [
       "(array([0, 1, 2, 4, 6, 7, 8, 9]), [3], [5])"
      ]
     },
     "execution_count": 13,
     "metadata": {},
     "output_type": "execute_result"
    }
   ],
   "source": [
    "i = 3\n",
    "\n",
    "train_index = train_slides_all[i]\n",
    "val_index = val_slides_all[i]\n",
    "test_index = test_slides_all[i]\n",
    "\n",
    "train_index, val_index, test_index"
   ]
  },
  {
   "cell_type": "code",
   "execution_count": 14,
   "metadata": {},
   "outputs": [],
   "source": [
    "def get_dfs_for_indices(slides, index_list):\n",
    "    dfs = []\n",
    "\n",
    "    for slide in np.array(slides)[index_list]:\n",
    "        data_dir = slide\n",
    "        dfs.append(create_csv_for_folder(data_dir, file_ext))\n",
    "    return pd.concat(dfs, ignore_index=True)"
   ]
  },
  {
   "cell_type": "code",
   "execution_count": 15,
   "metadata": {},
   "outputs": [],
   "source": [
    "df_train = get_dfs_for_indices(slides, train_index)\n",
    "df_test = get_dfs_for_indices(slides, test_index)\n",
    "df_val = get_dfs_for_indices(slides, val_index)\n",
    "\n",
    "df_train.to_csv(os.path.join(all_data_dir, 'train_files.csv'), index=False)\n",
    "df_val.to_csv(os.path.join(all_data_dir, 'val_files.csv'), index=False)\n",
    "df_test.to_csv(os.path.join(all_data_dir, 'test_files.csv'), index=False)"
   ]
  },
  {
   "cell_type": "code",
   "execution_count": 16,
   "metadata": {},
   "outputs": [],
   "source": [
    "pd.options.display.max_colwidth = 150"
   ]
  },
  {
   "cell_type": "code",
   "execution_count": 17,
   "metadata": {},
   "outputs": [
    {
     "name": "stdout",
     "output_type": "stream",
     "text": [
      "2992\n",
      "2992\n",
      "2\n",
      "2\n"
     ]
    }
   ],
   "source": [
    "print(len(df_train.index.values))\n",
    "print(len(set(df_train.index.values)))\n",
    "\n",
    "print(len(df_train.columns.values))\n",
    "print(len(set(df_train.columns.values)))"
   ]
  },
  {
   "cell_type": "code",
   "execution_count": 18,
   "metadata": {},
   "outputs": [],
   "source": [
    "assert len(set(df_train.label.values)) == 2 and len(set(df_val.label.values)) == 2 and len(set(df_test.label.values)) == 2  "
   ]
  },
  {
   "cell_type": "code",
   "execution_count": 19,
   "metadata": {
    "scrolled": true
   },
   "outputs": [
    {
     "data": {
      "text/html": [
       "<div>\n",
       "<style scoped>\n",
       "    .dataframe tbody tr th:only-of-type {\n",
       "        vertical-align: middle;\n",
       "    }\n",
       "\n",
       "    .dataframe tbody tr th {\n",
       "        vertical-align: top;\n",
       "    }\n",
       "\n",
       "    .dataframe thead th {\n",
       "        text-align: right;\n",
       "    }\n",
       "</style>\n",
       "<table border=\"1\" class=\"dataframe\">\n",
       "  <thead>\n",
       "    <tr style=\"text-align: right;\">\n",
       "      <th></th>\n",
       "      <th>filename</th>\n",
       "      <th>label</th>\n",
       "    </tr>\n",
       "  </thead>\n",
       "  <tbody>\n",
       "    <tr>\n",
       "      <th>417</th>\n",
       "      <td>/media/leetwito/DATA/Datasets/PathoBarIlan/Shlomi2018/Case11/Normal_Case11c1_win200-200_shift100-100/00005.png</td>\n",
       "      <td>0</td>\n",
       "    </tr>\n",
       "    <tr>\n",
       "      <th>1669</th>\n",
       "      <td>/media/leetwito/DATA/Datasets/PathoBarIlan/Shlomi2018/Case16/Normal_Case16d1_win200-200_shift100-100/00053.png</td>\n",
       "      <td>0</td>\n",
       "    </tr>\n",
       "    <tr>\n",
       "      <th>2197</th>\n",
       "      <td>/media/leetwito/DATA/Datasets/PathoBarIlan/Shlomi2018/Case17/Normal_Case17g2_win200-200_shift100-100/00010.png</td>\n",
       "      <td>0</td>\n",
       "    </tr>\n",
       "    <tr>\n",
       "      <th>1066</th>\n",
       "      <td>/media/leetwito/DATA/Datasets/PathoBarIlan/Shlomi2018/Case12/Cancer_Case12q1_win200-200_shift100-100/00062.png</td>\n",
       "      <td>1</td>\n",
       "    </tr>\n",
       "    <tr>\n",
       "      <th>2098</th>\n",
       "      <td>/media/leetwito/DATA/Datasets/PathoBarIlan/Shlomi2018/Case17/Cancer_Case17f1_win200-200_shift100-100/00011.png</td>\n",
       "      <td>1</td>\n",
       "    </tr>\n",
       "    <tr>\n",
       "      <th>86</th>\n",
       "      <td>/media/leetwito/DATA/Datasets/PathoBarIlan/Shlomi2018/Case10/Normal_Case10a1_win200-200_shift100-100/00024.png</td>\n",
       "      <td>0</td>\n",
       "    </tr>\n",
       "    <tr>\n",
       "      <th>1572</th>\n",
       "      <td>/media/leetwito/DATA/Datasets/PathoBarIlan/Shlomi2018/Case16/Normal_Case16c1_win200-200_shift100-100/00002.png</td>\n",
       "      <td>0</td>\n",
       "    </tr>\n",
       "    <tr>\n",
       "      <th>1291</th>\n",
       "      <td>/media/leetwito/DATA/Datasets/PathoBarIlan/Shlomi2018/Case12/Normal_Case12g1_win200-200_shift100-100/00014.png</td>\n",
       "      <td>0</td>\n",
       "    </tr>\n",
       "    <tr>\n",
       "      <th>1968</th>\n",
       "      <td>/media/leetwito/DATA/Datasets/PathoBarIlan/Shlomi2018/Case17/Cancer_Case17d2_win200-200_shift100-100/00004.png</td>\n",
       "      <td>1</td>\n",
       "    </tr>\n",
       "    <tr>\n",
       "      <th>437</th>\n",
       "      <td>/media/leetwito/DATA/Datasets/PathoBarIlan/Shlomi2018/Case11/Normal_Case11c1_win200-200_shift100-100/00027.png</td>\n",
       "      <td>0</td>\n",
       "    </tr>\n",
       "    <tr>\n",
       "      <th>2785</th>\n",
       "      <td>/media/leetwito/DATA/Datasets/PathoBarIlan/Shlomi2018/Case19484/Cancer_a32_win200-200_shift100-100/00001.png</td>\n",
       "      <td>1</td>\n",
       "    </tr>\n",
       "    <tr>\n",
       "      <th>1834</th>\n",
       "      <td>/media/leetwito/DATA/Datasets/PathoBarIlan/Shlomi2018/Case17/Cancer_Case17b1_win200-200_shift100-100/00019.png</td>\n",
       "      <td>1</td>\n",
       "    </tr>\n",
       "    <tr>\n",
       "      <th>1864</th>\n",
       "      <td>/media/leetwito/DATA/Datasets/PathoBarIlan/Shlomi2018/Case17/Cancer_Case17b1_win200-200_shift100-100/00085.png</td>\n",
       "      <td>1</td>\n",
       "    </tr>\n",
       "    <tr>\n",
       "      <th>1019</th>\n",
       "      <td>/media/leetwito/DATA/Datasets/PathoBarIlan/Shlomi2018/Case12/Cancer_Case12q1_win200-200_shift100-100/00016.png</td>\n",
       "      <td>1</td>\n",
       "    </tr>\n",
       "    <tr>\n",
       "      <th>1313</th>\n",
       "      <td>/media/leetwito/DATA/Datasets/PathoBarIlan/Shlomi2018/Case12/Normal_Case12g2_win200-200_shift100-100/00021.png</td>\n",
       "      <td>0</td>\n",
       "    </tr>\n",
       "    <tr>\n",
       "      <th>2475</th>\n",
       "      <td>/media/leetwito/DATA/Datasets/PathoBarIlan/Shlomi2018/Case18/Cancer_Case18b1_win200-200_shift100-100/00044.png</td>\n",
       "      <td>1</td>\n",
       "    </tr>\n",
       "    <tr>\n",
       "      <th>363</th>\n",
       "      <td>/media/leetwito/DATA/Datasets/PathoBarIlan/Shlomi2018/Case11/Cancer_Case11f1_win200-200_shift100-100/00056.png</td>\n",
       "      <td>1</td>\n",
       "    </tr>\n",
       "    <tr>\n",
       "      <th>223</th>\n",
       "      <td>/media/leetwito/DATA/Datasets/PathoBarIlan/Shlomi2018/Case11/Cancer_Case11c1_win200-200_shift100-100/00001.png</td>\n",
       "      <td>1</td>\n",
       "    </tr>\n",
       "    <tr>\n",
       "      <th>457</th>\n",
       "      <td>/media/leetwito/DATA/Datasets/PathoBarIlan/Shlomi2018/Case11/Normal_Case11d1_win200-200_shift100-100/00000.png</td>\n",
       "      <td>0</td>\n",
       "    </tr>\n",
       "    <tr>\n",
       "      <th>310</th>\n",
       "      <td>/media/leetwito/DATA/Datasets/PathoBarIlan/Shlomi2018/Case11/Cancer_Case11e1_win200-200_shift100-100/00078.png</td>\n",
       "      <td>1</td>\n",
       "    </tr>\n",
       "    <tr>\n",
       "      <th>74</th>\n",
       "      <td>/media/leetwito/DATA/Datasets/PathoBarIlan/Shlomi2018/Case10/Normal_Case10a1_win200-200_shift100-100/00011.png</td>\n",
       "      <td>0</td>\n",
       "    </tr>\n",
       "    <tr>\n",
       "      <th>109</th>\n",
       "      <td>/media/leetwito/DATA/Datasets/PathoBarIlan/Shlomi2018/Case10/Normal_Case10a2_win200-200_shift100-100/00000.png</td>\n",
       "      <td>0</td>\n",
       "    </tr>\n",
       "    <tr>\n",
       "      <th>1304</th>\n",
       "      <td>/media/leetwito/DATA/Datasets/PathoBarIlan/Shlomi2018/Case12/Normal_Case12g2_win200-200_shift100-100/00011.png</td>\n",
       "      <td>0</td>\n",
       "    </tr>\n",
       "    <tr>\n",
       "      <th>528</th>\n",
       "      <td>/media/leetwito/DATA/Datasets/PathoBarIlan/Shlomi2018/Case12/Cancer_Case12i1_win200-200_shift100-100/00003.png</td>\n",
       "      <td>1</td>\n",
       "    </tr>\n",
       "    <tr>\n",
       "      <th>1844</th>\n",
       "      <td>/media/leetwito/DATA/Datasets/PathoBarIlan/Shlomi2018/Case17/Cancer_Case17b1_win200-200_shift100-100/00063.png</td>\n",
       "      <td>1</td>\n",
       "    </tr>\n",
       "    <tr>\n",
       "      <th>1362</th>\n",
       "      <td>/media/leetwito/DATA/Datasets/PathoBarIlan/Shlomi2018/Case12/Normal_Case12l1_win200-200_shift100-100/00015.png</td>\n",
       "      <td>0</td>\n",
       "    </tr>\n",
       "    <tr>\n",
       "      <th>1936</th>\n",
       "      <td>/media/leetwito/DATA/Datasets/PathoBarIlan/Shlomi2018/Case17/Cancer_Case17c1_win200-200_shift100-100/00065.png</td>\n",
       "      <td>1</td>\n",
       "    </tr>\n",
       "    <tr>\n",
       "      <th>76</th>\n",
       "      <td>/media/leetwito/DATA/Datasets/PathoBarIlan/Shlomi2018/Case10/Normal_Case10a1_win200-200_shift100-100/00013.png</td>\n",
       "      <td>0</td>\n",
       "    </tr>\n",
       "    <tr>\n",
       "      <th>2710</th>\n",
       "      <td>/media/leetwito/DATA/Datasets/PathoBarIlan/Shlomi2018/Case18/Cancer_Case18e1_win200-200_shift100-100/00082.png</td>\n",
       "      <td>1</td>\n",
       "    </tr>\n",
       "    <tr>\n",
       "      <th>280</th>\n",
       "      <td>/media/leetwito/DATA/Datasets/PathoBarIlan/Shlomi2018/Case11/Cancer_Case11e1_win200-200_shift100-100/00053.png</td>\n",
       "      <td>1</td>\n",
       "    </tr>\n",
       "    <tr>\n",
       "      <th>...</th>\n",
       "      <td>...</td>\n",
       "      <td>...</td>\n",
       "    </tr>\n",
       "    <tr>\n",
       "      <th>1610</th>\n",
       "      <td>/media/leetwito/DATA/Datasets/PathoBarIlan/Shlomi2018/Case16/Normal_Case16c1_win200-200_shift100-100/00044.png</td>\n",
       "      <td>0</td>\n",
       "    </tr>\n",
       "    <tr>\n",
       "      <th>1729</th>\n",
       "      <td>/media/leetwito/DATA/Datasets/PathoBarIlan/Shlomi2018/Case17/Cancer_Case17a1_win200-200_shift100-100/00042.png</td>\n",
       "      <td>1</td>\n",
       "    </tr>\n",
       "    <tr>\n",
       "      <th>1835</th>\n",
       "      <td>/media/leetwito/DATA/Datasets/PathoBarIlan/Shlomi2018/Case17/Cancer_Case17b1_win200-200_shift100-100/00029.png</td>\n",
       "      <td>1</td>\n",
       "    </tr>\n",
       "    <tr>\n",
       "      <th>891</th>\n",
       "      <td>/media/leetwito/DATA/Datasets/PathoBarIlan/Shlomi2018/Case12/Normal_Case12d1_win200-200_shift100-100/00038.png</td>\n",
       "      <td>0</td>\n",
       "    </tr>\n",
       "    <tr>\n",
       "      <th>2739</th>\n",
       "      <td>/media/leetwito/DATA/Datasets/PathoBarIlan/Shlomi2018/Case18/Normal_Case18d1_win200-200_shift100-100/00001.png</td>\n",
       "      <td>0</td>\n",
       "    </tr>\n",
       "    <tr>\n",
       "      <th>2142</th>\n",
       "      <td>/media/leetwito/DATA/Datasets/PathoBarIlan/Shlomi2018/Case17/Normal_Case17d1_win200-200_shift100-100/00004.png</td>\n",
       "      <td>0</td>\n",
       "    </tr>\n",
       "    <tr>\n",
       "      <th>2334</th>\n",
       "      <td>/media/leetwito/DATA/Datasets/PathoBarIlan/Shlomi2018/Case18/Cancer_Case18a1_win200-200_shift100-100/00017.png</td>\n",
       "      <td>1</td>\n",
       "    </tr>\n",
       "    <tr>\n",
       "      <th>1309</th>\n",
       "      <td>/media/leetwito/DATA/Datasets/PathoBarIlan/Shlomi2018/Case12/Normal_Case12g2_win200-200_shift100-100/00016.png</td>\n",
       "      <td>0</td>\n",
       "    </tr>\n",
       "    <tr>\n",
       "      <th>812</th>\n",
       "      <td>/media/leetwito/DATA/Datasets/PathoBarIlan/Shlomi2018/Case12/Normal_Case12b2_win200-200_shift100-100/00003.png</td>\n",
       "      <td>0</td>\n",
       "    </tr>\n",
       "    <tr>\n",
       "      <th>89</th>\n",
       "      <td>/media/leetwito/DATA/Datasets/PathoBarIlan/Shlomi2018/Case10/Normal_Case10a1_win200-200_shift100-100/00027.png</td>\n",
       "      <td>0</td>\n",
       "    </tr>\n",
       "    <tr>\n",
       "      <th>302</th>\n",
       "      <td>/media/leetwito/DATA/Datasets/PathoBarIlan/Shlomi2018/Case11/Cancer_Case11e1_win200-200_shift100-100/00070.png</td>\n",
       "      <td>1</td>\n",
       "    </tr>\n",
       "    <tr>\n",
       "      <th>1365</th>\n",
       "      <td>/media/leetwito/DATA/Datasets/PathoBarIlan/Shlomi2018/Case12/Normal_Case12l1_win200-200_shift100-100/00018.png</td>\n",
       "      <td>0</td>\n",
       "    </tr>\n",
       "    <tr>\n",
       "      <th>2408</th>\n",
       "      <td>/media/leetwito/DATA/Datasets/PathoBarIlan/Shlomi2018/Case18/Cancer_Case18a1_win200-200_shift100-100/00088.png</td>\n",
       "      <td>1</td>\n",
       "    </tr>\n",
       "    <tr>\n",
       "      <th>822</th>\n",
       "      <td>/media/leetwito/DATA/Datasets/PathoBarIlan/Shlomi2018/Case12/Normal_Case12b2_win200-200_shift100-100/00014.png</td>\n",
       "      <td>0</td>\n",
       "    </tr>\n",
       "    <tr>\n",
       "      <th>511</th>\n",
       "      <td>/media/leetwito/DATA/Datasets/PathoBarIlan/Shlomi2018/Case12/Cancer_Case12h1_win200-200_shift100-100/00017.png</td>\n",
       "      <td>1</td>\n",
       "    </tr>\n",
       "    <tr>\n",
       "      <th>1589</th>\n",
       "      <td>/media/leetwito/DATA/Datasets/PathoBarIlan/Shlomi2018/Case16/Normal_Case16c1_win200-200_shift100-100/00021.png</td>\n",
       "      <td>0</td>\n",
       "    </tr>\n",
       "    <tr>\n",
       "      <th>2634</th>\n",
       "      <td>/media/leetwito/DATA/Datasets/PathoBarIlan/Shlomi2018/Case18/Cancer_Case18e1_win200-200_shift100-100/00007.png</td>\n",
       "      <td>1</td>\n",
       "    </tr>\n",
       "    <tr>\n",
       "      <th>1154</th>\n",
       "      <td>/media/leetwito/DATA/Datasets/PathoBarIlan/Shlomi2018/Case12/Normal_Case12e2_win200-200_shift100-100/00030.png</td>\n",
       "      <td>0</td>\n",
       "    </tr>\n",
       "    <tr>\n",
       "      <th>2949</th>\n",
       "      <td>/media/leetwito/DATA/Datasets/PathoBarIlan/Shlomi2018/Case8/Normal_Case8c1_win200-200_shift100-100/00017.png</td>\n",
       "      <td>0</td>\n",
       "    </tr>\n",
       "    <tr>\n",
       "      <th>1847</th>\n",
       "      <td>/media/leetwito/DATA/Datasets/PathoBarIlan/Shlomi2018/Case17/Cancer_Case17b1_win200-200_shift100-100/00066.png</td>\n",
       "      <td>1</td>\n",
       "    </tr>\n",
       "    <tr>\n",
       "      <th>1029</th>\n",
       "      <td>/media/leetwito/DATA/Datasets/PathoBarIlan/Shlomi2018/Case12/Cancer_Case12q1_win200-200_shift100-100/00027.png</td>\n",
       "      <td>1</td>\n",
       "    </tr>\n",
       "    <tr>\n",
       "      <th>1775</th>\n",
       "      <td>/media/leetwito/DATA/Datasets/PathoBarIlan/Shlomi2018/Case17/Cancer_Case17a1_win200-200_shift100-100/00084.png</td>\n",
       "      <td>1</td>\n",
       "    </tr>\n",
       "    <tr>\n",
       "      <th>1288</th>\n",
       "      <td>/media/leetwito/DATA/Datasets/PathoBarIlan/Shlomi2018/Case12/Normal_Case12g1_win200-200_shift100-100/00011.png</td>\n",
       "      <td>0</td>\n",
       "    </tr>\n",
       "    <tr>\n",
       "      <th>2630</th>\n",
       "      <td>/media/leetwito/DATA/Datasets/PathoBarIlan/Shlomi2018/Case18/Cancer_Case18e1_win200-200_shift100-100/00003.png</td>\n",
       "      <td>1</td>\n",
       "    </tr>\n",
       "    <tr>\n",
       "      <th>1431</th>\n",
       "      <td>/media/leetwito/DATA/Datasets/PathoBarIlan/Shlomi2018/Case12/Normal_Case12n1_win200-200_shift100-100/00007.png</td>\n",
       "      <td>0</td>\n",
       "    </tr>\n",
       "    <tr>\n",
       "      <th>297</th>\n",
       "      <td>/media/leetwito/DATA/Datasets/PathoBarIlan/Shlomi2018/Case11/Cancer_Case11e1_win200-200_shift100-100/00064.png</td>\n",
       "      <td>1</td>\n",
       "    </tr>\n",
       "    <tr>\n",
       "      <th>2684</th>\n",
       "      <td>/media/leetwito/DATA/Datasets/PathoBarIlan/Shlomi2018/Case18/Cancer_Case18e1_win200-200_shift100-100/00039.png</td>\n",
       "      <td>1</td>\n",
       "    </tr>\n",
       "    <tr>\n",
       "      <th>1197</th>\n",
       "      <td>/media/leetwito/DATA/Datasets/PathoBarIlan/Shlomi2018/Case12/Normal_Case12f1_win200-200_shift100-100/00041.png</td>\n",
       "      <td>0</td>\n",
       "    </tr>\n",
       "    <tr>\n",
       "      <th>2093</th>\n",
       "      <td>/media/leetwito/DATA/Datasets/PathoBarIlan/Shlomi2018/Case17/Cancer_Case17f1_win200-200_shift100-100/00005.png</td>\n",
       "      <td>1</td>\n",
       "    </tr>\n",
       "    <tr>\n",
       "      <th>2023</th>\n",
       "      <td>/media/leetwito/DATA/Datasets/PathoBarIlan/Shlomi2018/Case17/Cancer_Case17e1_win200-200_shift100-100/00058.png</td>\n",
       "      <td>1</td>\n",
       "    </tr>\n",
       "  </tbody>\n",
       "</table>\n",
       "<p>299 rows × 2 columns</p>\n",
       "</div>"
      ],
      "text/plain": [
       "                                                                                                            filename  \\\n",
       "417   /media/leetwito/DATA/Datasets/PathoBarIlan/Shlomi2018/Case11/Normal_Case11c1_win200-200_shift100-100/00005.png   \n",
       "1669  /media/leetwito/DATA/Datasets/PathoBarIlan/Shlomi2018/Case16/Normal_Case16d1_win200-200_shift100-100/00053.png   \n",
       "2197  /media/leetwito/DATA/Datasets/PathoBarIlan/Shlomi2018/Case17/Normal_Case17g2_win200-200_shift100-100/00010.png   \n",
       "1066  /media/leetwito/DATA/Datasets/PathoBarIlan/Shlomi2018/Case12/Cancer_Case12q1_win200-200_shift100-100/00062.png   \n",
       "2098  /media/leetwito/DATA/Datasets/PathoBarIlan/Shlomi2018/Case17/Cancer_Case17f1_win200-200_shift100-100/00011.png   \n",
       "86    /media/leetwito/DATA/Datasets/PathoBarIlan/Shlomi2018/Case10/Normal_Case10a1_win200-200_shift100-100/00024.png   \n",
       "1572  /media/leetwito/DATA/Datasets/PathoBarIlan/Shlomi2018/Case16/Normal_Case16c1_win200-200_shift100-100/00002.png   \n",
       "1291  /media/leetwito/DATA/Datasets/PathoBarIlan/Shlomi2018/Case12/Normal_Case12g1_win200-200_shift100-100/00014.png   \n",
       "1968  /media/leetwito/DATA/Datasets/PathoBarIlan/Shlomi2018/Case17/Cancer_Case17d2_win200-200_shift100-100/00004.png   \n",
       "437   /media/leetwito/DATA/Datasets/PathoBarIlan/Shlomi2018/Case11/Normal_Case11c1_win200-200_shift100-100/00027.png   \n",
       "2785    /media/leetwito/DATA/Datasets/PathoBarIlan/Shlomi2018/Case19484/Cancer_a32_win200-200_shift100-100/00001.png   \n",
       "1834  /media/leetwito/DATA/Datasets/PathoBarIlan/Shlomi2018/Case17/Cancer_Case17b1_win200-200_shift100-100/00019.png   \n",
       "1864  /media/leetwito/DATA/Datasets/PathoBarIlan/Shlomi2018/Case17/Cancer_Case17b1_win200-200_shift100-100/00085.png   \n",
       "1019  /media/leetwito/DATA/Datasets/PathoBarIlan/Shlomi2018/Case12/Cancer_Case12q1_win200-200_shift100-100/00016.png   \n",
       "1313  /media/leetwito/DATA/Datasets/PathoBarIlan/Shlomi2018/Case12/Normal_Case12g2_win200-200_shift100-100/00021.png   \n",
       "2475  /media/leetwito/DATA/Datasets/PathoBarIlan/Shlomi2018/Case18/Cancer_Case18b1_win200-200_shift100-100/00044.png   \n",
       "363   /media/leetwito/DATA/Datasets/PathoBarIlan/Shlomi2018/Case11/Cancer_Case11f1_win200-200_shift100-100/00056.png   \n",
       "223   /media/leetwito/DATA/Datasets/PathoBarIlan/Shlomi2018/Case11/Cancer_Case11c1_win200-200_shift100-100/00001.png   \n",
       "457   /media/leetwito/DATA/Datasets/PathoBarIlan/Shlomi2018/Case11/Normal_Case11d1_win200-200_shift100-100/00000.png   \n",
       "310   /media/leetwito/DATA/Datasets/PathoBarIlan/Shlomi2018/Case11/Cancer_Case11e1_win200-200_shift100-100/00078.png   \n",
       "74    /media/leetwito/DATA/Datasets/PathoBarIlan/Shlomi2018/Case10/Normal_Case10a1_win200-200_shift100-100/00011.png   \n",
       "109   /media/leetwito/DATA/Datasets/PathoBarIlan/Shlomi2018/Case10/Normal_Case10a2_win200-200_shift100-100/00000.png   \n",
       "1304  /media/leetwito/DATA/Datasets/PathoBarIlan/Shlomi2018/Case12/Normal_Case12g2_win200-200_shift100-100/00011.png   \n",
       "528   /media/leetwito/DATA/Datasets/PathoBarIlan/Shlomi2018/Case12/Cancer_Case12i1_win200-200_shift100-100/00003.png   \n",
       "1844  /media/leetwito/DATA/Datasets/PathoBarIlan/Shlomi2018/Case17/Cancer_Case17b1_win200-200_shift100-100/00063.png   \n",
       "1362  /media/leetwito/DATA/Datasets/PathoBarIlan/Shlomi2018/Case12/Normal_Case12l1_win200-200_shift100-100/00015.png   \n",
       "1936  /media/leetwito/DATA/Datasets/PathoBarIlan/Shlomi2018/Case17/Cancer_Case17c1_win200-200_shift100-100/00065.png   \n",
       "76    /media/leetwito/DATA/Datasets/PathoBarIlan/Shlomi2018/Case10/Normal_Case10a1_win200-200_shift100-100/00013.png   \n",
       "2710  /media/leetwito/DATA/Datasets/PathoBarIlan/Shlomi2018/Case18/Cancer_Case18e1_win200-200_shift100-100/00082.png   \n",
       "280   /media/leetwito/DATA/Datasets/PathoBarIlan/Shlomi2018/Case11/Cancer_Case11e1_win200-200_shift100-100/00053.png   \n",
       "...                                                                                                              ...   \n",
       "1610  /media/leetwito/DATA/Datasets/PathoBarIlan/Shlomi2018/Case16/Normal_Case16c1_win200-200_shift100-100/00044.png   \n",
       "1729  /media/leetwito/DATA/Datasets/PathoBarIlan/Shlomi2018/Case17/Cancer_Case17a1_win200-200_shift100-100/00042.png   \n",
       "1835  /media/leetwito/DATA/Datasets/PathoBarIlan/Shlomi2018/Case17/Cancer_Case17b1_win200-200_shift100-100/00029.png   \n",
       "891   /media/leetwito/DATA/Datasets/PathoBarIlan/Shlomi2018/Case12/Normal_Case12d1_win200-200_shift100-100/00038.png   \n",
       "2739  /media/leetwito/DATA/Datasets/PathoBarIlan/Shlomi2018/Case18/Normal_Case18d1_win200-200_shift100-100/00001.png   \n",
       "2142  /media/leetwito/DATA/Datasets/PathoBarIlan/Shlomi2018/Case17/Normal_Case17d1_win200-200_shift100-100/00004.png   \n",
       "2334  /media/leetwito/DATA/Datasets/PathoBarIlan/Shlomi2018/Case18/Cancer_Case18a1_win200-200_shift100-100/00017.png   \n",
       "1309  /media/leetwito/DATA/Datasets/PathoBarIlan/Shlomi2018/Case12/Normal_Case12g2_win200-200_shift100-100/00016.png   \n",
       "812   /media/leetwito/DATA/Datasets/PathoBarIlan/Shlomi2018/Case12/Normal_Case12b2_win200-200_shift100-100/00003.png   \n",
       "89    /media/leetwito/DATA/Datasets/PathoBarIlan/Shlomi2018/Case10/Normal_Case10a1_win200-200_shift100-100/00027.png   \n",
       "302   /media/leetwito/DATA/Datasets/PathoBarIlan/Shlomi2018/Case11/Cancer_Case11e1_win200-200_shift100-100/00070.png   \n",
       "1365  /media/leetwito/DATA/Datasets/PathoBarIlan/Shlomi2018/Case12/Normal_Case12l1_win200-200_shift100-100/00018.png   \n",
       "2408  /media/leetwito/DATA/Datasets/PathoBarIlan/Shlomi2018/Case18/Cancer_Case18a1_win200-200_shift100-100/00088.png   \n",
       "822   /media/leetwito/DATA/Datasets/PathoBarIlan/Shlomi2018/Case12/Normal_Case12b2_win200-200_shift100-100/00014.png   \n",
       "511   /media/leetwito/DATA/Datasets/PathoBarIlan/Shlomi2018/Case12/Cancer_Case12h1_win200-200_shift100-100/00017.png   \n",
       "1589  /media/leetwito/DATA/Datasets/PathoBarIlan/Shlomi2018/Case16/Normal_Case16c1_win200-200_shift100-100/00021.png   \n",
       "2634  /media/leetwito/DATA/Datasets/PathoBarIlan/Shlomi2018/Case18/Cancer_Case18e1_win200-200_shift100-100/00007.png   \n",
       "1154  /media/leetwito/DATA/Datasets/PathoBarIlan/Shlomi2018/Case12/Normal_Case12e2_win200-200_shift100-100/00030.png   \n",
       "2949    /media/leetwito/DATA/Datasets/PathoBarIlan/Shlomi2018/Case8/Normal_Case8c1_win200-200_shift100-100/00017.png   \n",
       "1847  /media/leetwito/DATA/Datasets/PathoBarIlan/Shlomi2018/Case17/Cancer_Case17b1_win200-200_shift100-100/00066.png   \n",
       "1029  /media/leetwito/DATA/Datasets/PathoBarIlan/Shlomi2018/Case12/Cancer_Case12q1_win200-200_shift100-100/00027.png   \n",
       "1775  /media/leetwito/DATA/Datasets/PathoBarIlan/Shlomi2018/Case17/Cancer_Case17a1_win200-200_shift100-100/00084.png   \n",
       "1288  /media/leetwito/DATA/Datasets/PathoBarIlan/Shlomi2018/Case12/Normal_Case12g1_win200-200_shift100-100/00011.png   \n",
       "2630  /media/leetwito/DATA/Datasets/PathoBarIlan/Shlomi2018/Case18/Cancer_Case18e1_win200-200_shift100-100/00003.png   \n",
       "1431  /media/leetwito/DATA/Datasets/PathoBarIlan/Shlomi2018/Case12/Normal_Case12n1_win200-200_shift100-100/00007.png   \n",
       "297   /media/leetwito/DATA/Datasets/PathoBarIlan/Shlomi2018/Case11/Cancer_Case11e1_win200-200_shift100-100/00064.png   \n",
       "2684  /media/leetwito/DATA/Datasets/PathoBarIlan/Shlomi2018/Case18/Cancer_Case18e1_win200-200_shift100-100/00039.png   \n",
       "1197  /media/leetwito/DATA/Datasets/PathoBarIlan/Shlomi2018/Case12/Normal_Case12f1_win200-200_shift100-100/00041.png   \n",
       "2093  /media/leetwito/DATA/Datasets/PathoBarIlan/Shlomi2018/Case17/Cancer_Case17f1_win200-200_shift100-100/00005.png   \n",
       "2023  /media/leetwito/DATA/Datasets/PathoBarIlan/Shlomi2018/Case17/Cancer_Case17e1_win200-200_shift100-100/00058.png   \n",
       "\n",
       "      label  \n",
       "417       0  \n",
       "1669      0  \n",
       "2197      0  \n",
       "1066      1  \n",
       "2098      1  \n",
       "86        0  \n",
       "1572      0  \n",
       "1291      0  \n",
       "1968      1  \n",
       "437       0  \n",
       "2785      1  \n",
       "1834      1  \n",
       "1864      1  \n",
       "1019      1  \n",
       "1313      0  \n",
       "2475      1  \n",
       "363       1  \n",
       "223       1  \n",
       "457       0  \n",
       "310       1  \n",
       "74        0  \n",
       "109       0  \n",
       "1304      0  \n",
       "528       1  \n",
       "1844      1  \n",
       "1362      0  \n",
       "1936      1  \n",
       "76        0  \n",
       "2710      1  \n",
       "280       1  \n",
       "...     ...  \n",
       "1610      0  \n",
       "1729      1  \n",
       "1835      1  \n",
       "891       0  \n",
       "2739      0  \n",
       "2142      0  \n",
       "2334      1  \n",
       "1309      0  \n",
       "812       0  \n",
       "89        0  \n",
       "302       1  \n",
       "1365      0  \n",
       "2408      1  \n",
       "822       0  \n",
       "511       1  \n",
       "1589      0  \n",
       "2634      1  \n",
       "1154      0  \n",
       "2949      0  \n",
       "1847      1  \n",
       "1029      1  \n",
       "1775      1  \n",
       "1288      0  \n",
       "2630      1  \n",
       "1431      0  \n",
       "297       1  \n",
       "2684      1  \n",
       "1197      0  \n",
       "2093      1  \n",
       "2023      1  \n",
       "\n",
       "[299 rows x 2 columns]"
      ]
     },
     "execution_count": 19,
     "metadata": {},
     "output_type": "execute_result"
    }
   ],
   "source": [
    "df_train.sample(frac=0.1)"
   ]
  },
  {
   "cell_type": "code",
   "execution_count": 20,
   "metadata": {},
   "outputs": [
    {
     "data": {
      "text/html": [
       "<div>\n",
       "<style scoped>\n",
       "    .dataframe tbody tr th:only-of-type {\n",
       "        vertical-align: middle;\n",
       "    }\n",
       "\n",
       "    .dataframe tbody tr th {\n",
       "        vertical-align: top;\n",
       "    }\n",
       "\n",
       "    .dataframe thead th {\n",
       "        text-align: right;\n",
       "    }\n",
       "</style>\n",
       "<table border=\"1\" class=\"dataframe\">\n",
       "  <thead>\n",
       "    <tr style=\"text-align: right;\">\n",
       "      <th></th>\n",
       "      <th>filename</th>\n",
       "      <th>label</th>\n",
       "    </tr>\n",
       "  </thead>\n",
       "  <tbody>\n",
       "    <tr>\n",
       "      <th>0</th>\n",
       "      <td>/media/leetwito/DATA/Datasets/PathoBarIlan/Shlomi2018/Case14/Cancer_Case14a1_win200-200_shift100-100/00000.png</td>\n",
       "      <td>1</td>\n",
       "    </tr>\n",
       "    <tr>\n",
       "      <th>1</th>\n",
       "      <td>/media/leetwito/DATA/Datasets/PathoBarIlan/Shlomi2018/Case14/Cancer_Case14a1_win200-200_shift100-100/00001.png</td>\n",
       "      <td>1</td>\n",
       "    </tr>\n",
       "    <tr>\n",
       "      <th>2</th>\n",
       "      <td>/media/leetwito/DATA/Datasets/PathoBarIlan/Shlomi2018/Case14/Cancer_Case14a1_win200-200_shift100-100/00002.png</td>\n",
       "      <td>1</td>\n",
       "    </tr>\n",
       "    <tr>\n",
       "      <th>3</th>\n",
       "      <td>/media/leetwito/DATA/Datasets/PathoBarIlan/Shlomi2018/Case14/Cancer_Case14a1_win200-200_shift100-100/00003.png</td>\n",
       "      <td>1</td>\n",
       "    </tr>\n",
       "    <tr>\n",
       "      <th>4</th>\n",
       "      <td>/media/leetwito/DATA/Datasets/PathoBarIlan/Shlomi2018/Case14/Cancer_Case14a1_win200-200_shift100-100/00004.png</td>\n",
       "      <td>1</td>\n",
       "    </tr>\n",
       "  </tbody>\n",
       "</table>\n",
       "</div>"
      ],
      "text/plain": [
       "                                                                                                         filename  \\\n",
       "0  /media/leetwito/DATA/Datasets/PathoBarIlan/Shlomi2018/Case14/Cancer_Case14a1_win200-200_shift100-100/00000.png   \n",
       "1  /media/leetwito/DATA/Datasets/PathoBarIlan/Shlomi2018/Case14/Cancer_Case14a1_win200-200_shift100-100/00001.png   \n",
       "2  /media/leetwito/DATA/Datasets/PathoBarIlan/Shlomi2018/Case14/Cancer_Case14a1_win200-200_shift100-100/00002.png   \n",
       "3  /media/leetwito/DATA/Datasets/PathoBarIlan/Shlomi2018/Case14/Cancer_Case14a1_win200-200_shift100-100/00003.png   \n",
       "4  /media/leetwito/DATA/Datasets/PathoBarIlan/Shlomi2018/Case14/Cancer_Case14a1_win200-200_shift100-100/00004.png   \n",
       "\n",
       "   label  \n",
       "0      1  \n",
       "1      1  \n",
       "2      1  \n",
       "3      1  \n",
       "4      1  "
      ]
     },
     "execution_count": 20,
     "metadata": {},
     "output_type": "execute_result"
    }
   ],
   "source": [
    "df_val.head()"
   ]
  },
  {
   "cell_type": "code",
   "execution_count": 21,
   "metadata": {},
   "outputs": [
    {
     "data": {
      "text/html": [
       "<div>\n",
       "<style scoped>\n",
       "    .dataframe tbody tr th:only-of-type {\n",
       "        vertical-align: middle;\n",
       "    }\n",
       "\n",
       "    .dataframe tbody tr th {\n",
       "        vertical-align: top;\n",
       "    }\n",
       "\n",
       "    .dataframe thead th {\n",
       "        text-align: right;\n",
       "    }\n",
       "</style>\n",
       "<table border=\"1\" class=\"dataframe\">\n",
       "  <thead>\n",
       "    <tr style=\"text-align: right;\">\n",
       "      <th></th>\n",
       "      <th>filename</th>\n",
       "      <th>label</th>\n",
       "    </tr>\n",
       "  </thead>\n",
       "  <tbody>\n",
       "    <tr>\n",
       "      <th>40</th>\n",
       "      <td>/media/leetwito/DATA/Datasets/PathoBarIlan/Shlomi2018/Case14/Cancer_Case14a1_win200-200_shift100-100/00044.png</td>\n",
       "      <td>1</td>\n",
       "    </tr>\n",
       "    <tr>\n",
       "      <th>210</th>\n",
       "      <td>/media/leetwito/DATA/Datasets/PathoBarIlan/Shlomi2018/Case14/Normal_Case14c1_win200-200_shift100-100/00061.png</td>\n",
       "      <td>0</td>\n",
       "    </tr>\n",
       "    <tr>\n",
       "      <th>147</th>\n",
       "      <td>/media/leetwito/DATA/Datasets/PathoBarIlan/Shlomi2018/Case14/Normal_Case14b1_win200-200_shift100-100/00052.png</td>\n",
       "      <td>0</td>\n",
       "    </tr>\n",
       "    <tr>\n",
       "      <th>117</th>\n",
       "      <td>/media/leetwito/DATA/Datasets/PathoBarIlan/Shlomi2018/Case14/Normal_Case14b1_win200-200_shift100-100/00020.png</td>\n",
       "      <td>0</td>\n",
       "    </tr>\n",
       "    <tr>\n",
       "      <th>4</th>\n",
       "      <td>/media/leetwito/DATA/Datasets/PathoBarIlan/Shlomi2018/Case14/Cancer_Case14a1_win200-200_shift100-100/00004.png</td>\n",
       "      <td>1</td>\n",
       "    </tr>\n",
       "    <tr>\n",
       "      <th>216</th>\n",
       "      <td>/media/leetwito/DATA/Datasets/PathoBarIlan/Shlomi2018/Case14/Normal_Case14c1_win200-200_shift100-100/00067.png</td>\n",
       "      <td>0</td>\n",
       "    </tr>\n",
       "    <tr>\n",
       "      <th>185</th>\n",
       "      <td>/media/leetwito/DATA/Datasets/PathoBarIlan/Shlomi2018/Case14/Normal_Case14c1_win200-200_shift100-100/00040.png</td>\n",
       "      <td>0</td>\n",
       "    </tr>\n",
       "    <tr>\n",
       "      <th>130</th>\n",
       "      <td>/media/leetwito/DATA/Datasets/PathoBarIlan/Shlomi2018/Case14/Normal_Case14b1_win200-200_shift100-100/00034.png</td>\n",
       "      <td>0</td>\n",
       "    </tr>\n",
       "    <tr>\n",
       "      <th>104</th>\n",
       "      <td>/media/leetwito/DATA/Datasets/PathoBarIlan/Shlomi2018/Case14/Normal_Case14b1_win200-200_shift100-100/00005.png</td>\n",
       "      <td>0</td>\n",
       "    </tr>\n",
       "    <tr>\n",
       "      <th>58</th>\n",
       "      <td>/media/leetwito/DATA/Datasets/PathoBarIlan/Shlomi2018/Case14/Cancer_Case14a1_win200-200_shift100-100/00063.png</td>\n",
       "      <td>1</td>\n",
       "    </tr>\n",
       "    <tr>\n",
       "      <th>207</th>\n",
       "      <td>/media/leetwito/DATA/Datasets/PathoBarIlan/Shlomi2018/Case14/Normal_Case14c1_win200-200_shift100-100/00049.png</td>\n",
       "      <td>0</td>\n",
       "    </tr>\n",
       "    <tr>\n",
       "      <th>38</th>\n",
       "      <td>/media/leetwito/DATA/Datasets/PathoBarIlan/Shlomi2018/Case14/Cancer_Case14a1_win200-200_shift100-100/00042.png</td>\n",
       "      <td>1</td>\n",
       "    </tr>\n",
       "    <tr>\n",
       "      <th>98</th>\n",
       "      <td>/media/leetwito/DATA/Datasets/PathoBarIlan/Shlomi2018/Case14/Normal_Case14b1_win200-200_shift100-100/00039.png</td>\n",
       "      <td>0</td>\n",
       "    </tr>\n",
       "    <tr>\n",
       "      <th>29</th>\n",
       "      <td>/media/leetwito/DATA/Datasets/PathoBarIlan/Shlomi2018/Case14/Cancer_Case14a1_win200-200_shift100-100/00032.png</td>\n",
       "      <td>1</td>\n",
       "    </tr>\n",
       "    <tr>\n",
       "      <th>127</th>\n",
       "      <td>/media/leetwito/DATA/Datasets/PathoBarIlan/Shlomi2018/Case14/Normal_Case14b1_win200-200_shift100-100/00031.png</td>\n",
       "      <td>0</td>\n",
       "    </tr>\n",
       "    <tr>\n",
       "      <th>70</th>\n",
       "      <td>/media/leetwito/DATA/Datasets/PathoBarIlan/Shlomi2018/Case14/Cancer_Case14a2_win200-200_shift100-100/00005.png</td>\n",
       "      <td>1</td>\n",
       "    </tr>\n",
       "    <tr>\n",
       "      <th>103</th>\n",
       "      <td>/media/leetwito/DATA/Datasets/PathoBarIlan/Shlomi2018/Case14/Normal_Case14b1_win200-200_shift100-100/00004.png</td>\n",
       "      <td>0</td>\n",
       "    </tr>\n",
       "    <tr>\n",
       "      <th>125</th>\n",
       "      <td>/media/leetwito/DATA/Datasets/PathoBarIlan/Shlomi2018/Case14/Normal_Case14b1_win200-200_shift100-100/00028.png</td>\n",
       "      <td>0</td>\n",
       "    </tr>\n",
       "    <tr>\n",
       "      <th>139</th>\n",
       "      <td>/media/leetwito/DATA/Datasets/PathoBarIlan/Shlomi2018/Case14/Normal_Case14b1_win200-200_shift100-100/00044.png</td>\n",
       "      <td>0</td>\n",
       "    </tr>\n",
       "    <tr>\n",
       "      <th>178</th>\n",
       "      <td>/media/leetwito/DATA/Datasets/PathoBarIlan/Shlomi2018/Case14/Normal_Case14c1_win200-200_shift100-100/00032.png</td>\n",
       "      <td>0</td>\n",
       "    </tr>\n",
       "    <tr>\n",
       "      <th>134</th>\n",
       "      <td>/media/leetwito/DATA/Datasets/PathoBarIlan/Shlomi2018/Case14/Normal_Case14b1_win200-200_shift100-100/00038.png</td>\n",
       "      <td>0</td>\n",
       "    </tr>\n",
       "    <tr>\n",
       "      <th>189</th>\n",
       "      <td>/media/leetwito/DATA/Datasets/PathoBarIlan/Shlomi2018/Case14/Normal_Case14c1_win200-200_shift100-100/00044.png</td>\n",
       "      <td>0</td>\n",
       "    </tr>\n",
       "  </tbody>\n",
       "</table>\n",
       "</div>"
      ],
      "text/plain": [
       "                                                                                                           filename  \\\n",
       "40   /media/leetwito/DATA/Datasets/PathoBarIlan/Shlomi2018/Case14/Cancer_Case14a1_win200-200_shift100-100/00044.png   \n",
       "210  /media/leetwito/DATA/Datasets/PathoBarIlan/Shlomi2018/Case14/Normal_Case14c1_win200-200_shift100-100/00061.png   \n",
       "147  /media/leetwito/DATA/Datasets/PathoBarIlan/Shlomi2018/Case14/Normal_Case14b1_win200-200_shift100-100/00052.png   \n",
       "117  /media/leetwito/DATA/Datasets/PathoBarIlan/Shlomi2018/Case14/Normal_Case14b1_win200-200_shift100-100/00020.png   \n",
       "4    /media/leetwito/DATA/Datasets/PathoBarIlan/Shlomi2018/Case14/Cancer_Case14a1_win200-200_shift100-100/00004.png   \n",
       "216  /media/leetwito/DATA/Datasets/PathoBarIlan/Shlomi2018/Case14/Normal_Case14c1_win200-200_shift100-100/00067.png   \n",
       "185  /media/leetwito/DATA/Datasets/PathoBarIlan/Shlomi2018/Case14/Normal_Case14c1_win200-200_shift100-100/00040.png   \n",
       "130  /media/leetwito/DATA/Datasets/PathoBarIlan/Shlomi2018/Case14/Normal_Case14b1_win200-200_shift100-100/00034.png   \n",
       "104  /media/leetwito/DATA/Datasets/PathoBarIlan/Shlomi2018/Case14/Normal_Case14b1_win200-200_shift100-100/00005.png   \n",
       "58   /media/leetwito/DATA/Datasets/PathoBarIlan/Shlomi2018/Case14/Cancer_Case14a1_win200-200_shift100-100/00063.png   \n",
       "207  /media/leetwito/DATA/Datasets/PathoBarIlan/Shlomi2018/Case14/Normal_Case14c1_win200-200_shift100-100/00049.png   \n",
       "38   /media/leetwito/DATA/Datasets/PathoBarIlan/Shlomi2018/Case14/Cancer_Case14a1_win200-200_shift100-100/00042.png   \n",
       "98   /media/leetwito/DATA/Datasets/PathoBarIlan/Shlomi2018/Case14/Normal_Case14b1_win200-200_shift100-100/00039.png   \n",
       "29   /media/leetwito/DATA/Datasets/PathoBarIlan/Shlomi2018/Case14/Cancer_Case14a1_win200-200_shift100-100/00032.png   \n",
       "127  /media/leetwito/DATA/Datasets/PathoBarIlan/Shlomi2018/Case14/Normal_Case14b1_win200-200_shift100-100/00031.png   \n",
       "70   /media/leetwito/DATA/Datasets/PathoBarIlan/Shlomi2018/Case14/Cancer_Case14a2_win200-200_shift100-100/00005.png   \n",
       "103  /media/leetwito/DATA/Datasets/PathoBarIlan/Shlomi2018/Case14/Normal_Case14b1_win200-200_shift100-100/00004.png   \n",
       "125  /media/leetwito/DATA/Datasets/PathoBarIlan/Shlomi2018/Case14/Normal_Case14b1_win200-200_shift100-100/00028.png   \n",
       "139  /media/leetwito/DATA/Datasets/PathoBarIlan/Shlomi2018/Case14/Normal_Case14b1_win200-200_shift100-100/00044.png   \n",
       "178  /media/leetwito/DATA/Datasets/PathoBarIlan/Shlomi2018/Case14/Normal_Case14c1_win200-200_shift100-100/00032.png   \n",
       "134  /media/leetwito/DATA/Datasets/PathoBarIlan/Shlomi2018/Case14/Normal_Case14b1_win200-200_shift100-100/00038.png   \n",
       "189  /media/leetwito/DATA/Datasets/PathoBarIlan/Shlomi2018/Case14/Normal_Case14c1_win200-200_shift100-100/00044.png   \n",
       "\n",
       "     label  \n",
       "40       1  \n",
       "210      0  \n",
       "147      0  \n",
       "117      0  \n",
       "4        1  \n",
       "216      0  \n",
       "185      0  \n",
       "130      0  \n",
       "104      0  \n",
       "58       1  \n",
       "207      0  \n",
       "38       1  \n",
       "98       0  \n",
       "29       1  \n",
       "127      0  \n",
       "70       1  \n",
       "103      0  \n",
       "125      0  \n",
       "139      0  \n",
       "178      0  \n",
       "134      0  \n",
       "189      0  "
      ]
     },
     "execution_count": 21,
     "metadata": {},
     "output_type": "execute_result"
    }
   ],
   "source": [
    "df_val.sample(frac=0.1)"
   ]
  },
  {
   "cell_type": "markdown",
   "metadata": {},
   "source": [
    "### IMAGE daat generator works only for images !"
   ]
  },
  {
   "cell_type": "raw",
   "metadata": {
    "scrolled": true
   },
   "source": [
    "datagen=ImageDataGenerator() # rescale=1./255\n",
    "directory = None\n",
    "train_generator=datagen.flow_from_dataframe(dataframe=df_train, directory=directory, x_col=\"filename\", y_col=\"label\", has_ext=True, class_mode=\"categorical\", batch_size=4)\n",
    "val_generator=datagen.flow_from_dataframe(dataframe=df_val, directory=directory, x_col=\"filename\", y_col=\"label\", has_ext=True, class_mode=\"categorical\", batch_size=4)\n",
    "test_generator=datagen.flow_from_dataframe(dataframe=df_test, directory=directory, x_col=\"filename\", y_col=\"label\", has_ext=True, class_mode=\"categorical\", batch_size=4)"
   ]
  },
  {
   "cell_type": "raw",
   "metadata": {
    "scrolled": true
   },
   "source": [
    "from akmtdfgen import generator_from_df"
   ]
  },
  {
   "cell_type": "markdown",
   "metadata": {},
   "source": [
    "####### copying generator_from_df:\n",
    "https://gist.github.com/timehaven/257eef5b0e2d9e2625a9eb812ca2226b#file-akmtdfgen-py"
   ]
  },
  {
   "cell_type": "code",
   "execution_count": 64,
   "metadata": {},
   "outputs": [],
   "source": [
    "def sample_norm(X):\n",
    "#     X = X - X.min()\n",
    "#     X = X / X.max()\n",
    "#     X = X - 0.5\n",
    "    # print(X.min(), X.max()) -> (-0.5, 0.5)\n",
    "    X = X / 255.\n",
    "    return X\n",
    "\n",
    "def generator_from_df(df, batch_size, shuffle=True):\n",
    "#     df = df.sample(frac=1, random_state=42)  # frac=1 is same as shuffling df.\n",
    "#     df = df.iloc[:batch_size]\n",
    "    \n",
    "    \n",
    "    nbatches, n_skipped_per_epoch = divmod(df.shape[0], batch_size)\n",
    "    count = 1\n",
    "    epoch = 0\n",
    "    while 1:\n",
    "#         if shuffle:\n",
    "#             df = df.sample(frac=1)  # frac=1 is same as shuffling df.\n",
    "        epoch += 1\n",
    "        i, j = 0, batch_size\n",
    "        # Mini-batches within epoch.\n",
    "        mini_batches_completed = 0\n",
    "        for _ in range(nbatches):\n",
    "#             print(\"Top of generator for loop, epoch / count / i / j = %d / %d / %d / %d\" % (epoch, count, i, j))\n",
    "            sub = df.iloc[i:j]\n",
    "            # preprocess_input()\n",
    "            # https://github.com/fchollet/keras/blob/master/keras/applications/inception_v3.py#L389\n",
    "            if use_rgb:\n",
    "                X = [sample_norm(img_to_array(load_img(f, target_size=input_shape))) for f in sub.filename]\n",
    "            else:\n",
    "                X = [sample_norm(np.load(f)) for f in sub.filename]\n",
    "                     # Resizing on the fly is efficient enough for\n",
    "                     # pre-caching when a GPU is training a\n",
    "                     # mini-batch.  Here is where some additional\n",
    "                     # data augmentation could take place.\n",
    "#                          (img_to_array(load_img(f, target_size=target_size))\n",
    "            X = np.stack(X)\n",
    "            Y = sub.label.values\n",
    "            Y = to_categorical(Y, num_classes=2)\n",
    "            # Simple model, one input, one output.\n",
    "            mini_batches_completed += 1\n",
    "            i = j \n",
    "            j += batch_size\n",
    "            yield X, Y"
   ]
  },
  {
   "cell_type": "code",
   "execution_count": 65,
   "metadata": {},
   "outputs": [
    {
     "data": {
      "text/plain": [
       "array([[1., 0.],\n",
       "       [0., 1.],\n",
       "       [0., 1.],\n",
       "       [0., 1.],\n",
       "       [1., 0.],\n",
       "       [1., 0.],\n",
       "       [0., 1.],\n",
       "       [1., 0.],\n",
       "       [1., 0.],\n",
       "       [0., 1.],\n",
       "       [1., 0.],\n",
       "       [1., 0.],\n",
       "       [0., 1.],\n",
       "       [0., 1.],\n",
       "       [0., 1.],\n",
       "       [0., 1.]], dtype=float32)"
      ]
     },
     "execution_count": 65,
     "metadata": {},
     "output_type": "execute_result"
    }
   ],
   "source": [
    "df_train = df_train.sample(frac=1, random_state=42).iloc[:16]\n",
    "to_categorical(df_train.label.values)"
   ]
  },
  {
   "cell_type": "code",
   "execution_count": 66,
   "metadata": {},
   "outputs": [],
   "source": [
    "if use_rgb:\n",
    "    input_shape = (200,200,3)\n",
    "else:\n",
    "    input_shape = (200,200,40)\n",
    "batch_size =16\n",
    "train_generator = generator_from_df(df_train, batch_size)\n",
    "val_generator = generator_from_df(df_val, batch_size)\n",
    "test_generator = generator_from_df(df_test, batch_size, shuffle=False)"
   ]
  },
  {
   "cell_type": "code",
   "execution_count": 67,
   "metadata": {},
   "outputs": [
    {
     "name": "stdout",
     "output_type": "stream",
     "text": [
      "(16, 200, 200, 3) \n",
      " [[1. 0.]\n",
      " [0. 1.]\n",
      " [0. 1.]\n",
      " [0. 1.]\n",
      " [1. 0.]\n",
      " [1. 0.]\n",
      " [0. 1.]\n",
      " [1. 0.]\n",
      " [1. 0.]\n",
      " [0. 1.]\n",
      " [1. 0.]\n",
      " [1. 0.]\n",
      " [0. 1.]\n",
      " [0. 1.]\n",
      " [0. 1.]\n",
      " [0. 1.]]\n"
     ]
    }
   ],
   "source": [
    "for xx, yy in train_generator:\n",
    "    print(xx.shape, \"\\n\", yy)\n",
    "    break"
   ]
  },
  {
   "cell_type": "markdown",
   "metadata": {},
   "source": [
    "## test and vis"
   ]
  },
  {
   "cell_type": "raw",
   "metadata": {},
   "source": [
    "path = mixed_paths[0]\n",
    "spectral, rgb = read_slide(path)\n",
    "img = rgb\n",
    "\n",
    "crops = create_batch_of_crops_from_slide(img, window_size=window_size, shift=shift, vis_flag=True)"
   ]
  },
  {
   "cell_type": "raw",
   "metadata": {},
   "source": [
    "plt.imshow(img)"
   ]
  },
  {
   "cell_type": "markdown",
   "metadata": {},
   "source": [
    "## prepare data"
   ]
  },
  {
   "cell_type": "raw",
   "metadata": {},
   "source": [
    "create_crops_from_dir(data_dir, window_size=window_size, shift=shift)"
   ]
  },
  {
   "cell_type": "raw",
   "metadata": {},
   "source": [
    "dirs = glob('E:/Datasets/PathoBarIlan/Shlomi2018/*')\n",
    "for data_dir in dirs:\n",
    "    create_crops_from_dir(data_dir, window_size=window_size, shift=shift)"
   ]
  },
  {
   "cell_type": "raw",
   "metadata": {},
   "source": [
    "ext = 'png'\n",
    "split_data_dir = 'E:\\Datasets\\PathoBarIlan'\n",
    "create_csv_for_folder(split_data_dir+'/Train', ext)"
   ]
  },
  {
   "cell_type": "raw",
   "metadata": {},
   "source": [
    "print('Data:')\n",
    "train_pos = train_labels[:,1].sum()\n",
    "eval_pos = eval_labels[:,1].sum()\n",
    "test_pos = test_labels[:,1].sum()\n",
    "\n",
    "print('Train: {}/{} (pos/neg)'.format(train_pos, len(train_labels)-train_pos ))\n",
    "print('Test: {}/{} (pos/neg)'.format(test_pos, len(test_labels)-test_pos ))\n",
    "print('Eval: {}/{} (pos/neg)'.format(eval_pos, len(eval_labels)-eval_pos ))"
   ]
  },
  {
   "cell_type": "markdown",
   "metadata": {},
   "source": [
    "##### old prepare data"
   ]
  },
  {
   "cell_type": "raw",
   "metadata": {},
   "source": [
    "train_pos_spectral_crops, train_pos_rgb_crops = create_crops_from_fileslist(cancer_paths[:-3], window_size=window_size, shift=shift)\n",
    "test_pos_spectral_crops, test_pos_rgb_crops = create_crops_from_fileslist(cancer_paths[-3:-1])\n",
    "val_pos_spectral_crops, val_pos_rgb_crops = create_crops_from_fileslist(cancer_paths[-1:])"
   ]
  },
  {
   "cell_type": "raw",
   "metadata": {},
   "source": [
    "train_neg_spectral_crops, train_neg_rgb_crops = create_crops_from_fileslist(normal_paths[:-2])\n",
    "test_neg_spectral_crops, test_neg_rgb_crops = create_crops_from_fileslist(normal_paths[-2:-1])\n",
    "val_neg_spectral_crops, val_neg_rgb_crops = create_crops_from_fileslist(normal_paths[-1:])"
   ]
  },
  {
   "cell_type": "raw",
   "metadata": {},
   "source": [
    "y_pos_train = [True]*len(train_pos_rgb_crops)\n",
    "y_neg_train = [False]*len(train_neg_rgb_crops)\n",
    "\n",
    "y_pos_test = [True]*len(test_pos_rgb_crops)\n",
    "y_neg_test = [False]*len(test_neg_rgb_crops)\n",
    "\n",
    "y_pos_val = [True]*len(val_pos_rgb_crops)\n",
    "y_neg_val = [False]*len(val_neg_rgb_crops)"
   ]
  },
  {
   "cell_type": "raw",
   "metadata": {},
   "source": [
    "len(test_pos_rgb_crops)"
   ]
  },
  {
   "cell_type": "raw",
   "metadata": {},
   "source": [
    "# train_X_spectral = np.stack(train_pos_spectral_crops + train_neg_spectral_crops)\n",
    "train_X_rgb = np.stack(train_pos_rgb_crops + train_neg_rgb_crops)\n",
    "y_train = np.array(y_pos_train + y_neg_train)\n",
    "\n",
    "# test_X_spectral = np.stack(test_pos_spectral_crops + test_neg_spectral_crops)\n",
    "test_X_rgb = np.stack(test_pos_rgb_crops + test_neg_rgb_crops)\n",
    "y_test = np.array(y_pos_test + y_neg_test)\n",
    "\n",
    "# val_X_spectral = np.stack(val_pos_spectral_crops + val_neg_spectral_crops)\n",
    "val_X_rgb = np.stack(val_pos_rgb_crops + val_neg_rgb_crops)\n",
    "y_val = np.array(y_pos_val + y_neg_val)"
   ]
  },
  {
   "cell_type": "raw",
   "metadata": {},
   "source": [
    "# print(len(y_train))\n",
    "# print(len(train_X_rgb))"
   ]
  },
  {
   "cell_type": "markdown",
   "metadata": {},
   "source": [
    "## build and train model"
   ]
  },
  {
   "cell_type": "raw",
   "metadata": {},
   "source": [
    "if use_rgb:\n",
    "    x_train = train_rgb\n",
    "    x_eval = eval_rgb\n",
    "    x_test = test_rgb\n",
    "else:\n",
    "    x_train = train_spectral\n",
    "    x_eval = eval_spectral\n",
    "    x_test = test_spectral\n",
    "y_train = train_labels\n",
    "y_eval = eval_labels\n",
    "y_test = test_labels"
   ]
  },
  {
   "cell_type": "code",
   "execution_count": 68,
   "metadata": {},
   "outputs": [],
   "source": [
    "# input_shape = train_generator.image_shape\n",
    "mobilenet_model = mobilenet.MobileNet(include_top=True, weights=None, input_shape=input_shape, classes=2)#, dropout=0.2)\n",
    "# mobilenet_model = resnet50.ResNet50(include_top=True, weights=None, input_shape=input_shape, classes=2)"
   ]
  },
  {
   "cell_type": "code",
   "execution_count": null,
   "metadata": {},
   "outputs": [],
   "source": []
  },
  {
   "cell_type": "code",
   "execution_count": 69,
   "metadata": {
    "scrolled": true
   },
   "outputs": [
    {
     "name": "stdout",
     "output_type": "stream",
     "text": [
      "_________________________________________________________________\n",
      "Layer (type)                 Output Shape              Param #   \n",
      "=================================================================\n",
      "input_5 (InputLayer)         (None, 200, 200, 3)       0         \n",
      "_________________________________________________________________\n",
      "conv1_pad (ZeroPadding2D)    (None, 201, 201, 3)       0         \n",
      "_________________________________________________________________\n",
      "conv1 (Conv2D)               (None, 100, 100, 32)      864       \n",
      "_________________________________________________________________\n",
      "conv1_bn (BatchNormalization (None, 100, 100, 32)      128       \n",
      "_________________________________________________________________\n",
      "conv1_relu (ReLU)            (None, 100, 100, 32)      0         \n",
      "_________________________________________________________________\n",
      "conv_dw_1 (DepthwiseConv2D)  (None, 100, 100, 32)      288       \n",
      "_________________________________________________________________\n",
      "conv_dw_1_bn (BatchNormaliza (None, 100, 100, 32)      128       \n",
      "_________________________________________________________________\n",
      "conv_dw_1_relu (ReLU)        (None, 100, 100, 32)      0         \n",
      "_________________________________________________________________\n",
      "conv_pw_1 (Conv2D)           (None, 100, 100, 64)      2048      \n",
      "_________________________________________________________________\n",
      "conv_pw_1_bn (BatchNormaliza (None, 100, 100, 64)      256       \n",
      "_________________________________________________________________\n",
      "conv_pw_1_relu (ReLU)        (None, 100, 100, 64)      0         \n",
      "_________________________________________________________________\n",
      "conv_pad_2 (ZeroPadding2D)   (None, 101, 101, 64)      0         \n",
      "_________________________________________________________________\n",
      "conv_dw_2 (DepthwiseConv2D)  (None, 50, 50, 64)        576       \n",
      "_________________________________________________________________\n",
      "conv_dw_2_bn (BatchNormaliza (None, 50, 50, 64)        256       \n",
      "_________________________________________________________________\n",
      "conv_dw_2_relu (ReLU)        (None, 50, 50, 64)        0         \n",
      "_________________________________________________________________\n",
      "conv_pw_2 (Conv2D)           (None, 50, 50, 128)       8192      \n",
      "_________________________________________________________________\n",
      "conv_pw_2_bn (BatchNormaliza (None, 50, 50, 128)       512       \n",
      "_________________________________________________________________\n",
      "conv_pw_2_relu (ReLU)        (None, 50, 50, 128)       0         \n",
      "_________________________________________________________________\n",
      "conv_dw_3 (DepthwiseConv2D)  (None, 50, 50, 128)       1152      \n",
      "_________________________________________________________________\n",
      "conv_dw_3_bn (BatchNormaliza (None, 50, 50, 128)       512       \n",
      "_________________________________________________________________\n",
      "conv_dw_3_relu (ReLU)        (None, 50, 50, 128)       0         \n",
      "_________________________________________________________________\n",
      "conv_pw_3 (Conv2D)           (None, 50, 50, 128)       16384     \n",
      "_________________________________________________________________\n",
      "conv_pw_3_bn (BatchNormaliza (None, 50, 50, 128)       512       \n",
      "_________________________________________________________________\n",
      "conv_pw_3_relu (ReLU)        (None, 50, 50, 128)       0         \n",
      "_________________________________________________________________\n",
      "conv_pad_4 (ZeroPadding2D)   (None, 51, 51, 128)       0         \n",
      "_________________________________________________________________\n",
      "conv_dw_4 (DepthwiseConv2D)  (None, 25, 25, 128)       1152      \n",
      "_________________________________________________________________\n",
      "conv_dw_4_bn (BatchNormaliza (None, 25, 25, 128)       512       \n",
      "_________________________________________________________________\n",
      "conv_dw_4_relu (ReLU)        (None, 25, 25, 128)       0         \n",
      "_________________________________________________________________\n",
      "conv_pw_4 (Conv2D)           (None, 25, 25, 256)       32768     \n",
      "_________________________________________________________________\n",
      "conv_pw_4_bn (BatchNormaliza (None, 25, 25, 256)       1024      \n",
      "_________________________________________________________________\n",
      "conv_pw_4_relu (ReLU)        (None, 25, 25, 256)       0         \n",
      "_________________________________________________________________\n",
      "conv_dw_5 (DepthwiseConv2D)  (None, 25, 25, 256)       2304      \n",
      "_________________________________________________________________\n",
      "conv_dw_5_bn (BatchNormaliza (None, 25, 25, 256)       1024      \n",
      "_________________________________________________________________\n",
      "conv_dw_5_relu (ReLU)        (None, 25, 25, 256)       0         \n",
      "_________________________________________________________________\n",
      "conv_pw_5 (Conv2D)           (None, 25, 25, 256)       65536     \n",
      "_________________________________________________________________\n",
      "conv_pw_5_bn (BatchNormaliza (None, 25, 25, 256)       1024      \n",
      "_________________________________________________________________\n",
      "conv_pw_5_relu (ReLU)        (None, 25, 25, 256)       0         \n",
      "_________________________________________________________________\n",
      "conv_pad_6 (ZeroPadding2D)   (None, 26, 26, 256)       0         \n",
      "_________________________________________________________________\n",
      "conv_dw_6 (DepthwiseConv2D)  (None, 12, 12, 256)       2304      \n",
      "_________________________________________________________________\n",
      "conv_dw_6_bn (BatchNormaliza (None, 12, 12, 256)       1024      \n",
      "_________________________________________________________________\n",
      "conv_dw_6_relu (ReLU)        (None, 12, 12, 256)       0         \n",
      "_________________________________________________________________\n",
      "conv_pw_6 (Conv2D)           (None, 12, 12, 512)       131072    \n",
      "_________________________________________________________________\n",
      "conv_pw_6_bn (BatchNormaliza (None, 12, 12, 512)       2048      \n",
      "_________________________________________________________________\n",
      "conv_pw_6_relu (ReLU)        (None, 12, 12, 512)       0         \n",
      "_________________________________________________________________\n",
      "conv_dw_7 (DepthwiseConv2D)  (None, 12, 12, 512)       4608      \n",
      "_________________________________________________________________\n",
      "conv_dw_7_bn (BatchNormaliza (None, 12, 12, 512)       2048      \n",
      "_________________________________________________________________\n",
      "conv_dw_7_relu (ReLU)        (None, 12, 12, 512)       0         \n",
      "_________________________________________________________________\n",
      "conv_pw_7 (Conv2D)           (None, 12, 12, 512)       262144    \n",
      "_________________________________________________________________\n",
      "conv_pw_7_bn (BatchNormaliza (None, 12, 12, 512)       2048      \n",
      "_________________________________________________________________\n",
      "conv_pw_7_relu (ReLU)        (None, 12, 12, 512)       0         \n",
      "_________________________________________________________________\n",
      "conv_dw_8 (DepthwiseConv2D)  (None, 12, 12, 512)       4608      \n",
      "_________________________________________________________________\n",
      "conv_dw_8_bn (BatchNormaliza (None, 12, 12, 512)       2048      \n",
      "_________________________________________________________________\n",
      "conv_dw_8_relu (ReLU)        (None, 12, 12, 512)       0         \n",
      "_________________________________________________________________\n",
      "conv_pw_8 (Conv2D)           (None, 12, 12, 512)       262144    \n",
      "_________________________________________________________________\n",
      "conv_pw_8_bn (BatchNormaliza (None, 12, 12, 512)       2048      \n",
      "_________________________________________________________________\n",
      "conv_pw_8_relu (ReLU)        (None, 12, 12, 512)       0         \n",
      "_________________________________________________________________\n",
      "conv_dw_9 (DepthwiseConv2D)  (None, 12, 12, 512)       4608      \n",
      "_________________________________________________________________\n",
      "conv_dw_9_bn (BatchNormaliza (None, 12, 12, 512)       2048      \n",
      "_________________________________________________________________\n",
      "conv_dw_9_relu (ReLU)        (None, 12, 12, 512)       0         \n",
      "_________________________________________________________________\n",
      "conv_pw_9 (Conv2D)           (None, 12, 12, 512)       262144    \n",
      "_________________________________________________________________\n",
      "conv_pw_9_bn (BatchNormaliza (None, 12, 12, 512)       2048      \n",
      "_________________________________________________________________\n",
      "conv_pw_9_relu (ReLU)        (None, 12, 12, 512)       0         \n",
      "_________________________________________________________________\n",
      "conv_dw_10 (DepthwiseConv2D) (None, 12, 12, 512)       4608      \n",
      "_________________________________________________________________\n",
      "conv_dw_10_bn (BatchNormaliz (None, 12, 12, 512)       2048      \n",
      "_________________________________________________________________\n",
      "conv_dw_10_relu (ReLU)       (None, 12, 12, 512)       0         \n",
      "_________________________________________________________________\n",
      "conv_pw_10 (Conv2D)          (None, 12, 12, 512)       262144    \n",
      "_________________________________________________________________\n",
      "conv_pw_10_bn (BatchNormaliz (None, 12, 12, 512)       2048      \n",
      "_________________________________________________________________\n",
      "conv_pw_10_relu (ReLU)       (None, 12, 12, 512)       0         \n",
      "_________________________________________________________________\n",
      "conv_dw_11 (DepthwiseConv2D) (None, 12, 12, 512)       4608      \n",
      "_________________________________________________________________\n",
      "conv_dw_11_bn (BatchNormaliz (None, 12, 12, 512)       2048      \n",
      "_________________________________________________________________\n",
      "conv_dw_11_relu (ReLU)       (None, 12, 12, 512)       0         \n",
      "_________________________________________________________________\n",
      "conv_pw_11 (Conv2D)          (None, 12, 12, 512)       262144    \n",
      "_________________________________________________________________\n",
      "conv_pw_11_bn (BatchNormaliz (None, 12, 12, 512)       2048      \n",
      "_________________________________________________________________\n",
      "conv_pw_11_relu (ReLU)       (None, 12, 12, 512)       0         \n",
      "_________________________________________________________________\n",
      "conv_pad_12 (ZeroPadding2D)  (None, 13, 13, 512)       0         \n",
      "_________________________________________________________________\n",
      "conv_dw_12 (DepthwiseConv2D) (None, 6, 6, 512)         4608      \n",
      "_________________________________________________________________\n",
      "conv_dw_12_bn (BatchNormaliz (None, 6, 6, 512)         2048      \n",
      "_________________________________________________________________\n",
      "conv_dw_12_relu (ReLU)       (None, 6, 6, 512)         0         \n",
      "_________________________________________________________________\n",
      "conv_pw_12 (Conv2D)          (None, 6, 6, 1024)        524288    \n",
      "_________________________________________________________________\n",
      "conv_pw_12_bn (BatchNormaliz (None, 6, 6, 1024)        4096      \n",
      "_________________________________________________________________\n",
      "conv_pw_12_relu (ReLU)       (None, 6, 6, 1024)        0         \n",
      "_________________________________________________________________\n",
      "conv_dw_13 (DepthwiseConv2D) (None, 6, 6, 1024)        9216      \n",
      "_________________________________________________________________\n",
      "conv_dw_13_bn (BatchNormaliz (None, 6, 6, 1024)        4096      \n",
      "_________________________________________________________________\n",
      "conv_dw_13_relu (ReLU)       (None, 6, 6, 1024)        0         \n",
      "_________________________________________________________________\n",
      "conv_pw_13 (Conv2D)          (None, 6, 6, 1024)        1048576   \n",
      "_________________________________________________________________\n",
      "conv_pw_13_bn (BatchNormaliz (None, 6, 6, 1024)        4096      \n",
      "_________________________________________________________________\n",
      "conv_pw_13_relu (ReLU)       (None, 6, 6, 1024)        0         \n",
      "_________________________________________________________________\n",
      "global_average_pooling2d_5 ( (None, 1024)              0         \n",
      "_________________________________________________________________\n",
      "reshape_1 (Reshape)          (None, 1, 1, 1024)        0         \n",
      "_________________________________________________________________\n",
      "dropout (Dropout)            (None, 1, 1, 1024)        0         \n",
      "_________________________________________________________________\n",
      "conv_preds (Conv2D)          (None, 1, 1, 2)           2050      \n",
      "_________________________________________________________________\n",
      "act_softmax (Activation)     (None, 1, 1, 2)           0         \n",
      "_________________________________________________________________\n",
      "reshape_2 (Reshape)          (None, 2)                 0         \n",
      "=================================================================\n",
      "Total params: 3,230,914\n",
      "Trainable params: 3,209,026\n",
      "Non-trainable params: 21,888\n",
      "_________________________________________________________________\n"
     ]
    }
   ],
   "source": [
    "mobilenet_model.summary()"
   ]
  },
  {
   "cell_type": "code",
   "execution_count": 70,
   "metadata": {},
   "outputs": [],
   "source": [
    "optimizer = Adam(lr=1e-1) # 1e-3\n",
    "mobilenet_model.compile(loss=\"categorical_crossentropy\", optimizer=optimizer) #  binary_crossentropy\n",
    "# history = History()\n",
    "lrReduce = ReduceLROnPlateau(monitor='val_loss', factor=0.3, patience=4, verbose=1, min_lr=1e-6)\n",
    "if use_rgb:\n",
    "    chkpnt = ModelCheckpoint(\"my_models/model_rgb_weights_epoch{epoch:02d}-val_loss{val_loss:.3f}.hdf5\", save_best_only=True) # -train_loss{history.History()[loss][-1]:.2f}\n",
    "else:\n",
    "    chkpnt = ModelCheckpoint(\"my_models/model_spec_weights_epoch{epoch:02d}-val_loss{val_loss:.3f}.hdf5\", save_best_only=True) # -train_loss{history.History()[loss][-1]:.2f}\n",
    "num_of_epochs = 100"
   ]
  },
  {
   "cell_type": "raw",
   "metadata": {},
   "source": [
    "import os\n",
    "os.getcwd()"
   ]
  },
  {
   "cell_type": "raw",
   "metadata": {},
   "source": [
    "print(x_train.shape, y_train.shape)\n",
    "print(x_eval.shape, y_eval.shape)"
   ]
  },
  {
   "cell_type": "raw",
   "metadata": {},
   "source": [
    "STEP_SIZE_TRAIN=len(df_train)//batch_size\n",
    "STEP_SIZE_VALID=len(df_val)//batch_size\n",
    "history = mobilenet_model.fit_generator(generator=train_generator,\n",
    "                    steps_per_epoch=1,#STEP_SIZE_TRAIN,\n",
    "#                     validation_data=val_generator,\n",
    "#                     validation_steps=1,\n",
    "                    epochs=30, callbacks=[lrReduce], shuffle=False)"
   ]
  },
  {
   "cell_type": "code",
   "execution_count": 71,
   "metadata": {},
   "outputs": [
    {
     "data": {
      "text/plain": [
       "(16, 200, 200, 3)"
      ]
     },
     "execution_count": 71,
     "metadata": {},
     "output_type": "execute_result"
    }
   ],
   "source": [
    "xx.shape"
   ]
  },
  {
   "cell_type": "code",
   "execution_count": 72,
   "metadata": {},
   "outputs": [
    {
     "data": {
      "text/plain": [
       "<matplotlib.image.AxesImage at 0x7f4083184a20>"
      ]
     },
     "execution_count": 72,
     "metadata": {},
     "output_type": "execute_result"
    },
    {
     "data": {
      "image/png": "[encoded data removed]",
      "text/plain": [
       "<Figure size 432x288 with 1 Axes>"
      ]
     },
     "metadata": {
      "needs_background": "light"
     },
     "output_type": "display_data"
    }
   ],
   "source": [
    "plt.imshow(xx[0]-xx[0].min())\n"
   ]
  },
  {
   "cell_type": "code",
   "execution_count": 73,
   "metadata": {},
   "outputs": [],
   "source": [
    "from copy import deepcopy\n",
    "xxx = deepcopy(xx)\n",
    "yyy = deepcopy(yy)\n"
   ]
  },
  {
   "cell_type": "code",
   "execution_count": 74,
   "metadata": {},
   "outputs": [
    {
     "data": {
      "text/plain": [
       "array([[1., 0.],\n",
       "       [0., 1.],\n",
       "       [0., 1.],\n",
       "       [0., 1.],\n",
       "       [1., 0.],\n",
       "       [1., 0.],\n",
       "       [0., 1.],\n",
       "       [1., 0.],\n",
       "       [1., 0.],\n",
       "       [0., 1.],\n",
       "       [1., 0.],\n",
       "       [1., 0.],\n",
       "       [0., 1.],\n",
       "       [0., 1.],\n",
       "       [0., 1.],\n",
       "       [0., 1.]], dtype=float32)"
      ]
     },
     "execution_count": 74,
     "metadata": {},
     "output_type": "execute_result"
    }
   ],
   "source": [
    "yyy"
   ]
  },
  {
   "cell_type": "code",
   "execution_count": 75,
   "metadata": {
    "scrolled": true
   },
   "outputs": [
    {
     "name": "stdout",
     "output_type": "stream",
     "text": [
      "Train on 16 samples, validate on 16 samples\n",
      "Epoch 1/30\n",
      "16/16 [==============================] - 9s 543ms/step - loss: 0.7163 - val_loss: 9.0664\n",
      "Epoch 2/30\n",
      "16/16 [==============================] - 3s 180ms/step - loss: 7.2369 - val_loss: 9.0664\n",
      "Epoch 3/30\n",
      "16/16 [==============================] - 3s 179ms/step - loss: 1.6165 - val_loss: 9.0664\n",
      "Epoch 4/30\n",
      "16/16 [==============================] - 3s 179ms/step - loss: 1.4587 - val_loss: 9.0664\n",
      "Epoch 5/30\n",
      "16/16 [==============================] - 3s 200ms/step - loss: 1.0368 - val_loss: 9.0664\n",
      "\n",
      "Epoch 00005: ReduceLROnPlateau reducing learning rate to 0.030000000447034835.\n",
      "Epoch 6/30\n",
      "16/16 [==============================] - 3s 179ms/step - loss: 1.0153 - val_loss: 9.0664\n",
      "Epoch 7/30\n",
      "16/16 [==============================] - 3s 179ms/step - loss: 1.0124 - val_loss: 9.0664\n",
      "Epoch 8/30\n",
      "16/16 [==============================] - 3s 179ms/step - loss: 1.0113 - val_loss: 9.0664\n",
      "Epoch 9/30\n",
      "16/16 [==============================] - 3s 183ms/step - loss: 1.0107 - val_loss: 9.0664\n",
      "\n",
      "Epoch 00009: ReduceLROnPlateau reducing learning rate to 0.009000000357627868.\n",
      "Epoch 10/30\n",
      "16/16 [==============================] - 3s 189ms/step - loss: 1.0106 - val_loss: 9.0664\n",
      "Epoch 11/30\n",
      "16/16 [==============================] - 3s 187ms/step - loss: 1.0105 - val_loss: 9.0664\n",
      "Epoch 12/30\n",
      "16/16 [==============================] - 3s 189ms/step - loss: 1.0105 - val_loss: 9.0664\n",
      "Epoch 13/30\n",
      "16/16 [==============================] - 3s 184ms/step - loss: 1.0105 - val_loss: 9.0664\n",
      "\n",
      "Epoch 00013: ReduceLROnPlateau reducing learning rate to 0.002700000163167715.\n",
      "Epoch 14/30\n",
      "16/16 [==============================] - 3s 199ms/step - loss: 1.0104 - val_loss: 9.0664\n",
      "Epoch 15/30\n",
      "16/16 [==============================] - 3s 190ms/step - loss: 1.0104 - val_loss: 9.0664\n",
      "Epoch 16/30\n",
      "16/16 [==============================] - 3s 192ms/step - loss: 1.0104 - val_loss: 9.0664\n",
      "Epoch 17/30\n",
      "16/16 [==============================] - 3s 190ms/step - loss: 1.0106 - val_loss: 9.0664\n",
      "\n",
      "Epoch 00017: ReduceLROnPlateau reducing learning rate to 0.0008100000210106373.\n",
      "Epoch 18/30\n",
      "16/16 [==============================] - 3s 186ms/step - loss: 1.0104 - val_loss: 9.0664\n",
      "Epoch 19/30\n",
      "16/16 [==============================] - 3s 184ms/step - loss: 1.0103 - val_loss: 9.0664\n",
      "Epoch 20/30\n",
      "16/16 [==============================] - 3s 185ms/step - loss: 1.0103 - val_loss: 9.0664\n",
      "Epoch 21/30\n",
      "16/16 [==============================] - 3s 192ms/step - loss: 1.0103 - val_loss: 9.0664\n",
      "\n",
      "Epoch 00021: ReduceLROnPlateau reducing learning rate to 0.00024299999931827186.\n",
      "Epoch 22/30\n",
      "16/16 [==============================] - 3s 203ms/step - loss: 1.0103 - val_loss: 9.0664\n",
      "Epoch 23/30\n",
      "16/16 [==============================] - 3s 203ms/step - loss: 1.0103 - val_loss: 9.0664\n",
      "Epoch 24/30\n",
      "16/16 [==============================] - 3s 186ms/step - loss: 1.0105 - val_loss: 9.0664\n",
      "Epoch 25/30\n",
      "16/16 [==============================] - 3s 181ms/step - loss: 1.0103 - val_loss: 9.0664\n",
      "\n",
      "Epoch 00025: ReduceLROnPlateau reducing learning rate to 7.290000066859647e-05.\n",
      "Epoch 26/30\n",
      "16/16 [==============================] - 3s 196ms/step - loss: 1.0102 - val_loss: 9.0664\n",
      "Epoch 27/30\n",
      "16/16 [==============================] - 3s 205ms/step - loss: 1.0103 - val_loss: 9.0664\n",
      "Epoch 28/30\n",
      "16/16 [==============================] - 3s 202ms/step - loss: 1.0110 - val_loss: 9.0664\n",
      "Epoch 29/30\n"
     ]
    },
    {
     "ename": "KeyboardInterrupt",
     "evalue": "",
     "output_type": "error",
     "traceback": [
      "\u001b[0;31m---------------------------------------------------------------------------\u001b[0m",
      "\u001b[0;31mKeyboardInterrupt\u001b[0m                         Traceback (most recent call last)",
      "\u001b[0;32m<ipython-input-75-cfbf15092a4a>\u001b[0m in \u001b[0;36m<module>\u001b[0;34m\u001b[0m\n\u001b[1;32m      1\u001b[0m \u001b[0mSTEP_SIZE_TRAIN\u001b[0m\u001b[0;34m=\u001b[0m\u001b[0mlen\u001b[0m\u001b[0;34m(\u001b[0m\u001b[0mdf_train\u001b[0m\u001b[0;34m)\u001b[0m\u001b[0;34m//\u001b[0m\u001b[0mbatch_size\u001b[0m\u001b[0;34m\u001b[0m\u001b[0m\n\u001b[1;32m      2\u001b[0m \u001b[0mSTEP_SIZE_VALID\u001b[0m\u001b[0;34m=\u001b[0m\u001b[0mlen\u001b[0m\u001b[0;34m(\u001b[0m\u001b[0mdf_val\u001b[0m\u001b[0;34m)\u001b[0m\u001b[0;34m//\u001b[0m\u001b[0mbatch_size\u001b[0m\u001b[0;34m\u001b[0m\u001b[0m\n\u001b[0;32m----> 3\u001b[0;31m \u001b[0mmobilenet_model\u001b[0m\u001b[0;34m.\u001b[0m\u001b[0mfit\u001b[0m\u001b[0;34m(\u001b[0m\u001b[0mxxx\u001b[0m\u001b[0;34m,\u001b[0m \u001b[0myyy\u001b[0m\u001b[0;34m,\u001b[0m \u001b[0mepochs\u001b[0m\u001b[0;34m=\u001b[0m\u001b[0;36m30\u001b[0m\u001b[0;34m,\u001b[0m \u001b[0mcallbacks\u001b[0m\u001b[0;34m=\u001b[0m\u001b[0;34m[\u001b[0m\u001b[0mlrReduce\u001b[0m\u001b[0;34m]\u001b[0m\u001b[0;34m,\u001b[0m \u001b[0mvalidation_data\u001b[0m\u001b[0;34m=\u001b[0m\u001b[0;34m(\u001b[0m\u001b[0mxxx\u001b[0m\u001b[0;34m,\u001b[0m \u001b[0myyy\u001b[0m\u001b[0;34m)\u001b[0m\u001b[0;34m,\u001b[0m \u001b[0mshuffle\u001b[0m\u001b[0;34m=\u001b[0m\u001b[0;32mFalse\u001b[0m\u001b[0;34m)\u001b[0m\u001b[0;34m\u001b[0m\u001b[0m\n\u001b[0m",
      "\u001b[0;32m/media/leetwito/Windows/Users/leetw/PycharmProjects/venvs/keras/lib/python3.5/site-packages/keras/engine/training.py\u001b[0m in \u001b[0;36mfit\u001b[0;34m(self, x, y, batch_size, epochs, verbose, callbacks, validation_split, validation_data, shuffle, class_weight, sample_weight, initial_epoch, steps_per_epoch, validation_steps, **kwargs)\u001b[0m\n\u001b[1;32m   1037\u001b[0m                                         \u001b[0minitial_epoch\u001b[0m\u001b[0;34m=\u001b[0m\u001b[0minitial_epoch\u001b[0m\u001b[0;34m,\u001b[0m\u001b[0;34m\u001b[0m\u001b[0m\n\u001b[1;32m   1038\u001b[0m                                         \u001b[0msteps_per_epoch\u001b[0m\u001b[0;34m=\u001b[0m\u001b[0msteps_per_epoch\u001b[0m\u001b[0;34m,\u001b[0m\u001b[0;34m\u001b[0m\u001b[0m\n\u001b[0;32m-> 1039\u001b[0;31m                                         validation_steps=validation_steps)\n\u001b[0m\u001b[1;32m   1040\u001b[0m \u001b[0;34m\u001b[0m\u001b[0m\n\u001b[1;32m   1041\u001b[0m     def evaluate(self, x=None, y=None,\n",
      "\u001b[0;32m/media/leetwito/Windows/Users/leetw/PycharmProjects/venvs/keras/lib/python3.5/site-packages/keras/engine/training_arrays.py\u001b[0m in \u001b[0;36mfit_loop\u001b[0;34m(model, f, ins, out_labels, batch_size, epochs, verbose, callbacks, val_f, val_ins, shuffle, callback_metrics, initial_epoch, steps_per_epoch, validation_steps)\u001b[0m\n\u001b[1;32m    197\u001b[0m                     \u001b[0mins_batch\u001b[0m\u001b[0;34m[\u001b[0m\u001b[0mi\u001b[0m\u001b[0;34m]\u001b[0m \u001b[0;34m=\u001b[0m \u001b[0mins_batch\u001b[0m\u001b[0;34m[\u001b[0m\u001b[0mi\u001b[0m\u001b[0;34m]\u001b[0m\u001b[0;34m.\u001b[0m\u001b[0mtoarray\u001b[0m\u001b[0;34m(\u001b[0m\u001b[0;34m)\u001b[0m\u001b[0;34m\u001b[0m\u001b[0m\n\u001b[1;32m    198\u001b[0m \u001b[0;34m\u001b[0m\u001b[0m\n\u001b[0;32m--> 199\u001b[0;31m                 \u001b[0mouts\u001b[0m \u001b[0;34m=\u001b[0m \u001b[0mf\u001b[0m\u001b[0;34m(\u001b[0m\u001b[0mins_batch\u001b[0m\u001b[0;34m)\u001b[0m\u001b[0;34m\u001b[0m\u001b[0m\n\u001b[0m\u001b[1;32m    200\u001b[0m                 \u001b[0mouts\u001b[0m \u001b[0;34m=\u001b[0m \u001b[0mto_list\u001b[0m\u001b[0;34m(\u001b[0m\u001b[0mouts\u001b[0m\u001b[0;34m)\u001b[0m\u001b[0;34m\u001b[0m\u001b[0m\n\u001b[1;32m    201\u001b[0m                 \u001b[0;32mfor\u001b[0m \u001b[0ml\u001b[0m\u001b[0;34m,\u001b[0m \u001b[0mo\u001b[0m \u001b[0;32min\u001b[0m \u001b[0mzip\u001b[0m\u001b[0;34m(\u001b[0m\u001b[0mout_labels\u001b[0m\u001b[0;34m,\u001b[0m \u001b[0mouts\u001b[0m\u001b[0;34m)\u001b[0m\u001b[0;34m:\u001b[0m\u001b[0;34m\u001b[0m\u001b[0m\n",
      "\u001b[0;32m/media/leetwito/Windows/Users/leetw/PycharmProjects/venvs/keras/lib/python3.5/site-packages/keras/backend/tensorflow_backend.py\u001b[0m in \u001b[0;36m__call__\u001b[0;34m(self, inputs)\u001b[0m\n\u001b[1;32m   2713\u001b[0m                 \u001b[0;32mreturn\u001b[0m \u001b[0mself\u001b[0m\u001b[0;34m.\u001b[0m\u001b[0m_legacy_call\u001b[0m\u001b[0;34m(\u001b[0m\u001b[0minputs\u001b[0m\u001b[0;34m)\u001b[0m\u001b[0;34m\u001b[0m\u001b[0m\n\u001b[1;32m   2714\u001b[0m \u001b[0;34m\u001b[0m\u001b[0m\n\u001b[0;32m-> 2715\u001b[0;31m             \u001b[0;32mreturn\u001b[0m \u001b[0mself\u001b[0m\u001b[0;34m.\u001b[0m\u001b[0m_call\u001b[0m\u001b[0;34m(\u001b[0m\u001b[0minputs\u001b[0m\u001b[0;34m)\u001b[0m\u001b[0;34m\u001b[0m\u001b[0m\n\u001b[0m\u001b[1;32m   2716\u001b[0m         \u001b[0;32melse\u001b[0m\u001b[0;34m:\u001b[0m\u001b[0;34m\u001b[0m\u001b[0m\n\u001b[1;32m   2717\u001b[0m             \u001b[0;32mif\u001b[0m \u001b[0mpy_any\u001b[0m\u001b[0;34m(\u001b[0m\u001b[0mis_tensor\u001b[0m\u001b[0;34m(\u001b[0m\u001b[0mx\u001b[0m\u001b[0;34m)\u001b[0m \u001b[0;32mfor\u001b[0m \u001b[0mx\u001b[0m \u001b[0;32min\u001b[0m \u001b[0minputs\u001b[0m\u001b[0;34m)\u001b[0m\u001b[0;34m:\u001b[0m\u001b[0;34m\u001b[0m\u001b[0m\n",
      "\u001b[0;32m/media/leetwito/Windows/Users/leetw/PycharmProjects/venvs/keras/lib/python3.5/site-packages/keras/backend/tensorflow_backend.py\u001b[0m in \u001b[0;36m_call\u001b[0;34m(self, inputs)\u001b[0m\n\u001b[1;32m   2673\u001b[0m             \u001b[0mfetched\u001b[0m \u001b[0;34m=\u001b[0m \u001b[0mself\u001b[0m\u001b[0;34m.\u001b[0m\u001b[0m_callable_fn\u001b[0m\u001b[0;34m(\u001b[0m\u001b[0;34m*\u001b[0m\u001b[0marray_vals\u001b[0m\u001b[0;34m,\u001b[0m \u001b[0mrun_metadata\u001b[0m\u001b[0;34m=\u001b[0m\u001b[0mself\u001b[0m\u001b[0;34m.\u001b[0m\u001b[0mrun_metadata\u001b[0m\u001b[0;34m)\u001b[0m\u001b[0;34m\u001b[0m\u001b[0m\n\u001b[1;32m   2674\u001b[0m         \u001b[0;32melse\u001b[0m\u001b[0;34m:\u001b[0m\u001b[0;34m\u001b[0m\u001b[0m\n\u001b[0;32m-> 2675\u001b[0;31m             \u001b[0mfetched\u001b[0m \u001b[0;34m=\u001b[0m \u001b[0mself\u001b[0m\u001b[0;34m.\u001b[0m\u001b[0m_callable_fn\u001b[0m\u001b[0;34m(\u001b[0m\u001b[0;34m*\u001b[0m\u001b[0marray_vals\u001b[0m\u001b[0;34m)\u001b[0m\u001b[0;34m\u001b[0m\u001b[0m\n\u001b[0m\u001b[1;32m   2676\u001b[0m         \u001b[0;32mreturn\u001b[0m \u001b[0mfetched\u001b[0m\u001b[0;34m[\u001b[0m\u001b[0;34m:\u001b[0m\u001b[0mlen\u001b[0m\u001b[0;34m(\u001b[0m\u001b[0mself\u001b[0m\u001b[0;34m.\u001b[0m\u001b[0moutputs\u001b[0m\u001b[0;34m)\u001b[0m\u001b[0;34m]\u001b[0m\u001b[0;34m\u001b[0m\u001b[0m\n\u001b[1;32m   2677\u001b[0m \u001b[0;34m\u001b[0m\u001b[0m\n",
      "\u001b[0;32m/media/leetwito/Windows/Users/leetw/PycharmProjects/venvs/keras/lib/python3.5/site-packages/tensorflow/python/client/session.py\u001b[0m in \u001b[0;36m__call__\u001b[0;34m(self, *args, **kwargs)\u001b[0m\n\u001b[1;32m   1437\u001b[0m           ret = tf_session.TF_SessionRunCallable(\n\u001b[1;32m   1438\u001b[0m               \u001b[0mself\u001b[0m\u001b[0;34m.\u001b[0m\u001b[0m_session\u001b[0m\u001b[0;34m.\u001b[0m\u001b[0m_session\u001b[0m\u001b[0;34m,\u001b[0m \u001b[0mself\u001b[0m\u001b[0;34m.\u001b[0m\u001b[0m_handle\u001b[0m\u001b[0;34m,\u001b[0m \u001b[0margs\u001b[0m\u001b[0;34m,\u001b[0m \u001b[0mstatus\u001b[0m\u001b[0;34m,\u001b[0m\u001b[0;34m\u001b[0m\u001b[0m\n\u001b[0;32m-> 1439\u001b[0;31m               run_metadata_ptr)\n\u001b[0m\u001b[1;32m   1440\u001b[0m         \u001b[0;32mif\u001b[0m \u001b[0mrun_metadata\u001b[0m\u001b[0;34m:\u001b[0m\u001b[0;34m\u001b[0m\u001b[0m\n\u001b[1;32m   1441\u001b[0m           \u001b[0mproto_data\u001b[0m \u001b[0;34m=\u001b[0m \u001b[0mtf_session\u001b[0m\u001b[0;34m.\u001b[0m\u001b[0mTF_GetBuffer\u001b[0m\u001b[0;34m(\u001b[0m\u001b[0mrun_metadata_ptr\u001b[0m\u001b[0;34m)\u001b[0m\u001b[0;34m\u001b[0m\u001b[0m\n",
      "\u001b[0;31mKeyboardInterrupt\u001b[0m: "
     ]
    }
   ],
   "source": [
    "STEP_SIZE_TRAIN=len(df_train)//batch_size\n",
    "STEP_SIZE_VALID=len(df_val)//batch_size\n",
    "mobilenet_model.fit(xxx, yyy, epochs=30, callbacks=[lrReduce], validation_data=(xxx, yyy), shuffle=False)"
   ]
  },
  {
   "cell_type": "code",
   "execution_count": null,
   "metadata": {},
   "outputs": [],
   "source": [
    "STEP_SIZE_TEST=len(df_test)//batch_size\n",
    "# mobilenet_model.evaluate_generator(train_generator, steps=1)\n",
    "mobilenet_model.evaluate(xx, yy)"
   ]
  },
  {
   "cell_type": "code",
   "execution_count": null,
   "metadata": {},
   "outputs": [],
   "source": [
    "for xx, yy in train_generator:\n",
    "    break"
   ]
  },
  {
   "cell_type": "code",
   "execution_count": 45,
   "metadata": {},
   "outputs": [
    {
     "data": {
      "text/plain": [
       "array([[1., 0.],\n",
       "       [0., 1.],\n",
       "       [1., 0.],\n",
       "       [0., 1.],\n",
       "       [1., 0.],\n",
       "       [0., 1.],\n",
       "       [0., 1.],\n",
       "       [1., 0.],\n",
       "       [0., 1.],\n",
       "       [1., 0.],\n",
       "       [0., 1.],\n",
       "       [1., 0.],\n",
       "       [0., 1.],\n",
       "       [1., 0.],\n",
       "       [0., 1.],\n",
       "       [0., 1.]], dtype=float32)"
      ]
     },
     "execution_count": 45,
     "metadata": {},
     "output_type": "execute_result"
    }
   ],
   "source": [
    "yy"
   ]
  },
  {
   "cell_type": "code",
   "execution_count": 46,
   "metadata": {},
   "outputs": [
    {
     "data": {
      "text/plain": [
       "(16,)"
      ]
     },
     "execution_count": 46,
     "metadata": {},
     "output_type": "execute_result"
    }
   ],
   "source": [
    "y_train = df_train.iloc[:, 1]\n",
    "y_train.shape"
   ]
  },
  {
   "cell_type": "code",
   "execution_count": 76,
   "metadata": {},
   "outputs": [
    {
     "data": {
      "text/plain": [
       "array([[1., 0.],\n",
       "       [1., 0.],\n",
       "       [1., 0.],\n",
       "       [1., 0.],\n",
       "       [1., 0.],\n",
       "       [1., 0.],\n",
       "       [1., 0.],\n",
       "       [1., 0.],\n",
       "       [1., 0.],\n",
       "       [1., 0.],\n",
       "       [1., 0.],\n",
       "       [1., 0.],\n",
       "       [1., 0.],\n",
       "       [1., 0.],\n",
       "       [1., 0.],\n",
       "       [1., 0.]], dtype=float32)"
      ]
     },
     "execution_count": 76,
     "metadata": {},
     "output_type": "execute_result"
    }
   ],
   "source": [
    "# y_pred = mobilenet_model.predict_generator(train_generator, steps=1)\n",
    "y_pred = mobilenet_model.predict(xx)\n",
    "y_pred"
   ]
  },
  {
   "cell_type": "code",
   "execution_count": 77,
   "metadata": {
    "scrolled": true
   },
   "outputs": [
    {
     "ename": "IndexError",
     "evalue": "too many indices for array",
     "output_type": "error",
     "traceback": [
      "\u001b[0;31m---------------------------------------------------------------------------\u001b[0m",
      "\u001b[0;31mIndexError\u001b[0m                                Traceback (most recent call last)",
      "\u001b[0;32m<ipython-input-77-23fa4a3e852f>\u001b[0m in \u001b[0;36m<module>\u001b[0;34m\u001b[0m\n\u001b[0;32m----> 1\u001b[0;31m \u001b[0my_pred\u001b[0m\u001b[0;34m.\u001b[0m\u001b[0margmax\u001b[0m\u001b[0;34m(\u001b[0m\u001b[0maxis\u001b[0m\u001b[0;34m=\u001b[0m\u001b[0;36m1\u001b[0m\u001b[0;34m)\u001b[0m\u001b[0;34m,\u001b[0m \u001b[0my_train\u001b[0m\u001b[0;34m.\u001b[0m\u001b[0mvalues\u001b[0m\u001b[0;34m[\u001b[0m\u001b[0;34m:\u001b[0m\u001b[0;34m,\u001b[0m \u001b[0;36m1\u001b[0m\u001b[0;34m]\u001b[0m\u001b[0;34m.\u001b[0m\u001b[0mastype\u001b[0m\u001b[0;34m(\u001b[0m\u001b[0mint\u001b[0m\u001b[0;34m)\u001b[0m\u001b[0;34m\u001b[0m\u001b[0m\n\u001b[0m",
      "\u001b[0;31mIndexError\u001b[0m: too many indices for array"
     ]
    }
   ],
   "source": [
    "y_pred.argmax(axis=1), y_train.values[:, 1].astype(int)"
   ]
  },
  {
   "cell_type": "code",
   "execution_count": null,
   "metadata": {},
   "outputs": [],
   "source": [
    "y_test = df_test['label'][:len(y_pred)].values"
   ]
  },
  {
   "cell_type": "code",
   "execution_count": null,
   "metadata": {},
   "outputs": [],
   "source": [
    "plot_roc_curve(y_test, y_pred)\n",
    "plt.show()"
   ]
  },
  {
   "cell_type": "code",
   "execution_count": null,
   "metadata": {},
   "outputs": [],
   "source": [
    "y_pred = np.argmax(y_pred, axis=1)\n",
    "y_pred.shape"
   ]
  },
  {
   "cell_type": "code",
   "execution_count": null,
   "metadata": {},
   "outputs": [],
   "source": [
    "test_generator"
   ]
  },
  {
   "cell_type": "code",
   "execution_count": null,
   "metadata": {},
   "outputs": [],
   "source": [
    "y_pred.sum()"
   ]
  },
  {
   "cell_type": "code",
   "execution_count": null,
   "metadata": {},
   "outputs": [],
   "source": [
    "\n",
    "y_test.sum()"
   ]
  },
  {
   "cell_type": "code",
   "execution_count": null,
   "metadata": {},
   "outputs": [],
   "source": [
    "(y_pred==y_test).sum()/220"
   ]
  },
  {
   "cell_type": "raw",
   "metadata": {},
   "source": [
    "mobilenet_model.fit(x=x_train, y=y_train, epochs=1000, validation_data=(x_eval, y_eval), batch_size=64, verbose=2, callbacks=[chkpnt, lrReduce], shuffle=True)"
   ]
  },
  {
   "cell_type": "raw",
   "metadata": {},
   "source": [
    "y_pred = mobilenet_model.predict(test_rgb)"
   ]
  },
  {
   "cell_type": "raw",
   "metadata": {},
   "source": [
    "y_pred = y_pred[:, 0]>y_pred[:, 1]"
   ]
  },
  {
   "cell_type": "raw",
   "metadata": {},
   "source": [
    "y_test = y_test[:, 0]>y_test[:, 1]"
   ]
  },
  {
   "cell_type": "raw",
   "metadata": {},
   "source": [
    "(y_test.T[0] != y_pred).sum()"
   ]
  },
  {
   "cell_type": "markdown",
   "metadata": {},
   "source": [
    "############"
   ]
  },
  {
   "cell_type": "raw",
   "metadata": {},
   "source": [
    "folders = glob(data_dir+\"/*/\")"
   ]
  },
  {
   "cell_type": "raw",
   "metadata": {},
   "source": [
    "pos_folders = [i for i in folders if \"Cancer\" in i]\n",
    "neg_folders = [i for i in folders if \"Normal\" in i]\n",
    "\n",
    "pos_crops_files = []\n",
    "for folder in pos_folders:\n",
    "#     print(folder)\n",
    "    pos_crops_files.append(len(glob(folder+\"*\"+file_ext)))\n",
    "    \n",
    "neg_crops_files = []\n",
    "for folder in neg_folders:\n",
    "#     print(folder)\n",
    "    neg_crops_files.append(len(glob(folder+\"*\"+file_ext)))"
   ]
  },
  {
   "cell_type": "raw",
   "metadata": {},
   "source": [
    "pos_crops_files, neg_crops_files"
   ]
  },
  {
   "cell_type": "raw",
   "metadata": {},
   "source": [
    "tot_pos = np.sum(pos_crops_files)\n",
    "tot_neg = np.sum(neg_crops_files)"
   ]
  },
  {
   "cell_type": "raw",
   "metadata": {},
   "source": [
    "tot_pos"
   ]
  },
  {
   "cell_type": "raw",
   "metadata": {},
   "source": [
    "eval_min_percentage = 0.1"
   ]
  },
  {
   "cell_type": "raw",
   "metadata": {},
   "source": [
    "eval_num_pos = int(eval_min_percentage*tot_pos)\n",
    "eval_num_neg = int(eval_min_percentage*tot_neg)\n",
    "\n",
    "print(eval_num_pos, eval_num_neg)"
   ]
  },
  {
   "cell_type": "raw",
   "metadata": {},
   "source": []
  },
  {
   "cell_type": "raw",
   "metadata": {},
   "source": [
    "pos_folders_rand = pd.DataFrame({\"folder\":pos_folders, \"n_files\":pos_crops_files}).sample(len(pos_folders), random_state=0).reset_index(drop=True)\n",
    "neg_folders_rand = pd.DataFrame({\"folder\":neg_folders, \"n_files\":neg_crops_files}).sample(len(neg_folders), random_state=0).reset_index(drop=True)"
   ]
  },
  {
   "cell_type": "raw",
   "metadata": {},
   "source": [
    "pos_folders_rand"
   ]
  },
  {
   "cell_type": "raw",
   "metadata": {},
   "source": [
    "\n",
    "eval_files_neg = []"
   ]
  },
  {
   "cell_type": "raw",
   "metadata": {},
   "source": [
    "def get_part_files(all_folders_df, frac):\n",
    "    tot_files = all_folders_df.n_files.sum()\n",
    "    min_num_files = int(frac*tot_files)\n",
    "    chosen_files_list= []\n",
    "    while len(chosen_files_list) < min_num_files:\n",
    "        folder = all_folders_df.iloc[0].folder\n",
    "        all_folders_df.drop(0, inplace=True)\n",
    "        all_folders_df.reset_index(inplace=True, drop=True)\n",
    "        chosen_files_list += glob(folder+\"/*\"+file_ext)\n",
    "    return chosen_files_list\n",
    "\n",
    "print(pos_folders_rand.shape)\n",
    "eval_files_pos = get_part_files(pos_folders_rand, 0.1)\n",
    "eval_files_neg = get_part_files(neg_folders_rand, 0.1)\n",
    "print(pos_folders_rand.shape)\n",
    "\n",
    "test_files_pos = get_part_files(pos_folders_rand, 0.1)\n",
    "test_files_neg = get_part_files(neg_folders_rand, 0.1)\n",
    "\n",
    "print(pos_folders_rand.shape)\n",
    "\n",
    "train_files_pos = get_part_files(pos_folders_rand, 1)\n",
    "train_files_neg = get_part_files(neg_folders_rand, 1)\n",
    "\n",
    "print(pos_folders_rand.shape)"
   ]
  },
  {
   "cell_type": "raw",
   "metadata": {},
   "source": [
    "len(eval_files_pos), len(eval_files_neg), len(test_files_pos), len(test_files_neg)"
   ]
  },
  {
   "cell_type": "raw",
   "metadata": {},
   "source": [
    "def get_df_pos_neg_files(list_neg, list_pos):\n",
    "    return pd.DataFrame({\"filepath\":list_neg+list_pos, \"label\":[False]*len(list_neg)+[True]*len(list_pos)})"
   ]
  },
  {
   "cell_type": "raw",
   "metadata": {},
   "source": [
    "df_eval = get_df_pos_neg_files(eval_files_neg, eval_files_pos)\n",
    "df_train = get_df_pos_neg_files(train_files_neg, train_files_pos)\n",
    "df_test = get_df_pos_neg_files(test_files_neg, test_files_pos)"
   ]
  },
  {
   "cell_type": "raw",
   "metadata": {},
   "source": [
    "df_train.to_csv(data_dir+'/train.csv', index=False)\n",
    "df_test.to_csv(data_dir+'/test.csv', index=False)\n",
    "df_eval.to_csv(data_dir+'/eval.csv', index=False)"
   ]
  }
 ],
 "metadata": {
  "kernelspec": {
   "display_name": "Python 3",
   "language": "python",
   "name": "python3"
  },
  "language_info": {
   "codemirror_mode": {
    "name": "ipython",
    "version": 3
   },
   "file_extension": ".py",
   "mimetype": "text/x-python",
   "name": "python",
   "nbconvert_exporter": "python",
   "pygments_lexer": "ipython3",
   "version": "3.5.2"
  }
 },
 "nbformat": 4,
 "nbformat_minor": 2
}
