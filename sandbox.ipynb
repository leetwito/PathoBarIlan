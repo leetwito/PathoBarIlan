{
 "cells": [
  {
   "cell_type": "code",
   "execution_count": 10,
   "metadata": {},
   "outputs": [],
   "source": [
    "import scipy.io \n",
    "import matplotlib.pyplot as plt\n",
    "import cv2\n",
    "import keras\n",
    "from glob import glob\n",
    "import numpy as np\n",
    "from tqdm import tqdm\n",
    "import os\n",
    "from PIL import Image\n",
    "import pandas as pd\n",
    "\n",
    "from keras.applications import mobilenet #, vgg16, inception_v3, resnet50, \n",
    "from keras.optimizers import Adam\n",
    "from keras.utils import to_categorical\n",
    "from keras.callbacks import ReduceLROnPlateau, ModelCheckpoint"
   ]
  },
  {
   "cell_type": "markdown",
   "metadata": {},
   "source": [
    "## Params"
   ]
  },
  {
   "cell_type": "code",
   "execution_count": 2,
   "metadata": {},
   "outputs": [],
   "source": [
    "normal_paths = glob('E:/Datasets/PathoBarIlan/Case8/Normal*.mat')\n",
    "cancer_paths = glob('E:/Datasets/PathoBarIlan/Case8/Cancer*.mat')\n",
    "mixed_paths = glob('E:/Datasets/PathoBarIlan/Case8/Mixed*.mat')\n",
    "\n",
    "data_dir = 'E:/Datasets/PathoBarIlan/Case8'\n",
    "\n",
    "pos_name_init = 'Cancer'\n",
    "neg_name_init = 'Normal'\n",
    "\n",
    "use_rgb = True # True=rgb, False=spectral\n",
    "\n",
    "window_size = (200, 200)\n",
    "shift = (100, 100)"
   ]
  },
  {
   "cell_type": "markdown",
   "metadata": {},
   "source": [
    "## utils"
   ]
  },
  {
   "cell_type": "code",
   "execution_count": 3,
   "metadata": {},
   "outputs": [],
   "source": [
    "def read_slide(path):\n",
    "    mat = scipy.io.loadmat(path)\n",
    "    spectral = mat[\"Spec\"]\n",
    "    rgb = mat[\"Section\"]\n",
    "    shape = rgb.shape\n",
    "    \n",
    "    return spectral, rgb"
   ]
  },
  {
   "cell_type": "code",
   "execution_count": 4,
   "metadata": {},
   "outputs": [],
   "source": [
    "def create_batch_of_crops_from_slide(img, window_size, shift, vis_flag=False):\n",
    "    crops = []\n",
    "\n",
    "    n_iter_x = (img.shape[1]-window_size[0])//shift[0] + 1\n",
    "\n",
    "    n_iter_y = (img.shape[0]-window_size[1])//shift[1] + 1\n",
    "\n",
    "#     n_iter_x, n_iter_y\n",
    "\n",
    "    for i in range(n_iter_x):\n",
    "        for j in range(n_iter_y):\n",
    "            init_y = i*shift[0]\n",
    "            init_x = j*shift[1]\n",
    "        \n",
    "            crops.append(img[init_x:init_x+window_size[0], init_y:init_y+window_size[1], :])\n",
    "    if vis_flag:\n",
    "        visualize_batch_of_crops(crops, n_iter_y, n_iter_x)\n",
    "    return crops"
   ]
  },
  {
   "cell_type": "code",
   "execution_count": 5,
   "metadata": {},
   "outputs": [],
   "source": [
    "def visualize_batch_of_crops(crops, n_iter_y, n_iter_x):\n",
    "    fig, axes = plt.subplots(n_iter_y, n_iter_x, figsize=(5, 5), gridspec_kw = {'wspace':0, 'hspace':0})\n",
    "\n",
    "    for i in range(n_iter_x):\n",
    "        for j in range(n_iter_y):\n",
    "            axes[j, i].imshow(crops[i*n_iter_y + j])\n",
    "            axes[j, i].axis('off')\n",
    "            axes[j, i].set_aspect('equal')\n",
    "    plt.show()"
   ]
  },
  {
   "cell_type": "code",
   "execution_count": 6,
   "metadata": {},
   "outputs": [],
   "source": [
    "def create_crops_from_fileslist(fileslist, window_size, shift):\n",
    "    rgb_crops = []\n",
    "    spectral_crops = []\n",
    "    labels = []\n",
    "\n",
    "    for file in tqdm(fileslist):\n",
    "#         file_name = os.path.basename(file)\n",
    "#         print('Saving crops for file {} ...'.format(file_name))\n",
    "#         print(file)\n",
    "        spectral, rgb = read_slide(file)\n",
    "        spectral_crops = create_batch_of_crops_from_slide(spectral, window_size=window_size, shift=shift)\n",
    "        rgb_crops = create_batch_of_crops_from_slide(rgb, window_size=window_size, shift=shift)\n",
    "#         if pos_name_init in file_name:\n",
    "#             labels += [True]*len(added_rgb_crops)\n",
    "#         elif neg_name_init in file_name:\n",
    "#             labels += [False]*len(added_rgb_crops)\n",
    "#         else:\n",
    "#             raise ValueError('File {} is not in the right format ({}-pos, {}-neg)'.format(file_name, pos_name_init, neg_name_init))\n",
    "#         print(labels)\n",
    "        save_dir = file.replace('.mat', '_win{}-{}_shift{}-{}'.format(window_size[0], window_size[1], shift[0], shift[1]))\n",
    "        if not os.path.exists(save_dir):\n",
    "            os.makedirs(save_dir)\n",
    "#         np.save(save_dir+'/Spectral_crops.npy', spectral_crops)\n",
    "#         np.save(file.replace('.mat', '_RGB_win{}-{}_shift{}-{}.npy'.format(window_size[0], window_size[1], shift[0], shift[1])), rgb_crops)\n",
    "        for idx, (im_np, spec_np) in enumerate(zip(rgb_crops, spectral_crops)):\n",
    "            im = Image.fromarray(im_np)\n",
    "            im.save(os.path.join(save_dir, '{:05}.png'.format(idx)))\n",
    "            np.save(os.path.join(save_dir, '{:05}.npy'.format(idx)), spec_np)\n",
    "    \n",
    "#     out_labels = to_categorical(labels)\n",
    "#     out_sepc = np.stack(spectral_crops)\n",
    "#     out_rgb = np.stack(rgb_crops)\n",
    "    \n",
    "    \n",
    "#     return out_sepc, out_rgb, out_labels"
   ]
  },
  {
   "cell_type": "code",
   "execution_count": 7,
   "metadata": {},
   "outputs": [],
   "source": [
    "def create_crops_from_dir(dir_path, window_size, shift):\n",
    "    print('Saving crops for slides in dir: {}'.format(dir_path))\n",
    "    fileslist = glob(dir_path + '/*.mat')\n",
    "    create_crops_from_fileslist(fileslist, window_size, shift)\n",
    "#     return spectral_crops, rgb_crops, labels"
   ]
  },
  {
   "cell_type": "code",
   "execution_count": 35,
   "metadata": {},
   "outputs": [],
   "source": [
    "def create_csv_for_folder(data_dir, ext):\n",
    "    if ext[0] == '.':\n",
    "        ext = ext[1:]\n",
    "    data_df = pd.DataFrame(columns=['filename', 'label'])\n",
    "    files = glob(os.path.join(data_dir,'*', '*.{}'.format(ext)))\n",
    "#     print(data_dir+'/*/*.{}'.format(ext))\n",
    "    \n",
    "    init_len = len(data_dir)\n",
    "    files = [file[init_len:] for file in files]\n",
    "#     print(files)\n",
    "    labels = [1 if pos_name_init in file else 0 for file in files]\n",
    "#     print(labels)\n",
    "    data_df['filename'] = files\n",
    "    data_df['label'] = labels\n",
    "    data_df.to_csv(os.path.join(data_dir, os.path.basename(data_dir)+'.csv'), index=False)\n",
    "    print('Created CSV successfully for folder {}'.format(data_dir))"
   ]
  },
  {
   "cell_type": "markdown",
   "metadata": {},
   "source": [
    "## test and vis"
   ]
  },
  {
   "cell_type": "raw",
   "metadata": {},
   "source": [
    "path = mixed_paths[0]\n",
    "spectral, rgb = read_slide(path)\n",
    "img = rgb\n",
    "\n",
    "crops = create_batch_of_crops_from_slide(img, window_size=window_size, shift=shift, vis_flag=True)"
   ]
  },
  {
   "cell_type": "raw",
   "metadata": {},
   "source": [
    "plt.imshow(img)"
   ]
  },
  {
   "cell_type": "markdown",
   "metadata": {},
   "source": [
    "## prepare data"
   ]
  },
  {
   "cell_type": "raw",
   "metadata": {
    "scrolled": true
   },
   "source": [
    "train_spectral, train_rgb, train_labels = create_crops_from_dir(data_dir+'/Train', window_size=window_size, shift=shift)"
   ]
  },
  {
   "cell_type": "raw",
   "metadata": {
    "scrolled": true
   },
   "source": [
    "test_spectral, test_rgb, test_labels = create_crops_from_dir(data_dir+'/Test', window_size=window_size, shift=shift)\n",
    "eval_spectral, eval_rgb, eval_labels = create_crops_from_dir(data_dir+'/Eval', window_size=window_size, shift=shift)"
   ]
  },
  {
   "cell_type": "raw",
   "metadata": {},
   "source": [
    "create_crops_from_dir(data_dir, window_size=window_size, shift=shift)"
   ]
  },
  {
   "cell_type": "code",
   "execution_count": 37,
   "metadata": {},
   "outputs": [
    {
     "name": "stdout",
     "output_type": "stream",
     "text": [
      "Created CSV successfully for folder E:\\Datasets\\PathoBarIlan/Train\n"
     ]
    }
   ],
   "source": [
    "ext = 'png'\n",
    "split_data_dir = 'E:\\Datasets\\PathoBarIlan'\n",
    "create_csv_for_folder(split_data_dir+'/Train', ext)"
   ]
  },
  {
   "cell_type": "raw",
   "metadata": {},
   "source": [
    "print('Data:')\n",
    "train_pos = train_labels[:,1].sum()\n",
    "eval_pos = eval_labels[:,1].sum()\n",
    "test_pos = test_labels[:,1].sum()\n",
    "\n",
    "print('Train: {}/{} (pos/neg)'.format(train_pos, len(train_labels)-train_pos ))\n",
    "print('Test: {}/{} (pos/neg)'.format(test_pos, len(test_labels)-test_pos ))\n",
    "print('Eval: {}/{} (pos/neg)'.format(eval_pos, len(eval_labels)-eval_pos ))"
   ]
  },
  {
   "cell_type": "markdown",
   "metadata": {},
   "source": [
    "##### old prepare data"
   ]
  },
  {
   "cell_type": "raw",
   "metadata": {},
   "source": [
    "train_pos_spectral_crops, train_pos_rgb_crops = create_crops_from_fileslist(cancer_paths[:-3], window_size=window_size, shift=shift)\n",
    "test_pos_spectral_crops, test_pos_rgb_crops = create_crops_from_fileslist(cancer_paths[-3:-1])\n",
    "val_pos_spectral_crops, val_pos_rgb_crops = create_crops_from_fileslist(cancer_paths[-1:])"
   ]
  },
  {
   "cell_type": "raw",
   "metadata": {},
   "source": [
    "train_neg_spectral_crops, train_neg_rgb_crops = create_crops_from_fileslist(normal_paths[:-2])\n",
    "test_neg_spectral_crops, test_neg_rgb_crops = create_crops_from_fileslist(normal_paths[-2:-1])\n",
    "val_neg_spectral_crops, val_neg_rgb_crops = create_crops_from_fileslist(normal_paths[-1:])"
   ]
  },
  {
   "cell_type": "raw",
   "metadata": {},
   "source": [
    "y_pos_train = [True]*len(train_pos_rgb_crops)\n",
    "y_neg_train = [False]*len(train_neg_rgb_crops)\n",
    "\n",
    "y_pos_test = [True]*len(test_pos_rgb_crops)\n",
    "y_neg_test = [False]*len(test_neg_rgb_crops)\n",
    "\n",
    "y_pos_val = [True]*len(val_pos_rgb_crops)\n",
    "y_neg_val = [False]*len(val_neg_rgb_crops)"
   ]
  },
  {
   "cell_type": "raw",
   "metadata": {},
   "source": [
    "len(test_pos_rgb_crops)"
   ]
  },
  {
   "cell_type": "raw",
   "metadata": {},
   "source": [
    "# train_X_spectral = np.stack(train_pos_spectral_crops + train_neg_spectral_crops)\n",
    "train_X_rgb = np.stack(train_pos_rgb_crops + train_neg_rgb_crops)\n",
    "y_train = np.array(y_pos_train + y_neg_train)\n",
    "\n",
    "# test_X_spectral = np.stack(test_pos_spectral_crops + test_neg_spectral_crops)\n",
    "test_X_rgb = np.stack(test_pos_rgb_crops + test_neg_rgb_crops)\n",
    "y_test = np.array(y_pos_test + y_neg_test)\n",
    "\n",
    "# val_X_spectral = np.stack(val_pos_spectral_crops + val_neg_spectral_crops)\n",
    "val_X_rgb = np.stack(val_pos_rgb_crops + val_neg_rgb_crops)\n",
    "y_val = np.array(y_pos_val + y_neg_val)"
   ]
  },
  {
   "cell_type": "raw",
   "metadata": {},
   "source": [
    "# print(len(y_train))\n",
    "# print(len(train_X_rgb))"
   ]
  },
  {
   "cell_type": "markdown",
   "metadata": {},
   "source": [
    "## build and train model"
   ]
  },
  {
   "cell_type": "code",
   "execution_count": null,
   "metadata": {},
   "outputs": [],
   "source": [
    "if use_rgb:\n",
    "    x_train = train_rgb\n",
    "    x_eval = eval_rgb\n",
    "    x_test = test_rgb\n",
    "else:\n",
    "    x_train = train_spectral\n",
    "    x_eval = eval_spectral\n",
    "    x_test = test_spectral\n",
    "y_train = train_labels\n",
    "y_eval = eval_labels\n",
    "y_test = test_labels"
   ]
  },
  {
   "cell_type": "code",
   "execution_count": null,
   "metadata": {},
   "outputs": [],
   "source": [
    "mobilenet_model = mobilenet.MobileNet(include_top=True, weights=None, input_shape=x_train[0].shape, classes=2, dropout=0.2)"
   ]
  },
  {
   "cell_type": "code",
   "execution_count": null,
   "metadata": {},
   "outputs": [],
   "source": [
    "mobilenet_model.summary()"
   ]
  },
  {
   "cell_type": "code",
   "execution_count": null,
   "metadata": {},
   "outputs": [],
   "source": [
    "optimizer = Adam(lr=1e-3)\n",
    "mobilenet_model.compile(loss=\"binary_crossentropy\", optimizer=optimizer)\n",
    "lrReduce = ReduceLROnPlateau(monitor='val_loss', factor=0.3, patience=4, verbose=1, min_lr=1e-6)\n",
    "chkpnt = ModelCheckpoint(\"my_models/model_spec\", save_best_only=True)"
   ]
  },
  {
   "cell_type": "code",
   "execution_count": null,
   "metadata": {},
   "outputs": [],
   "source": [
    "print(x_train.shape, y_train.shape)\n",
    "print(x_eval.shape, y_eval.shape)"
   ]
  },
  {
   "cell_type": "code",
   "execution_count": null,
   "metadata": {},
   "outputs": [],
   "source": [
    "mobilenet_model.fit(x=x_train, y=y_train, epochs=1000, validation_data=(x_eval, y_eval), batch_size=64, verbose=2, callbacks=[chkpnt, lrReduce], shuffle=True)"
   ]
  },
  {
   "cell_type": "code",
   "execution_count": null,
   "metadata": {},
   "outputs": [],
   "source": [
    "y_pred = mobilenet_model.predict(test_rgb)"
   ]
  },
  {
   "cell_type": "code",
   "execution_count": null,
   "metadata": {},
   "outputs": [],
   "source": [
    "y_pred = y_pred[:, 0]>y_pred[:, 1]"
   ]
  },
  {
   "cell_type": "code",
   "execution_count": null,
   "metadata": {},
   "outputs": [],
   "source": [
    "y_test = y_test[:, 0]>y_test[:, 1]"
   ]
  },
  {
   "cell_type": "code",
   "execution_count": null,
   "metadata": {},
   "outputs": [],
   "source": [
    "(y_test.T[0] != y_pred).sum()"
   ]
  },
  {
   "cell_type": "code",
   "execution_count": null,
   "metadata": {},
   "outputs": [],
   "source": [
    "len(y_test)"
   ]
  },
  {
   "cell_type": "code",
   "execution_count": null,
   "metadata": {},
   "outputs": [],
   "source": []
  }
 ],
 "metadata": {
  "kernelspec": {
   "display_name": "Python [conda env:keras]",
   "language": "python",
   "name": "conda-env-keras-py"
  },
  "language_info": {
   "codemirror_mode": {
    "name": "ipython",
    "version": 3
   },
   "file_extension": ".py",
   "mimetype": "text/x-python",
   "name": "python",
   "nbconvert_exporter": "python",
   "pygments_lexer": "ipython3",
   "version": "3.6.5"
  }
 },
 "nbformat": 4,
 "nbformat_minor": 2
}
