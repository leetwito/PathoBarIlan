{
 "cells": [
  {
   "cell_type": "code",
   "execution_count": 1,
   "metadata": {},
   "outputs": [
    {
     "name": "stderr",
     "output_type": "stream",
     "text": [
      "Using TensorFlow backend.\n"
     ]
    }
   ],
   "source": [
    "import tensorflow\n",
    "import scipy.io \n",
    "import matplotlib.pyplot as plt\n",
    "import cv2\n",
    "import keras\n",
    "from glob import glob\n",
    "import numpy as np\n",
    "from tqdm import tqdm\n",
    "import os\n",
    "from PIL import Image\n",
    "import pandas as pd\n",
    "import cv2\n",
    "\n",
    "import keras_metrics\n",
    "\n",
    "from sklearn.model_selection import KFold\n",
    "# from keras.preprocessing.image import ImageDataGenerator\n",
    "\n",
    "from keras.applications import mobilenet, resnet50 #, vgg16, inception_v3, resnet50, \n",
    "from keras.optimizers import Adam\n",
    "from keras.utils import to_categorical\n",
    "from keras.callbacks import ReduceLROnPlateau, ModelCheckpoint, History\n",
    "\n",
    "from keras.preprocessing.image import load_img\n",
    "from keras.preprocessing.image import img_to_array\n",
    "\n",
    "import logging\n",
    "logging.basicConfig(level=logging.WARNING)\n",
    "# logging.basicConfig(level=logging.DEBUG)\n",
    "\n",
    "# from scikitplot.metrics import plot_roc_curve"
   ]
  },
  {
   "cell_type": "markdown",
   "metadata": {},
   "source": [
    "## Params"
   ]
  },
  {
   "cell_type": "code",
   "execution_count": 2,
   "metadata": {},
   "outputs": [],
   "source": [
    "all_data_dir = '/media/leetwito/DATA/Datasets/PathoBarIlan/Shlomi2018'\n",
    "is_relative_path_csv = False\n",
    "seed = 4221\n",
    "\n",
    "pos_name_init = 'Cancer'\n",
    "neg_name_init = 'Normal'\n",
    "\n",
    "use_rgb = False # True=rgb, False=spectral\n",
    "if use_rgb:\n",
    "    file_ext = '.png'\n",
    "else:\n",
    "    file_ext = '.npy'\n",
    "    \n",
    "window_size = (200, 200)\n",
    "shift = (100, 100)"
   ]
  },
  {
   "cell_type": "code",
   "execution_count": 3,
   "metadata": {},
   "outputs": [],
   "source": [
    "w,h = window_size\n",
    "if use_rgb:\n",
    "    input_shape = (w,h,3)\n",
    "else:\n",
    "    input_shape = (w,h,40)\n",
    "batch_size = 10000"
   ]
  },
  {
   "cell_type": "markdown",
   "metadata": {},
   "source": [
    "## utils"
   ]
  },
  {
   "cell_type": "code",
   "execution_count": 4,
   "metadata": {},
   "outputs": [],
   "source": [
    "def read_slide(path):\n",
    "    mat = scipy.io.loadmat(path)\n",
    "    spectral = mat[\"Spec\"]\n",
    "    rgb = mat[\"Section\"]\n",
    "    shape = rgb.shape\n",
    "    \n",
    "    return spectral, rgb"
   ]
  },
  {
   "cell_type": "code",
   "execution_count": 5,
   "metadata": {},
   "outputs": [],
   "source": [
    "def create_batch_of_crops_from_slide(img, window_size, shift, vis_flag=False):\n",
    "    crops = []\n",
    "\n",
    "    n_iter_x = (img.shape[1]-window_size[0])//shift[0] + 1\n",
    "\n",
    "    n_iter_y = (img.shape[0]-window_size[1])//shift[1] + 1\n",
    "\n",
    "#     n_iter_x, n_iter_y\n",
    "\n",
    "    for i in range(n_iter_x):\n",
    "        for j in range(n_iter_y):\n",
    "            init_y = i*shift[0]\n",
    "            init_x = j*shift[1]\n",
    "        \n",
    "            crops.append(img[init_x:init_x+window_size[0], init_y:init_y+window_size[1], :])\n",
    "    if vis_flag:\n",
    "        visualize_batch_of_crops(crops, n_iter_y, n_iter_x)\n",
    "    return crops"
   ]
  },
  {
   "cell_type": "code",
   "execution_count": 6,
   "metadata": {},
   "outputs": [],
   "source": [
    "def visualize_batch_of_crops(crops, n_iter_y, n_iter_x):\n",
    "    fig, axes = plt.subplots(n_iter_y, n_iter_x, figsize=(5, 5), gridspec_kw = {'wspace':0, 'hspace':0})\n",
    "\n",
    "    for i in range(n_iter_x):\n",
    "        for j in range(n_iter_y):\n",
    "            axes[j, i].imshow(crops[i*n_iter_y + j])\n",
    "            axes[j, i].axis('off')\n",
    "            axes[j, i].set_aspect('equal')\n",
    "    plt.show()"
   ]
  },
  {
   "cell_type": "code",
   "execution_count": 7,
   "metadata": {},
   "outputs": [],
   "source": [
    "def create_crops_from_fileslist(fileslist, window_size, shift):\n",
    "    rgb_crops = []\n",
    "    spectral_crops = []\n",
    "    labels = []\n",
    "\n",
    "    for file in tqdm(fileslist):\n",
    "#         file_name = os.path.basename(file)\n",
    "#         print('Saving crops for file {} ...'.format(file_name))\n",
    "#         print(file)\n",
    "        spectral, rgb = read_slide(file)\n",
    "        spectral_crops = create_batch_of_crops_from_slide(spectral, window_size=window_size, shift=shift)\n",
    "        rgb_crops = create_batch_of_crops_from_slide(rgb, window_size=window_size, shift=shift)\n",
    "        save_dir = file.replace('.mat', '_win{}-{}_shift{}-{}'.format(window_size[0], window_size[1], shift[0], shift[1]))\n",
    "        if not os.path.exists(save_dir):\n",
    "            os.makedirs(save_dir)\n",
    "        for idx, (im_np, spec_np) in enumerate(zip(rgb_crops, spectral_crops)):\n",
    "            im = Image.fromarray(im_np)\n",
    "            im.save(os.path.join(save_dir, '{:05}.png'.format(idx)))\n",
    "            np.save(os.path.join(save_dir, '{:05}.npy'.format(idx)), spec_np)\n"
   ]
  },
  {
   "cell_type": "code",
   "execution_count": 8,
   "metadata": {},
   "outputs": [],
   "source": [
    "def create_crops_from_dir(dir_path, window_size, shift):\n",
    "    print('Saving crops for slides in dir: {}'.format(dir_path))\n",
    "    fileslist = glob(dir_path + '/*.mat')\n",
    "    create_crops_from_fileslist(fileslist, window_size, shift)"
   ]
  },
  {
   "cell_type": "code",
   "execution_count": 9,
   "metadata": {},
   "outputs": [],
   "source": [
    "def create_csv_for_folder(data_dir, ext):\n",
    "    if ext[0] == '.':\n",
    "        ext = ext[1:]\n",
    "    data_df = pd.DataFrame(columns=['filename', 'label'])\n",
    "    files = glob(os.path.join(data_dir,'*', '*.{}'.format(ext)))\n",
    "    files = [file for file in files if \"Mixed\" not in file]\n",
    "#     print(data_dir+'/*/*.{}'.format(ext))\n",
    "    \n",
    "    init_len = len(data_dir)\n",
    "    delete_folder = all_data_dir\n",
    "    if not is_relative_path_csv:\n",
    "        delete_folder = '/'\n",
    "    if not delete_folder[-1] == '/':\n",
    "        delete_folder += '/'\n",
    "    files = [file.replace(delete_folder, '/') for file in files]\n",
    "#     print(files)\n",
    "    labels = [1 if pos_name_init in file else 0 for file in files]\n",
    "#     print(labels)\n",
    "    data_df['filename'] = files\n",
    "    data_df['label'] = labels\n",
    "#     data_df.to_csv(os.path.join(data_dir, os.path.basename(data_dir)+'.csv'), index=False)\n",
    "#     print('Created CSV successfully for folder {}'.format(data_dir))\n",
    "    \n",
    "    return data_df    "
   ]
  },
  {
   "cell_type": "code",
   "execution_count": 10,
   "metadata": {},
   "outputs": [
    {
     "data": {
      "text/plain": [
       "['/media/leetwito/DATA/Datasets/PathoBarIlan/Shlomi2018/Case10/',\n",
       " '/media/leetwito/DATA/Datasets/PathoBarIlan/Shlomi2018/Case11/',\n",
       " '/media/leetwito/DATA/Datasets/PathoBarIlan/Shlomi2018/Case12/',\n",
       " '/media/leetwito/DATA/Datasets/PathoBarIlan/Shlomi2018/Case14/',\n",
       " '/media/leetwito/DATA/Datasets/PathoBarIlan/Shlomi2018/Case16/',\n",
       " '/media/leetwito/DATA/Datasets/PathoBarIlan/Shlomi2018/Case16b/',\n",
       " '/media/leetwito/DATA/Datasets/PathoBarIlan/Shlomi2018/Case17/',\n",
       " '/media/leetwito/DATA/Datasets/PathoBarIlan/Shlomi2018/Case18/',\n",
       " '/media/leetwito/DATA/Datasets/PathoBarIlan/Shlomi2018/Case19484/',\n",
       " '/media/leetwito/DATA/Datasets/PathoBarIlan/Shlomi2018/Case8/']"
      ]
     },
     "execution_count": 10,
     "metadata": {},
     "output_type": "execute_result"
    }
   ],
   "source": [
    "slides = glob(os.path.join(all_data_dir, \"*/\"))\n",
    "slides"
   ]
  },
  {
   "cell_type": "code",
   "execution_count": 11,
   "metadata": {},
   "outputs": [
    {
     "name": "stdout",
     "output_type": "stream",
     "text": [
      "TRAIN: [2 3 4 5 6 7 8 9] TEST: [0 1]\n",
      "TRAIN: [0 1 2 3 5 7 8 9] TEST: [4 6]\n",
      "TRAIN: [0 1 3 4 5 6 7 8] TEST: [2 9]\n",
      "TRAIN: [0 1 2 4 6 7 8 9] TEST: [3 5]\n",
      "TRAIN: [0 1 2 3 4 5 6 9] TEST: [7 8]\n"
     ]
    }
   ],
   "source": [
    "skf = KFold(n_splits=5, shuffle=True, random_state=seed)\n",
    "\n",
    "train_slides_all = []\n",
    "test_slides_all = []\n",
    "val_slides_all = []\n",
    "\n",
    "for train_index, test_index in skf.split(np.arange(len(slides)).T, np.arange(len(slides)).T):\n",
    "    print(\"TRAIN:\", train_index, \"TEST:\", test_index)\n",
    "    train_slides_all.append(train_index)\n",
    "    val_slides_all.append([test_index[0]])\n",
    "    test_slides_all.append([test_index[1]])"
   ]
  },
  {
   "cell_type": "code",
   "execution_count": 12,
   "metadata": {},
   "outputs": [
    {
     "data": {
      "text/plain": [
       "(array([0, 1, 2, 4, 6, 7, 8, 9]), [3], [5])"
      ]
     },
     "execution_count": 12,
     "metadata": {},
     "output_type": "execute_result"
    }
   ],
   "source": [
    "i = 3 # take one of the K-Folds\n",
    "\n",
    "train_index = train_slides_all[i]\n",
    "val_index = val_slides_all[i]\n",
    "test_index = test_slides_all[i]\n",
    "\n",
    "train_index, val_index, test_index"
   ]
  },
  {
   "cell_type": "code",
   "execution_count": 13,
   "metadata": {},
   "outputs": [],
   "source": [
    "def get_dfs_for_indices(slides, index_list):\n",
    "    dfs = []\n",
    "    for slide in np.array(slides)[index_list]:\n",
    "        data_dir = slide\n",
    "        dfs.append(create_csv_for_folder(data_dir, file_ext))\n",
    "    df = pd.concat(dfs, ignore_index=True)\n",
    "    df = df.sample(frac=1, random_state=seed)  # frac=1 is same as shuffling df.\n",
    "    return df"
   ]
  },
  {
   "cell_type": "code",
   "execution_count": 14,
   "metadata": {},
   "outputs": [],
   "source": [
    "df_train = get_dfs_for_indices(slides, train_index)\n",
    "df_test = get_dfs_for_indices(slides, test_index)\n",
    "df_val = get_dfs_for_indices(slides, val_index)"
   ]
  },
  {
   "cell_type": "code",
   "execution_count": null,
   "metadata": {},
   "outputs": [],
   "source": []
  },
  {
   "cell_type": "raw",
   "metadata": {},
   "source": [
    "df_exp = df_train[:5]"
   ]
  },
  {
   "cell_type": "raw",
   "metadata": {},
   "source": [
    "generator = generator_pixels_from_df(df_exp, batch_size)"
   ]
  },
  {
   "cell_type": "raw",
   "metadata": {},
   "source": [
    "for file in df_exp.filename:\n",
    "    print(file)"
   ]
  },
  {
   "cell_type": "raw",
   "metadata": {},
   "source": [
    "X, y = next(generator)\n",
    "X, y"
   ]
  },
  {
   "cell_type": "code",
   "execution_count": null,
   "metadata": {},
   "outputs": [],
   "source": []
  },
  {
   "cell_type": "code",
   "execution_count": 15,
   "metadata": {},
   "outputs": [],
   "source": [
    "def get_number_of_batches_in_epoch(df, batch_size):\n",
    "    input_shape_rgb = (input_shape[0], input_shape[1], 3)\n",
    "    n=0\n",
    "    for _, file in df.iterrows():\n",
    "        if not use_rgb:\n",
    "            file_path = file[0].replace('.npy', '.png')\n",
    "        else:\n",
    "            file_path = file[0]\n",
    "        img = img_to_array(load_img(file_path, target_size=input_shape_rgb))\n",
    "        n+=(get_otsu_treshed_img(img)<1).sum()\n",
    "    return n//batch_size"
   ]
  },
  {
   "cell_type": "raw",
   "metadata": {},
   "source": [
    "df_train.to_csv(os.path.join(all_data_dir, 'train_files.csv'), index=False)\n",
    "df_val.to_csv(os.path.join(all_data_dir, 'val_files.csv'), index=False)\n",
    "df_test.to_csv(os.path.join(all_data_dir, 'test_files.csv'), index=False)"
   ]
  },
  {
   "cell_type": "code",
   "execution_count": 16,
   "metadata": {},
   "outputs": [],
   "source": [
    "pd.options.display.max_colwidth = 150"
   ]
  },
  {
   "cell_type": "code",
   "execution_count": 17,
   "metadata": {},
   "outputs": [
    {
     "name": "stdout",
     "output_type": "stream",
     "text": [
      "2992\n",
      "2992\n",
      "2\n",
      "2\n"
     ]
    }
   ],
   "source": [
    "print(len(df_train.index.values))\n",
    "print(len(set(df_train.index.values)))\n",
    "\n",
    "print(len(df_train.columns.values))\n",
    "print(len(set(df_train.columns.values)))"
   ]
  },
  {
   "cell_type": "code",
   "execution_count": 18,
   "metadata": {},
   "outputs": [],
   "source": [
    "assert len(set(df_train.label.values)) == 2 and len(set(df_val.label.values)) == 2 and len(set(df_test.label.values)) == 2  "
   ]
  },
  {
   "cell_type": "code",
   "execution_count": null,
   "metadata": {},
   "outputs": [],
   "source": [
    "def get_otsu_treshed_img(img):\n",
    "    assert img.max() > 1\n",
    "    x = cv2.cvtColor((img).astype(np.uint8), cv2.COLOR_BGR2GRAY)\n",
    "    x1 = cv2.GaussianBlur(x,(5,5),0)\n",
    "    ret,thr = cv2.threshold(x1,0,255,cv2.THRESH_BINARY+cv2.THRESH_OTSU)\n",
    "#     plot_otsu_triplet(org, threshed)\n",
    "    return thr"
   ]
  },
  {
   "cell_type": "code",
   "execution_count": null,
   "metadata": {},
   "outputs": [],
   "source": [
    "def plot_otsu_triplet(org, thr=None):\n",
    "    gray = cv2.cvtColor(org, cv2.COLOR_BGR2GRAY)\n",
    "    plt.figure(figsize=(15, 8))\n",
    "    plt.subplot(131)\n",
    "    plt.imshow(cv2.cvtColor(org, cv2.COLOR_BGR2RGB))\n",
    "    plt.subplot(132)\n",
    "    plt.imshow(gray, cmap=\"gray\")\n",
    "    plt.subplot(133)\n",
    "    if thr is None:\n",
    "        thr = get_otsu_treshed_img(org)\n",
    "    plt.imshow(thr, cmap=\"gray\")\n",
    "    cv2.destroyAllWindows()"
   ]
  },
  {
   "cell_type": "code",
   "execution_count": null,
   "metadata": {},
   "outputs": [],
   "source": []
  },
  {
   "cell_type": "markdown",
   "metadata": {},
   "source": [
    "####### copying generator_from_df:\n",
    "https://gist.github.com/timehaven/257eef5b0e2d9e2625a9eb812ca2226b#file-akmtdfgen-py"
   ]
  },
  {
   "cell_type": "code",
   "execution_count": null,
   "metadata": {
    "scrolled": true
   },
   "outputs": [],
   "source": [
    "def sample_norm(X):\n",
    "#     X = X - X.min()\n",
    "#     X = X / X.max()\n",
    "#     X = X - 0.5\n",
    "    # print(X.min(), X.max()) -> (-0.5, 0.5)\n",
    "    \n",
    "#     X = X / 255.\n",
    "    return X\n",
    "\n",
    "def generator_pixels_from_df(df, batch_size, shuffle=True): \n",
    "    logging.debug(\"starting iterator\")\n",
    "    while 1: # loop for epochs\n",
    "        logging.debug(\"in epoch-while loop\")\n",
    "        if shuffle:\n",
    "            df = df.sample(frac=1)  # frac=1 is same as shuffling df.\n",
    "\n",
    "        if use_rgb:\n",
    "            cur_sample = np.empty([0, 3])\n",
    "        else:\n",
    "            cur_sample = np.empty([0, 40])\n",
    "        \n",
    "        cur_sample_y = np.empty([0, 1])\n",
    "\n",
    "        for row in df.iterrows(): # loop for files\n",
    "            logging.debug(\"in files-for-loop\")\n",
    "            file = row[1].iloc[0]\n",
    "            y = row[1].iloc[1]\n",
    "            \n",
    "            logging.debug(\"reading file %s\"%file)\n",
    "\n",
    "            input_shape_rgb = (input_shape[0], input_shape[1], 3)\n",
    "            if use_rgb:\n",
    "                rgb_file = file\n",
    "            else:\n",
    "                rgb_file = file.replace('.npy', '.png')\n",
    "                img = np.load(file)\n",
    "            img_rgb = img_to_array(load_img(rgb_file, target_size=input_shape_rgb))\n",
    "            if use_rgb:\n",
    "                img = img_rgb\n",
    "            threshed = get_otsu_treshed_img(img_rgb).flatten()<1\n",
    "            if use_rgb:\n",
    "                img = img.reshape((-1, 3))[threshed]\n",
    "            else:\n",
    "                img = img.reshape((-1, 40))[threshed]\n",
    "                \n",
    "            img = img/img.max(axis=0)\n",
    "            logging.debug(\"n_samples in %d image:\"%(len(img)))\n",
    "        \n",
    "            cur_sample = np.vstack([cur_sample, img])\n",
    "            cur_sample_y = np.vstack([cur_sample_y,  np.expand_dims(np.array(len(img)*[y]), 1)])\n",
    "            logging.debug(\"read img. before entering batches-while-loop: cur_sample: {}, cur_sample_y: {}\".format(str(cur_sample.shape), str(cur_sample_y.shape)))\n",
    "            \n",
    "            while len(cur_sample)>batch_size:\n",
    "                logging.debug(\"in batches-while-loop: leftover: {} samples\".format(len(cur_sample)-batch_size))\n",
    "                logging.debug(\"n zeros: \" + str(to_categorical(cur_sample_y[:batch_size], num_classes=2)[:, 0].sum()))\n",
    "                out_x = np.expand_dims(cur_sample[:batch_size], 1)\n",
    "                out_y = to_categorical(cur_sample_y[:batch_size], num_classes=2)\n",
    "                cur_sample = cur_sample[batch_size:]\n",
    "                cur_sample_y = cur_sample_y[batch_size:]\n",
    "                logging.debug(\"shapes: out_x: %d, cur_sample: %d\"%(out_x.shape[0], cur_sample.shape[0]))\n",
    "                \n",
    "#                 print(\"n zeros: \" + str(to_categorical(cur_sample_y[:batch_size], num_classes=2)[:, 0].sum()))\n",
    "                \n",
    "                yield (out_x, out_y)"
   ]
  },
  {
   "cell_type": "code",
   "execution_count": null,
   "metadata": {},
   "outputs": [],
   "source": [
    "df_train = df_train[:100]"
   ]
  },
  {
   "cell_type": "code",
   "execution_count": null,
   "metadata": {},
   "outputs": [],
   "source": [
    "df_val = df_train\n",
    "df_test = df_train"
   ]
  },
  {
   "cell_type": "code",
   "execution_count": null,
   "metadata": {},
   "outputs": [],
   "source": [
    "STEP_SIZE_TRAIN=get_number_of_batches_in_epoch(df_train, batch_size)\n",
    "STEP_SIZE_VAL=get_number_of_batches_in_epoch(df_val, batch_size)\n",
    "# STEP_SIZE_TEST=get_number_of_batches_in_epoch(df_test, batch_size)"
   ]
  },
  {
   "cell_type": "code",
   "execution_count": null,
   "metadata": {},
   "outputs": [],
   "source": [
    "train_generator = generator_pixels_from_df(df_train, batch_size)\n",
    "val_generator = generator_pixels_from_df(df_val, batch_size)\n",
    "# test_generator = generator_pixels_from_df(df_test, batch_size, shuffle=False)"
   ]
  },
  {
   "cell_type": "code",
   "execution_count": null,
   "metadata": {},
   "outputs": [],
   "source": []
  },
  {
   "cell_type": "code",
   "execution_count": null,
   "metadata": {},
   "outputs": [],
   "source": [
    "# input_shape = train_generator.image_shape\n",
    "# mobilenet_model = mobilenet.MobileNet(include_top=True, weights=None, input_shape=input_shape, classes=2)#, dropout=0.2)\n",
    "# mobilenet_model = resnet50.ResNet50(include_top=True, weights=None, input_shape=input_shape, classes=2)"
   ]
  },
  {
   "cell_type": "raw",
   "metadata": {},
   "source": [
    "# mobilenet_model.add(keras.layers.InputLayer(input_shape=(inp_shape, 1)))\n",
    "# mobilenet_model.add(keras.layers.Flatten())\n",
    "# mobilenet_model.add(keras.layers.Conv1D(filters, 3, activation=\"relu\", padding=\"same\"))\n",
    "for i in range(15):\n",
    "    mobilenet_model.add(keras.layers.Conv1D(filters, 3, activation=\"relu\", padding=\"same\"))\n",
    "# mobilenet_model.add(keras.layers.Dense(16, activation=\"relu\"))\n",
    "mobilenet_model.add(keras.layers.Flatten())\n",
    "mobilenet_model.add(keras.layers.BatchNormalization()) \n",
    "# mobilenet_model.add(keras.layers.Dense(32, input_dim=(inp_shape), activation=\"relu\"))\n",
    "mobilenet_model.add(keras.layers.BatchNormalization())\n",
    "# mobilenet_model.add(keras.layers.Dense(32, activation='relu'))\n",
    "# mobilenet_model.add(keras.layers.Dense(16,activation=\"relu\"))\n",
    "mobilenet_model.add(keras.layers.BatchNormalization())\n",
    "# mobilenet_model.add(keras.layers.Dense(8,activation=\"relu\"))\n",
    "mobilenet_model.add(keras.layers.BatchNormalization())\n",
    "# mobilenet_model.add(keras.layers.Dense(16,activation=\"relu\"))"
   ]
  },
  {
   "cell_type": "code",
   "execution_count": null,
   "metadata": {
    "scrolled": true
   },
   "outputs": [],
   "source": [
    "filters = 10\n",
    "mobilenet_model = keras.Sequential()\n",
    "if use_rgb:\n",
    "    inp_shape = 3\n",
    "else:\n",
    "    inp_shape = 40\n",
    "\n",
    "mobilenet_model.add(keras.layers.InputLayer(input_shape=(1, inp_shape)))\n",
    "mobilenet_model.add(keras.layers.Conv1D(filters, 3, padding='same'))\n",
    "# mobilenet_model.add(keras.layers.Flatten())\n",
    "\n",
    "for i in range(10):\n",
    "    mobilenet_model.add(keras.layers.Conv1D(filters, 3, padding='same'))\n",
    "\n",
    "mobilenet_model.add(keras.layers.Flatten())\n",
    "mobilenet_model.add(keras.layers.Dense(2, activation=\"softmax\"))"
   ]
  },
  {
   "cell_type": "raw",
   "metadata": {},
   "source": [
    "x, y = next(train_generator)\n",
    "x.shape\n",
    "pd.Series(x.flatten()).hist()\n",
    "x.max()\n",
    "(x.flatten()<=512.).sum()\n",
    "# print(y)\n",
    "print(list(set(y[0,:].tolist())))"
   ]
  },
  {
   "cell_type": "code",
   "execution_count": null,
   "metadata": {},
   "outputs": [],
   "source": []
  },
  {
   "cell_type": "code",
   "execution_count": null,
   "metadata": {
    "scrolled": false
   },
   "outputs": [
    {
     "name": "stdout",
     "output_type": "stream",
     "text": [
      "_________________________________________________________________\n",
      "Layer (type)                 Output Shape              Param #   \n",
      "=================================================================\n",
      "conv1d_1 (Conv1D)            (None, 1, 10)             1210      \n",
      "_________________________________________________________________\n",
      "conv1d_2 (Conv1D)            (None, 1, 10)             310       \n",
      "_________________________________________________________________\n",
      "conv1d_3 (Conv1D)            (None, 1, 10)             310       \n",
      "_________________________________________________________________\n",
      "conv1d_4 (Conv1D)            (None, 1, 10)             310       \n",
      "_________________________________________________________________\n",
      "conv1d_5 (Conv1D)            (None, 1, 10)             310       \n",
      "_________________________________________________________________\n",
      "conv1d_6 (Conv1D)            (None, 1, 10)             310       \n",
      "_________________________________________________________________\n",
      "conv1d_7 (Conv1D)            (None, 1, 10)             310       \n",
      "_________________________________________________________________\n",
      "conv1d_8 (Conv1D)            (None, 1, 10)             310       \n",
      "_________________________________________________________________\n",
      "conv1d_9 (Conv1D)            (None, 1, 10)             310       \n",
      "_________________________________________________________________\n",
      "conv1d_10 (Conv1D)           (None, 1, 10)             310       \n",
      "_________________________________________________________________\n",
      "conv1d_11 (Conv1D)           (None, 1, 10)             310       \n",
      "_________________________________________________________________\n",
      "flatten_1 (Flatten)          (None, 10)                0         \n",
      "_________________________________________________________________\n",
      "dense_1 (Dense)              (None, 2)                 22        \n",
      "=================================================================\n",
      "Total params: 4,332\n",
      "Trainable params: 4,332\n",
      "Non-trainable params: 0\n",
      "_________________________________________________________________\n"
     ]
    }
   ],
   "source": [
    "mobilenet_model.summary()"
   ]
  },
  {
   "cell_type": "code",
   "execution_count": null,
   "metadata": {},
   "outputs": [],
   "source": [
    "optimizer = Adam(lr=1e-2) # 1e-3\n",
    "mobilenet_model.compile(loss=\"binary_crossentropy\", optimizer=optimizer, metrics=[keras_metrics.precision(), keras_metrics.recall()]) #  binary_crossentropy , categorical_crossentropy\n",
    "# history = History()\n",
    "lrReduce = ReduceLROnPlateau(monitor='val_loss', factor=0.3, patience=4, verbose=1, min_lr=1e-9)\n",
    "if use_rgb:\n",
    "    chkpnt = ModelCheckpoint(\"my_models/model_otsu_rgb_weights_epoch{epoch:02d}-val_loss{val_loss:.3f}.hdf5\", save_best_only=True) # -train_loss{history.History()[loss][-1]:.2f}\n",
    "else:\n",
    "    chkpnt = ModelCheckpoint(\"my_models/model_otsu_spec_weights_epoch{epoch:02d}-val_loss{val_loss:.3f}.hdf5\", save_best_only=True) # -train_loss{history.History()[loss][-1]:.2f}\n",
    "num_of_epochs = 100"
   ]
  },
  {
   "cell_type": "code",
   "execution_count": null,
   "metadata": {
    "scrolled": false
   },
   "outputs": [
    {
     "name": "stdout",
     "output_type": "stream",
     "text": [
      "Epoch 1/100\n",
      "247/247 [==============================] - 7s 29ms/step - loss: 0.7391 - precision: 0.5426 - recall: 0.8222 - val_loss: 0.6846 - val_precision: 0.5692 - val_recall: 1.0000\n",
      "Epoch 2/100\n",
      "247/247 [==============================] - 6s 24ms/step - loss: 0.6941 - precision: 0.5732 - recall: 0.9498 - val_loss: 0.7022 - val_precision: 0.0000e+00 - val_recall: 0.0000e+00\n",
      "Epoch 3/100\n",
      "247/247 [==============================] - 6s 24ms/step - loss: 0.6994 - precision: 0.5674 - recall: 0.8624 - val_loss: 0.6864 - val_precision: 0.5692 - val_recall: 1.0000\n",
      "Epoch 4/100\n",
      "247/247 [==============================] - 6s 24ms/step - loss: 0.7032 - precision: 0.5472 - recall: 0.9146 - val_loss: 0.6868 - val_precision: 0.5692 - val_recall: 1.0000\n",
      "Epoch 5/100\n",
      "247/247 [==============================] - 6s 24ms/step - loss: 0.6945 - precision: 0.5700 - recall: 1.0000 - val_loss: 0.6841 - val_precision: 0.5692 - val_recall: 1.0000\n",
      "Epoch 6/100\n",
      "247/247 [==============================] - 6s 24ms/step - loss: 0.6905 - precision: 0.5692 - recall: 1.0000 - val_loss: 0.6835 - val_precision: 0.5692 - val_recall: 1.0000\n",
      "Epoch 7/100\n",
      "247/247 [==============================] - 6s 24ms/step - loss: 0.6918 - precision: 0.5692 - recall: 1.0000 - val_loss: 0.6845 - val_precision: 0.5700 - val_recall: 1.0000\n",
      "Epoch 8/100\n",
      "247/247 [==============================] - 6s 24ms/step - loss: 0.6933 - precision: 0.5692 - recall: 1.0000 - val_loss: 0.6861 - val_precision: 0.5692 - val_recall: 1.0000\n",
      "Epoch 9/100\n",
      "247/247 [==============================] - 6s 24ms/step - loss: 0.6952 - precision: 0.5700 - recall: 1.0000 - val_loss: 0.6838 - val_precision: 0.5692 - val_recall: 1.0000\n",
      "Epoch 10/100\n",
      "247/247 [==============================] - 6s 24ms/step - loss: 3.6689 - precision: 0.6056 - recall: 0.6043 - val_loss: 9.1242 - val_precision: 0.0000e+00 - val_recall: 0.0000e+00\n",
      "\n",
      "Epoch 00010: ReduceLROnPlateau reducing learning rate to 0.0029999999329447745.\n",
      "Epoch 11/100\n",
      "247/247 [==============================] - 6s 24ms/step - loss: 9.1242 - precision: 0.0000e+00 - recall: 0.0000e+00 - val_loss: 9.1372 - val_precision: 0.0000e+00 - val_recall: 0.0000e+00\n",
      "Epoch 12/100\n",
      "247/247 [==============================] - 6s 24ms/step - loss: 9.1242 - precision: 0.0000e+00 - recall: 0.0000e+00 - val_loss: 9.1372 - val_precision: 0.0000e+00 - val_recall: 0.0000e+00\n",
      "Epoch 13/100\n",
      "247/247 [==============================] - 6s 24ms/step - loss: 9.1372 - precision: 0.0000e+00 - recall: 0.0000e+00 - val_loss: 9.1372 - val_precision: 0.0000e+00 - val_recall: 0.0000e+00\n",
      "Epoch 14/100\n",
      "247/247 [==============================] - 6s 25ms/step - loss: 9.1242 - precision: 0.0000e+00 - recall: 0.0000e+00 - val_loss: 9.1242 - val_precision: 0.0000e+00 - val_recall: 0.0000e+00\n",
      "\n",
      "Epoch 00014: ReduceLROnPlateau reducing learning rate to 0.0009000000078231095.\n",
      "Epoch 15/100\n",
      "247/247 [==============================] - 6s 24ms/step - loss: 9.1242 - precision: 0.0000e+00 - recall: 0.0000e+00 - val_loss: 9.1372 - val_precision: 0.0000e+00 - val_recall: 0.0000e+00\n",
      "Epoch 16/100\n",
      "247/247 [==============================] - 6s 25ms/step - loss: 9.1372 - precision: 0.0000e+00 - recall: 0.0000e+00 - val_loss: 9.1242 - val_precision: 0.0000e+00 - val_recall: 0.0000e+00\n",
      "Epoch 17/100\n",
      "247/247 [==============================] - 6s 24ms/step - loss: 9.1372 - precision: 0.0000e+00 - recall: 0.0000e+00 - val_loss: 9.1242 - val_precision: 0.0000e+00 - val_recall: 0.0000e+00\n",
      "Epoch 18/100\n",
      "247/247 [==============================] - 6s 25ms/step - loss: 9.1242 - precision: 0.0000e+00 - recall: 0.0000e+00 - val_loss: 9.1242 - val_precision: 0.0000e+00 - val_recall: 0.0000e+00\n",
      "\n",
      "Epoch 00018: ReduceLROnPlateau reducing learning rate to 0.00026999999536201356.\n",
      "Epoch 19/100\n",
      "247/247 [==============================] - 7s 27ms/step - loss: 9.1242 - precision: 0.0000e+00 - recall: 0.0000e+00 - val_loss: 9.1242 - val_precision: 0.0000e+00 - val_recall: 0.0000e+00\n",
      "Epoch 20/100\n",
      "247/247 [==============================] - 6s 24ms/step - loss: 9.1242 - precision: 0.0000e+00 - recall: 0.0000e+00 - val_loss: 9.1242 - val_precision: 0.0000e+00 - val_recall: 0.0000e+00\n",
      "Epoch 21/100\n",
      "247/247 [==============================] - 6s 24ms/step - loss: 9.1242 - precision: 0.0000e+00 - recall: 0.0000e+00 - val_loss: 9.1372 - val_precision: 0.0000e+00 - val_recall: 0.0000e+00\n",
      "Epoch 22/100\n",
      "247/247 [==============================] - 6s 24ms/step - loss: 9.1372 - precision: 0.0000e+00 - recall: 0.0000e+00 - val_loss: 9.1372 - val_precision: 0.0000e+00 - val_recall: 0.0000e+00\n",
      "\n",
      "Epoch 00022: ReduceLROnPlateau reducing learning rate to 8.099999686237424e-05.\n",
      "Epoch 23/100\n",
      "247/247 [==============================] - 6s 24ms/step - loss: 9.1242 - precision: 0.0000e+00 - recall: 0.0000e+00 - val_loss: 9.1242 - val_precision: 0.0000e+00 - val_recall: 0.0000e+00\n",
      "Epoch 24/100\n",
      "247/247 [==============================] - 6s 24ms/step - loss: 9.1242 - precision: 0.0000e+00 - recall: 0.0000e+00 - val_loss: 9.1242 - val_precision: 0.0000e+00 - val_recall: 0.0000e+00\n",
      "Epoch 25/100\n",
      "247/247 [==============================] - 6s 24ms/step - loss: 9.1242 - precision: 0.0000e+00 - recall: 0.0000e+00 - val_loss: 9.1372 - val_precision: 0.0000e+00 - val_recall: 0.0000e+00\n",
      "Epoch 26/100\n",
      "226/247 [==========================>...] - ETA: 0s - loss: 9.5628 - precision: 0.0000e+00 - recall: 0.0000e+00"
     ]
    }
   ],
   "source": [
    "history = mobilenet_model.fit_generator(generator=train_generator,\n",
    "                    steps_per_epoch=STEP_SIZE_TRAIN,\n",
    "                    validation_data=val_generator,\n",
    "                    validation_steps=STEP_SIZE_VAL,\n",
    "                    epochs=num_of_epochs, callbacks=[lrReduce, chkpnt], shuffle=False) # chkp"
   ]
  },
  {
   "cell_type": "code",
   "execution_count": null,
   "metadata": {},
   "outputs": [],
   "source": [
    "# STEP_SIZE_TEST=len(df_test)//batch_size\n",
    "# mobilenet_model.evaluate_generator(train_generator, steps=1)\n",
    "mobilenet_model.evaluate(xxx, yyy)"
   ]
  },
  {
   "cell_type": "code",
   "execution_count": null,
   "metadata": {},
   "outputs": [],
   "source": [
    "# y_pred = mobilenet_model.predict_generator(train_generator, steps=1)\n",
    "y_pred = mobilenet_model.predict(xx)\n",
    "y_pred"
   ]
  },
  {
   "cell_type": "code",
   "execution_count": null,
   "metadata": {
    "scrolled": true
   },
   "outputs": [],
   "source": [
    "y_pred.argmax(axis=1), y_train.values[:, 1].astype(int)"
   ]
  },
  {
   "cell_type": "code",
   "execution_count": null,
   "metadata": {},
   "outputs": [],
   "source": [
    "y_test = df_test['label'][:len(y_pred)].values"
   ]
  },
  {
   "cell_type": "code",
   "execution_count": null,
   "metadata": {},
   "outputs": [],
   "source": [
    "plot_roc_curve(y_test, y_pred)\n",
    "plt.show()"
   ]
  },
  {
   "cell_type": "code",
   "execution_count": null,
   "metadata": {},
   "outputs": [],
   "source": [
    "y_pred = np.argmax(y_pred, axis=1)\n",
    "y_pred.shape"
   ]
  },
  {
   "cell_type": "code",
   "execution_count": null,
   "metadata": {},
   "outputs": [],
   "source": [
    "y_pred.sum()"
   ]
  },
  {
   "cell_type": "code",
   "execution_count": null,
   "metadata": {},
   "outputs": [],
   "source": [
    "\n",
    "y_test.sum()"
   ]
  },
  {
   "cell_type": "code",
   "execution_count": null,
   "metadata": {},
   "outputs": [],
   "source": [
    "(y_pred==y_test).sum()/220"
   ]
  }
 ],
 "metadata": {
  "kernelspec": {
   "display_name": "Python 3",
   "language": "python",
   "name": "python3"
  },
  "language_info": {
   "codemirror_mode": {
    "name": "ipython",
    "version": 3
   },
   "file_extension": ".py",
   "mimetype": "text/x-python",
   "name": "python",
   "nbconvert_exporter": "python",
   "pygments_lexer": "ipython3",
   "version": "3.5.2"
  }
 },
 "nbformat": 4,
 "nbformat_minor": 2
}
